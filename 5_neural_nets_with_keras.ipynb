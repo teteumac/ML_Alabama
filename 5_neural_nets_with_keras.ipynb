{
  "cells": [
    {
      "cell_type": "markdown",
      "metadata": {
        "id": "view-in-github",
        "colab_type": "text"
      },
      "source": [
        "<a href=\"https://colab.research.google.com/github/teteumac/ML_Alabama/blob/main/5_neural_nets_with_keras.ipynb\" target=\"_parent\"><img src=\"https://colab.research.google.com/assets/colab-badge.svg\" alt=\"Open In Colab\"/></a>"
      ]
    },
    {
      "cell_type": "markdown",
      "metadata": {
        "id": "KKbDiiHwB8uH"
      },
      "source": [
        "# Hands On #5"
      ]
    },
    {
      "cell_type": "markdown",
      "metadata": {
        "id": "piBSRAqc96nN"
      },
      "source": [
        "**Chapter 10 – Introduction to Artificial Neural Networks with Keras**"
      ]
    },
    {
      "cell_type": "markdown",
      "metadata": {
        "id": "kfQGHbK-B8uO"
      },
      "source": [
        "<table align=\"left\">\n",
        "  <td>\n",
        "    <a target=\"_blank\" href=\"https://colab.research.google.com/github/UAPH4582/PH482_582_Sp22/blob/main/Exercises/05_neural_nets_with_keras.ipynb\"><img src=\"https://www.tensorflow.org/images/colab_logo_32px.png\" />Run in Google Colab</a>\n",
        "  </td>\n",
        "</table>"
      ]
    },
    {
      "cell_type": "markdown",
      "metadata": {
        "id": "T_DH1YwgB8uR"
      },
      "source": [
        "Due date: 2022-03-07\n",
        "\n",
        "File name convention: For group 42 and memebers Richard Stallman and Linus Torvalds it would be \n",
        "\"05_neural_nets_with_keras_Stallman_Torvalds.pdf\".\n",
        "\n",
        "Submission via blackboard (UA) or Google Form (see notion, LPC).\n",
        "\n",
        "Feel free to answer free text questions in text cells using markdown and possibly $\\LaTeX{}$ if you want to.\n",
        "\n",
        "**You don't have to understand every line of code here and it is not intended for you to try to understand every line of code.   \n",
        "Big blocks of code are usually meant to just be clicked through.**"
      ]
    },
    {
      "cell_type": "markdown",
      "metadata": {
        "id": "C3TTeAuN96nU"
      },
      "source": [
        "# Setup"
      ]
    },
    {
      "cell_type": "code",
      "execution_count": 1,
      "metadata": {
        "id": "y3_Ulmke96nV"
      },
      "outputs": [],
      "source": [
        "import sys\n",
        "assert sys.version_info >= (3, 5)\n",
        "\n",
        "import sklearn\n",
        "assert sklearn.__version__ >= \"0.20\"\n",
        "\n",
        "try:\n",
        "    # %tensorflow_version only exists in Colab.\n",
        "    %tensorflow_version 2.x\n",
        "except Exception:\n",
        "    pass\n",
        "\n",
        "import tensorflow as tf\n",
        "assert tf.__version__ >= \"2.0\"\n",
        "\n",
        "import numpy as np\n",
        "import os\n",
        "\n",
        "np.random.seed(42)\n",
        "\n",
        "%matplotlib inline\n",
        "import matplotlib as mpl\n",
        "import matplotlib.pyplot as plt\n",
        "mpl.rc('axes', labelsize=14)\n",
        "mpl.rc('xtick', labelsize=12)\n",
        "mpl.rc('ytick', labelsize=12)"
      ]
    },
    {
      "cell_type": "markdown",
      "metadata": {
        "id": "AKK8dS-C96nW"
      },
      "source": [
        "# Perceptrons"
      ]
    },
    {
      "cell_type": "markdown",
      "metadata": {
        "id": "T2GbE_Wj96nW"
      },
      "source": [
        "**Note**: we set `max_iter` and `tol` explicitly to avoid warnings about the fact that their default value will change in future versions of Scikit-Learn."
      ]
    },
    {
      "cell_type": "code",
      "execution_count": 2,
      "metadata": {
        "id": "bc419YFJ96nX"
      },
      "outputs": [],
      "source": [
        "import numpy as np\n",
        "from sklearn.datasets import load_iris\n",
        "from sklearn.linear_model import Perceptron\n",
        "\n",
        "iris = load_iris()\n",
        "X = iris.data[:, (2, 3)]  # petal length, petal width\n",
        "y = (iris.target == 0).astype(int)"
      ]
    },
    {
      "cell_type": "markdown",
      "metadata": {
        "id": "Tut21LOA-I2r"
      },
      "source": [
        "### Task 1:\n",
        "Fit the iris dataset into a Perceptron layer and predict the class of a sample with length 2 and width 0.5. \n",
        "\n",
        "Use: \n",
        "`max_iter=1000`, `tol =1e-3` and `random_state= 42`.\n",
        "\n",
        "\n",
        "\n"
      ]
    },
    {
      "cell_type": "markdown",
      "metadata": {
        "id": "nsnymzLuLvm2"
      },
      "source": [
        "↓↓↓↓↓↓↓↓↓↓↓↓↓↓↓↓↓↓↓↓↓↓↓↓↓↓↓↓↓↓↓ your code goes below"
      ]
    },
    {
      "cell_type": "code",
      "execution_count": 3,
      "metadata": {
        "id": "-5wg3vIj3gxL",
        "colab": {
          "base_uri": "https://localhost:8080/"
        },
        "outputId": "5f5e20b1-c155-431a-8494-5ff8c404d97e"
      },
      "outputs": [
        {
          "output_type": "execute_result",
          "data": {
            "text/plain": [
              "Perceptron(random_state=42)"
            ]
          },
          "metadata": {},
          "execution_count": 3
        }
      ],
      "source": [
        "per_clf = Perceptron(max_iter=1000, tol =1e-3, random_state= 42)\n",
        "per_clf.fit(X,y)\n"
      ]
    },
    {
      "cell_type": "code",
      "execution_count": 4,
      "metadata": {
        "id": "RU8nJGQo96nY",
        "colab": {
          "base_uri": "https://localhost:8080/"
        },
        "outputId": "bdad67c6-2dc8-4e3a-dca4-42f25ae6a66d"
      },
      "outputs": [
        {
          "output_type": "execute_result",
          "data": {
            "text/plain": [
              "array([1])"
            ]
          },
          "metadata": {},
          "execution_count": 4
        }
      ],
      "source": [
        "y_pred = per_clf.predict([[2,0.5]])\n",
        "y_pred"
      ]
    },
    {
      "cell_type": "markdown",
      "metadata": {
        "id": "L33GBuxILvm4"
      },
      "source": [
        "↑↑↑↑↑↑↑↑↑↑↑↑↑↑↑↑↑↑↑↑↑↑↑↑↑↑↑↑↑↑↑ your code goes above"
      ]
    },
    {
      "cell_type": "code",
      "execution_count": 5,
      "metadata": {
        "id": "KzqgH5uG96nZ",
        "outputId": "0b580791-8b16-41a4-ee45-40daa12e613e",
        "colab": {
          "base_uri": "https://localhost:8080/",
          "height": 291
        }
      },
      "outputs": [
        {
          "output_type": "display_data",
          "data": {
            "image/png": "[encoded data removed]",
            "text/plain": [
              "<Figure size 720x288 with 1 Axes>"
            ]
          },
          "metadata": {
            "needs_background": "light"
          }
        }
      ],
      "source": [
        "a = -per_clf.coef_[0][0] / per_clf.coef_[0][1]\n",
        "b = -per_clf.intercept_ / per_clf.coef_[0][1]\n",
        "\n",
        "axes = [0, 5, 0, 2]\n",
        "\n",
        "x0, x1 = np.meshgrid(\n",
        "        np.linspace(axes[0], axes[1], 500).reshape(-1, 1),\n",
        "        np.linspace(axes[2], axes[3], 200).reshape(-1, 1),\n",
        "    )\n",
        "X_new = np.c_[x0.ravel(), x1.ravel()]\n",
        "y_predict = per_clf.predict(X_new)\n",
        "zz = y_predict.reshape(x0.shape)\n",
        "\n",
        "plt.figure(figsize=(10, 4))\n",
        "plt.plot(X[y==0, 0], X[y==0, 1], \"bs\", label=\"Not Iris-Setosa\")\n",
        "plt.plot(X[y==1, 0], X[y==1, 1], \"yo\", label=\"Iris-Setosa\")\n",
        "\n",
        "plt.plot([axes[0], axes[1]], [a * axes[0] + b, a * axes[1] + b], \"k-\", linewidth=3)\n",
        "from matplotlib.colors import ListedColormap\n",
        "custom_cmap = ListedColormap(['#9898ff', '#fafab0'])\n",
        "\n",
        "plt.contourf(x0, x1, zz, cmap=custom_cmap)\n",
        "plt.xlabel(\"Petal length\", fontsize=14)\n",
        "plt.ylabel(\"Petal width\", fontsize=14)\n",
        "plt.legend(loc=\"lower right\", fontsize=14)\n",
        "plt.axis(axes)\n",
        "plt.show()"
      ]
    },
    {
      "cell_type": "markdown",
      "metadata": {
        "id": "c7AzNDaU-xOV"
      },
      "source": [
        "### Task 2\n",
        " Elaborate on the difference between a perceptron and logistic regression."
      ]
    },
    {
      "cell_type": "markdown",
      "metadata": {
        "id": "SKoiTy0JB8uj"
      },
      "source": [
        "↓↓↓↓↓↓↓↓↓↓↓↓↓↓↓↓↓↓↓↓↓↓↓↓↓↓↓↓↓↓↓ your code goes below"
      ]
    },
    {
      "cell_type": "markdown",
      "metadata": {
        "id": "WEVqavzaB8uk"
      },
      "source": [
        "Task 2 answer: A Perceptron can only converge if the dataset is linearly separable, while the logistic regression may gives a good solution even if the dataset is not linearly separable. Another point is that the logistic regression also gives the probability of prediction, what is not possible to get with a classical perceptron."
      ]
    },
    {
      "cell_type": "markdown",
      "metadata": {
        "id": "b4LNIp-PB8um"
      },
      "source": [
        "↑↑↑↑↑↑↑↑↑↑↑↑↑↑↑↑↑↑↑↑↑↑↑↑↑↑↑↑↑↑↑ your code goes above"
      ]
    },
    {
      "cell_type": "markdown",
      "metadata": {
        "id": "AZr175SP96na"
      },
      "source": [
        "# Activation functions"
      ]
    },
    {
      "cell_type": "markdown",
      "metadata": {
        "id": "uBhSPTlaDZcE"
      },
      "source": [
        "### Task 3\n",
        " Describe the role of activation functions within a neural network. What would be a neural network without these functions? "
      ]
    },
    {
      "cell_type": "markdown",
      "metadata": {
        "id": "jGKscCN5B8us"
      },
      "source": [
        "↓↓↓↓↓↓↓↓↓↓↓↓↓↓↓↓↓↓↓↓↓↓↓↓↓↓↓↓↓↓↓ your code goes below"
      ]
    },
    {
      "cell_type": "markdown",
      "metadata": {
        "id": "K3Emm0B_B8ut"
      },
      "source": [
        "Task 3 answer: The activation functions plays the role of mapping the output of a neuron (between 0 and 1 or -1 and 1, for example). Using the linear function (which is like not using any activation function) doesn’t help with decreasing the problem complexity or the various parameters of usual data that is fed to the neural networks."
      ]
    },
    {
      "cell_type": "markdown",
      "metadata": {
        "id": "Ybo-LL7uB8uu"
      },
      "source": [
        "↑↑↑↑↑↑↑↑↑↑↑↑↑↑↑↑↑↑↑↑↑↑↑↑↑↑↑↑↑↑↑ your code goes above"
      ]
    },
    {
      "cell_type": "markdown",
      "metadata": {
        "id": "4zZHVAV096nd"
      },
      "source": [
        "# Building an Image Classifier"
      ]
    },
    {
      "cell_type": "markdown",
      "metadata": {
        "id": "D6d_vhWv96nd"
      },
      "source": [
        "First let's import TensorFlow and Keras."
      ]
    },
    {
      "cell_type": "code",
      "execution_count": 6,
      "metadata": {
        "id": "H2XiMCMx96nd"
      },
      "outputs": [],
      "source": [
        "import tensorflow as tf\n",
        "from tensorflow import keras"
      ]
    },
    {
      "cell_type": "markdown",
      "metadata": {
        "id": "0IC001Fj96ne"
      },
      "source": [
        "Let's start by loading the [fashion MNIST](https://github.com/zalandoresearch/fashion-mnist) dataset. Keras has a number of functions to load popular datasets in `keras.datasets`. The dataset is already split for you between a training set and a test set, but it can be useful to split the training set further to have a validation set:"
      ]
    },
    {
      "cell_type": "code",
      "execution_count": 7,
      "metadata": {
        "id": "k1Vd2nar96ne"
      },
      "outputs": [],
      "source": [
        "fashion_mnist = keras.datasets.fashion_mnist\n",
        "(X_train_full, y_train_full), (X_test, y_test) = fashion_mnist.load_data()"
      ]
    },
    {
      "cell_type": "markdown",
      "metadata": {
        "id": "Bm2mJI2v96ne"
      },
      "source": [
        "The training set contains 60,000 grayscale images, each 28x28 pixels:"
      ]
    },
    {
      "cell_type": "code",
      "execution_count": 8,
      "metadata": {
        "id": "mKeNURr096nf",
        "outputId": "32ff06b5-9cad-4493-c3b0-10971c03ad63",
        "colab": {
          "base_uri": "https://localhost:8080/"
        }
      },
      "outputs": [
        {
          "output_type": "execute_result",
          "data": {
            "text/plain": [
              "(60000, 28, 28)"
            ]
          },
          "metadata": {},
          "execution_count": 8
        }
      ],
      "source": [
        "X_train_full.shape"
      ]
    },
    {
      "cell_type": "markdown",
      "metadata": {
        "id": "2q7eH1GS96nf"
      },
      "source": [
        "Each pixel intensity is represented as a byte (0 to 255):"
      ]
    },
    {
      "cell_type": "code",
      "execution_count": 9,
      "metadata": {
        "id": "JpJBj89g96ng",
        "outputId": "e647b5ea-603e-4f75-9f2a-3a9cb65b7741",
        "colab": {
          "base_uri": "https://localhost:8080/"
        }
      },
      "outputs": [
        {
          "output_type": "execute_result",
          "data": {
            "text/plain": [
              "dtype('uint8')"
            ]
          },
          "metadata": {},
          "execution_count": 9
        }
      ],
      "source": [
        "X_train_full.dtype"
      ]
    },
    {
      "cell_type": "markdown",
      "metadata": {
        "id": "up_jreEp96ng"
      },
      "source": [
        "Let's split the full training set into a validation set and a (smaller) training set. We also scale the pixel intensities down to the 0-1 range and convert them to floats, by dividing by 255."
      ]
    },
    {
      "cell_type": "code",
      "execution_count": 10,
      "metadata": {
        "id": "AAZzoYRD96ng"
      },
      "outputs": [],
      "source": [
        "X_valid, X_train = X_train_full[:5000] / 255., X_train_full[5000:] / 255.\n",
        "y_valid, y_train = y_train_full[:5000], y_train_full[5000:]\n",
        "X_test = X_test / 255."
      ]
    },
    {
      "cell_type": "markdown",
      "metadata": {
        "id": "IG-ZXYbM96ng"
      },
      "source": [
        "You can plot an image using Matplotlib's `imshow()` function, with a `'binary'`\n",
        " color map:"
      ]
    },
    {
      "cell_type": "code",
      "execution_count": 11,
      "metadata": {
        "id": "h5qfRYzl96ng",
        "outputId": "3e367265-bc79-439d-ccc7-c568314ccfc0",
        "colab": {
          "base_uri": "https://localhost:8080/",
          "height": 248
        }
      },
      "outputs": [
        {
          "output_type": "display_data",
          "data": {
            "image/png": "[encoded data removed]",
            "text/plain": [
              "<Figure size 432x288 with 1 Axes>"
            ]
          },
          "metadata": {
            "needs_background": "light"
          }
        }
      ],
      "source": [
        "plt.imshow(X_train[0], cmap=\"binary\")\n",
        "plt.axis('off')\n",
        "plt.show()"
      ]
    },
    {
      "cell_type": "markdown",
      "metadata": {
        "id": "0HIhKfBK96nh"
      },
      "source": [
        "The labels are the class IDs (represented as uint8), from 0 to 9:"
      ]
    },
    {
      "cell_type": "code",
      "execution_count": 12,
      "metadata": {
        "id": "CC0hpimX96nh",
        "outputId": "2801e9c7-e244-4dea-bb24-703da8f383ea",
        "colab": {
          "base_uri": "https://localhost:8080/"
        }
      },
      "outputs": [
        {
          "output_type": "execute_result",
          "data": {
            "text/plain": [
              "array([4, 0, 7, ..., 3, 0, 5], dtype=uint8)"
            ]
          },
          "metadata": {},
          "execution_count": 12
        }
      ],
      "source": [
        "y_train"
      ]
    },
    {
      "cell_type": "markdown",
      "metadata": {
        "id": "XuQH9NeY96nh"
      },
      "source": [
        "Here are the corresponding class names:"
      ]
    },
    {
      "cell_type": "code",
      "execution_count": 13,
      "metadata": {
        "id": "6DnDTta596nh"
      },
      "outputs": [],
      "source": [
        "class_names = [\"T-shirt/top\", \"Trouser\", \"Pullover\", \"Dress\", \"Coat\",\n",
        "               \"Sandal\", \"Shirt\", \"Sneaker\", \"Bag\", \"Ankle boot\"]"
      ]
    },
    {
      "cell_type": "markdown",
      "metadata": {
        "id": "7Z3ctcPE96ni"
      },
      "source": [
        "So the first image in the training set is a coat:"
      ]
    },
    {
      "cell_type": "code",
      "execution_count": 14,
      "metadata": {
        "id": "wo3nXTyr96ni",
        "outputId": "022641ef-86b2-4a53-d28c-8e8b4d55e637",
        "colab": {
          "base_uri": "https://localhost:8080/",
          "height": 35
        }
      },
      "outputs": [
        {
          "output_type": "execute_result",
          "data": {
            "application/vnd.google.colaboratory.intrinsic+json": {
              "type": "string"
            },
            "text/plain": [
              "'Coat'"
            ]
          },
          "metadata": {},
          "execution_count": 14
        }
      ],
      "source": [
        "class_names[y_train[0]]"
      ]
    },
    {
      "cell_type": "markdown",
      "metadata": {
        "id": "CSVf64Kv96ni"
      },
      "source": [
        "The validation set contains 5,000 images, and the test set contains 10,000 images:"
      ]
    },
    {
      "cell_type": "code",
      "execution_count": 15,
      "metadata": {
        "id": "r3DPLv7496ni",
        "outputId": "44319301-f91c-4abe-ff73-55761c6aec3d",
        "colab": {
          "base_uri": "https://localhost:8080/"
        }
      },
      "outputs": [
        {
          "output_type": "execute_result",
          "data": {
            "text/plain": [
              "(5000, 28, 28)"
            ]
          },
          "metadata": {},
          "execution_count": 15
        }
      ],
      "source": [
        "X_valid.shape"
      ]
    },
    {
      "cell_type": "code",
      "execution_count": 16,
      "metadata": {
        "id": "oBVt2-n196nj",
        "outputId": "7ac99582-26bd-4a03-d4fc-a25981e5e8f4",
        "colab": {
          "base_uri": "https://localhost:8080/"
        }
      },
      "outputs": [
        {
          "output_type": "execute_result",
          "data": {
            "text/plain": [
              "(10000, 28, 28)"
            ]
          },
          "metadata": {},
          "execution_count": 16
        }
      ],
      "source": [
        "X_test.shape"
      ]
    },
    {
      "cell_type": "markdown",
      "metadata": {
        "id": "cr7f-I2i96nj"
      },
      "source": [
        "Let's take a look at a sample of the images in the dataset:"
      ]
    },
    {
      "cell_type": "code",
      "execution_count": 17,
      "metadata": {
        "id": "OiwEaciG96nj",
        "outputId": "286e41be-28f1-4839-badd-86dbd544649a",
        "colab": {
          "base_uri": "https://localhost:8080/",
          "height": 308
        }
      },
      "outputs": [
        {
          "output_type": "display_data",
          "data": {
            "image/png": "[encoded data removed]",
            "text/plain": [
              "<Figure size 864x345.6 with 40 Axes>"
            ]
          },
          "metadata": {
            "needs_background": "light"
          }
        }
      ],
      "source": [
        "n_rows = 4\n",
        "n_cols = 10\n",
        "plt.figure(figsize=(n_cols * 1.2, n_rows * 1.2))\n",
        "for row in range(n_rows):\n",
        "    for col in range(n_cols):\n",
        "        index = n_cols * row + col\n",
        "        plt.subplot(n_rows, n_cols, index + 1)\n",
        "        plt.imshow(X_train[index], cmap=\"binary\", interpolation=\"nearest\")\n",
        "        plt.axis('off')\n",
        "        plt.title(class_names[y_train[index]], fontsize=12)\n",
        "plt.subplots_adjust(wspace=0.2, hspace=0.5)\n",
        "plt.show()"
      ]
    },
    {
      "cell_type": "markdown",
      "metadata": {
        "id": "t1G5vYM4AEYy"
      },
      "source": [
        "**Training a neural network using Keras:** In the cells below we  build an deep neural network model using Keras Sequential tool. The input is an image of shape 28 by 28. We use a network with 2 hidden layers with 300 and 100 neurons, respectively. The 'softmax' output activation function is used for multi-label classification.  "
      ]
    },
    {
      "cell_type": "code",
      "execution_count": 18,
      "metadata": {
        "id": "MFYpKULg96nk"
      },
      "outputs": [],
      "source": [
        "keras.backend.clear_session()\n",
        "np.random.seed(42)\n",
        "tf.random.set_seed(42)"
      ]
    },
    {
      "cell_type": "code",
      "execution_count": 19,
      "metadata": {
        "id": "nHTrilwL96nk"
      },
      "outputs": [],
      "source": [
        "model = keras.models.Sequential([\n",
        "    keras.layers.Flatten(input_shape=[28, 28]),\n",
        "    keras.layers.Dense(300, activation=\"relu\"),\n",
        "    keras.layers.Dense(100, activation=\"relu\"),\n",
        "    keras.layers.Dense(10, activation=\"softmax\")\n",
        "])"
      ]
    },
    {
      "cell_type": "code",
      "execution_count": 20,
      "metadata": {
        "id": "S6wLCkUc96nk",
        "outputId": "e20a4c58-05a4-4281-ffc0-e5492f6cf74e",
        "colab": {
          "base_uri": "https://localhost:8080/"
        }
      },
      "outputs": [
        {
          "output_type": "stream",
          "name": "stdout",
          "text": [
            "Model: \"sequential\"\n",
            "_________________________________________________________________\n",
            " Layer (type)                Output Shape              Param #   \n",
            "=================================================================\n",
            " flatten (Flatten)           (None, 784)               0         \n",
            "                                                                 \n",
            " dense (Dense)               (None, 300)               235500    \n",
            "                                                                 \n",
            " dense_1 (Dense)             (None, 100)               30100     \n",
            "                                                                 \n",
            " dense_2 (Dense)             (None, 10)                1010      \n",
            "                                                                 \n",
            "=================================================================\n",
            "Total params: 266,610\n",
            "Trainable params: 266,610\n",
            "Non-trainable params: 0\n",
            "_________________________________________________________________\n"
          ]
        }
      ],
      "source": [
        "model.summary()"
      ]
    },
    {
      "cell_type": "code",
      "execution_count": 21,
      "metadata": {
        "id": "rt04f4Ug96nl",
        "outputId": "06fa98ab-732f-4fd6-cf67-bc7823b56048",
        "colab": {
          "base_uri": "https://localhost:8080/",
          "height": 533
        }
      },
      "outputs": [
        {
          "output_type": "execute_result",
          "data": {
            "image/png": "[encoded data removed]",
            "text/plain": [
              "<IPython.core.display.Image object>"
            ]
          },
          "metadata": {},
          "execution_count": 21
        }
      ],
      "source": [
        "keras.utils.plot_model(model, show_shapes=True)"
      ]
    },
    {
      "cell_type": "markdown",
      "metadata": {
        "id": "AI2_bJRdB8vA"
      },
      "source": [
        "We can look at the layers directly:"
      ]
    },
    {
      "cell_type": "code",
      "execution_count": 22,
      "metadata": {
        "id": "1qCJodZaB8vA",
        "outputId": "640e9984-03d8-41bd-fb0f-f83160f077fd",
        "colab": {
          "base_uri": "https://localhost:8080/",
          "height": 35
        }
      },
      "outputs": [
        {
          "output_type": "execute_result",
          "data": {
            "application/vnd.google.colaboratory.intrinsic+json": {
              "type": "string"
            },
            "text/plain": [
              "'dense'"
            ]
          },
          "metadata": {},
          "execution_count": 22
        }
      ],
      "source": [
        "hidden1 = model.layers[1]\n",
        "hidden1.name"
      ]
    },
    {
      "cell_type": "code",
      "execution_count": 23,
      "metadata": {
        "id": "KVQqeMeS96nl",
        "outputId": "db14b161-f448-4a57-b113-43789ca47a76",
        "colab": {
          "base_uri": "https://localhost:8080/"
        }
      },
      "outputs": [
        {
          "output_type": "execute_result",
          "data": {
            "text/plain": [
              "True"
            ]
          },
          "metadata": {},
          "execution_count": 23
        }
      ],
      "source": [
        "model.get_layer(hidden1.name) is hidden1"
      ]
    },
    {
      "cell_type": "code",
      "execution_count": 24,
      "metadata": {
        "id": "eR5m6LjX96nl"
      },
      "outputs": [],
      "source": [
        "weights, biases = hidden1.get_weights()"
      ]
    },
    {
      "cell_type": "code",
      "execution_count": 25,
      "metadata": {
        "id": "ETO_Mi2f96nm",
        "outputId": "c71b2214-01cf-4058-b30b-f20d14c10b1e",
        "colab": {
          "base_uri": "https://localhost:8080/"
        }
      },
      "outputs": [
        {
          "output_type": "execute_result",
          "data": {
            "text/plain": [
              "array([[ 0.02448617, -0.00877795, -0.02189048, ..., -0.02766046,\n",
              "         0.03859074, -0.06889391],\n",
              "       [ 0.00476504, -0.03105379, -0.0586676 , ...,  0.00602964,\n",
              "        -0.02763776, -0.04165364],\n",
              "       [-0.06189284, -0.06901957,  0.07102345, ..., -0.04238207,\n",
              "         0.07121518, -0.07331658],\n",
              "       ...,\n",
              "       [-0.03048757,  0.02155137, -0.05400612, ..., -0.00113463,\n",
              "         0.00228987,  0.05581069],\n",
              "       [ 0.07061854, -0.06960931,  0.07038955, ..., -0.00384101,\n",
              "         0.00034875,  0.02878492],\n",
              "       [-0.06022581,  0.01577859, -0.02585464, ..., -0.00527829,\n",
              "         0.00272203, -0.06793761]], dtype=float32)"
            ]
          },
          "metadata": {},
          "execution_count": 25
        }
      ],
      "source": [
        "weights"
      ]
    },
    {
      "cell_type": "code",
      "execution_count": 26,
      "metadata": {
        "id": "i-AWFPWX96nm",
        "outputId": "62e09223-e4de-42c9-9245-b83e884a0666",
        "colab": {
          "base_uri": "https://localhost:8080/"
        }
      },
      "outputs": [
        {
          "output_type": "execute_result",
          "data": {
            "text/plain": [
              "(784, 300)"
            ]
          },
          "metadata": {},
          "execution_count": 26
        }
      ],
      "source": [
        "weights.shape"
      ]
    },
    {
      "cell_type": "code",
      "execution_count": 27,
      "metadata": {
        "colab": {
          "base_uri": "https://localhost:8080/"
        },
        "id": "qb7RJWWg96nm",
        "outputId": "e5d44d80-e912-4f1f-c8bd-967d9e20d53c"
      },
      "outputs": [
        {
          "output_type": "execute_result",
          "data": {
            "text/plain": [
              "array([0., 0., 0., 0., 0., 0., 0., 0., 0., 0., 0., 0., 0., 0., 0., 0., 0.,\n",
              "       0., 0., 0., 0., 0., 0., 0., 0., 0., 0., 0., 0., 0., 0., 0., 0., 0.,\n",
              "       0., 0., 0., 0., 0., 0., 0., 0., 0., 0., 0., 0., 0., 0., 0., 0., 0.,\n",
              "       0., 0., 0., 0., 0., 0., 0., 0., 0., 0., 0., 0., 0., 0., 0., 0., 0.,\n",
              "       0., 0., 0., 0., 0., 0., 0., 0., 0., 0., 0., 0., 0., 0., 0., 0., 0.,\n",
              "       0., 0., 0., 0., 0., 0., 0., 0., 0., 0., 0., 0., 0., 0., 0., 0., 0.,\n",
              "       0., 0., 0., 0., 0., 0., 0., 0., 0., 0., 0., 0., 0., 0., 0., 0., 0.,\n",
              "       0., 0., 0., 0., 0., 0., 0., 0., 0., 0., 0., 0., 0., 0., 0., 0., 0.,\n",
              "       0., 0., 0., 0., 0., 0., 0., 0., 0., 0., 0., 0., 0., 0., 0., 0., 0.,\n",
              "       0., 0., 0., 0., 0., 0., 0., 0., 0., 0., 0., 0., 0., 0., 0., 0., 0.,\n",
              "       0., 0., 0., 0., 0., 0., 0., 0., 0., 0., 0., 0., 0., 0., 0., 0., 0.,\n",
              "       0., 0., 0., 0., 0., 0., 0., 0., 0., 0., 0., 0., 0., 0., 0., 0., 0.,\n",
              "       0., 0., 0., 0., 0., 0., 0., 0., 0., 0., 0., 0., 0., 0., 0., 0., 0.,\n",
              "       0., 0., 0., 0., 0., 0., 0., 0., 0., 0., 0., 0., 0., 0., 0., 0., 0.,\n",
              "       0., 0., 0., 0., 0., 0., 0., 0., 0., 0., 0., 0., 0., 0., 0., 0., 0.,\n",
              "       0., 0., 0., 0., 0., 0., 0., 0., 0., 0., 0., 0., 0., 0., 0., 0., 0.,\n",
              "       0., 0., 0., 0., 0., 0., 0., 0., 0., 0., 0., 0., 0., 0., 0., 0., 0.,\n",
              "       0., 0., 0., 0., 0., 0., 0., 0., 0., 0., 0.], dtype=float32)"
            ]
          },
          "metadata": {},
          "execution_count": 27
        }
      ],
      "source": [
        "biases"
      ]
    },
    {
      "cell_type": "code",
      "execution_count": 28,
      "metadata": {
        "id": "SRfITXCA96nm",
        "outputId": "d6730d17-238f-4680-ef56-776ac273c39f",
        "colab": {
          "base_uri": "https://localhost:8080/"
        }
      },
      "outputs": [
        {
          "output_type": "execute_result",
          "data": {
            "text/plain": [
              "(300,)"
            ]
          },
          "metadata": {},
          "execution_count": 28
        }
      ],
      "source": [
        "biases.shape"
      ]
    },
    {
      "cell_type": "markdown",
      "metadata": {
        "id": "pDu2dLD8BbeJ"
      },
      "source": [
        "**Compilation:**  \n",
        "We compile the model using the \"sparse_categorical_crossentropy\" loss function and \"accuracy\" as metric for a multi-label classification task. In addition, we choose the \"sgd\" optimizer."
      ]
    },
    {
      "cell_type": "code",
      "execution_count": 29,
      "metadata": {
        "id": "Iha1BNF296nn"
      },
      "outputs": [],
      "source": [
        "model.compile(loss=\"sparse_categorical_crossentropy\",\n",
        "              optimizer=\"sgd\",\n",
        "              metrics=[\"accuracy\"])"
      ]
    },
    {
      "cell_type": "markdown",
      "metadata": {
        "id": "Z01D2HtY6B4r"
      },
      "source": [
        "Now let's train the model for 30 epochs.\n",
        "\n",
        "We save the most crucial parameters (['loss', 'accuracy', 'val_loss', 'val_accuracy']) in a dictionary named \"history\". "
      ]
    },
    {
      "cell_type": "code",
      "execution_count": 30,
      "metadata": {
        "id": "niNnbD7U96no",
        "colab": {
          "base_uri": "https://localhost:8080/"
        },
        "outputId": "fbf9205c-bc52-4a7b-88d0-eca530958e8e"
      },
      "outputs": [
        {
          "output_type": "stream",
          "name": "stdout",
          "text": [
            "Epoch 1/30\n",
            "1719/1719 [==============================] - 10s 5ms/step - loss: 0.7239 - accuracy: 0.7643 - val_loss: 0.5219 - val_accuracy: 0.8206\n",
            "Epoch 2/30\n",
            "1719/1719 [==============================] - 10s 6ms/step - loss: 0.4842 - accuracy: 0.8321 - val_loss: 0.4351 - val_accuracy: 0.8524\n",
            "Epoch 3/30\n",
            "1719/1719 [==============================] - 10s 6ms/step - loss: 0.4389 - accuracy: 0.8455 - val_loss: 0.5359 - val_accuracy: 0.7968\n",
            "Epoch 4/30\n",
            "1719/1719 [==============================] - 8s 5ms/step - loss: 0.4121 - accuracy: 0.8562 - val_loss: 0.3925 - val_accuracy: 0.8650\n",
            "Epoch 5/30\n",
            "1719/1719 [==============================] - 6s 3ms/step - loss: 0.3937 - accuracy: 0.8619 - val_loss: 0.3750 - val_accuracy: 0.8692\n",
            "Epoch 6/30\n",
            "1719/1719 [==============================] - 6s 3ms/step - loss: 0.3750 - accuracy: 0.8677 - val_loss: 0.3716 - val_accuracy: 0.8726\n",
            "Epoch 7/30\n",
            "1719/1719 [==============================] - 6s 3ms/step - loss: 0.3631 - accuracy: 0.8711 - val_loss: 0.3622 - val_accuracy: 0.8712\n",
            "Epoch 8/30\n",
            "1719/1719 [==============================] - 6s 3ms/step - loss: 0.3516 - accuracy: 0.8747 - val_loss: 0.3843 - val_accuracy: 0.8618\n",
            "Epoch 9/30\n",
            "1719/1719 [==============================] - 6s 3ms/step - loss: 0.3414 - accuracy: 0.8790 - val_loss: 0.3604 - val_accuracy: 0.8698\n",
            "Epoch 10/30\n",
            "1719/1719 [==============================] - 6s 4ms/step - loss: 0.3320 - accuracy: 0.8824 - val_loss: 0.3429 - val_accuracy: 0.8782\n",
            "Epoch 11/30\n",
            "1719/1719 [==============================] - 6s 3ms/step - loss: 0.3240 - accuracy: 0.8835 - val_loss: 0.3439 - val_accuracy: 0.8780\n",
            "Epoch 12/30\n",
            "1719/1719 [==============================] - 6s 3ms/step - loss: 0.3148 - accuracy: 0.8867 - val_loss: 0.3314 - val_accuracy: 0.8818\n",
            "Epoch 13/30\n",
            "1719/1719 [==============================] - 6s 3ms/step - loss: 0.3080 - accuracy: 0.8893 - val_loss: 0.3273 - val_accuracy: 0.8860\n",
            "Epoch 14/30\n",
            "1719/1719 [==============================] - 6s 3ms/step - loss: 0.3020 - accuracy: 0.8915 - val_loss: 0.3420 - val_accuracy: 0.8760\n",
            "Epoch 15/30\n",
            "1719/1719 [==============================] - 6s 3ms/step - loss: 0.2946 - accuracy: 0.8938 - val_loss: 0.3211 - val_accuracy: 0.8854\n",
            "Epoch 16/30\n",
            "1719/1719 [==============================] - 6s 3ms/step - loss: 0.2891 - accuracy: 0.8970 - val_loss: 0.3091 - val_accuracy: 0.8896\n",
            "Epoch 17/30\n",
            "1719/1719 [==============================] - 6s 3ms/step - loss: 0.2840 - accuracy: 0.8973 - val_loss: 0.3571 - val_accuracy: 0.8738\n",
            "Epoch 18/30\n",
            "1719/1719 [==============================] - 6s 3ms/step - loss: 0.2778 - accuracy: 0.9001 - val_loss: 0.3133 - val_accuracy: 0.8898\n",
            "Epoch 19/30\n",
            "1719/1719 [==============================] - 6s 3ms/step - loss: 0.2728 - accuracy: 0.9023 - val_loss: 0.3121 - val_accuracy: 0.8902\n",
            "Epoch 20/30\n",
            "1719/1719 [==============================] - 6s 3ms/step - loss: 0.2673 - accuracy: 0.9035 - val_loss: 0.3298 - val_accuracy: 0.8824\n",
            "Epoch 21/30\n",
            "1719/1719 [==============================] - 6s 4ms/step - loss: 0.2626 - accuracy: 0.9051 - val_loss: 0.3069 - val_accuracy: 0.8930\n",
            "Epoch 22/30\n",
            "1719/1719 [==============================] - 6s 3ms/step - loss: 0.2577 - accuracy: 0.9068 - val_loss: 0.2980 - val_accuracy: 0.8962\n",
            "Epoch 23/30\n",
            "1719/1719 [==============================] - 6s 3ms/step - loss: 0.2536 - accuracy: 0.9085 - val_loss: 0.2989 - val_accuracy: 0.8926\n",
            "Epoch 24/30\n",
            "1719/1719 [==============================] - 7s 4ms/step - loss: 0.2483 - accuracy: 0.9102 - val_loss: 0.3083 - val_accuracy: 0.8882\n",
            "Epoch 25/30\n",
            "1719/1719 [==============================] - 6s 3ms/step - loss: 0.2442 - accuracy: 0.9123 - val_loss: 0.2980 - val_accuracy: 0.8940\n",
            "Epoch 26/30\n",
            "1719/1719 [==============================] - 6s 3ms/step - loss: 0.2407 - accuracy: 0.9135 - val_loss: 0.3072 - val_accuracy: 0.8890\n",
            "Epoch 27/30\n",
            "1719/1719 [==============================] - 6s 3ms/step - loss: 0.2363 - accuracy: 0.9159 - val_loss: 0.3026 - val_accuracy: 0.8962\n",
            "Epoch 28/30\n",
            "1719/1719 [==============================] - 6s 3ms/step - loss: 0.2326 - accuracy: 0.9164 - val_loss: 0.2991 - val_accuracy: 0.8952\n",
            "Epoch 29/30\n",
            "1719/1719 [==============================] - 6s 3ms/step - loss: 0.2286 - accuracy: 0.9184 - val_loss: 0.3060 - val_accuracy: 0.8898\n",
            "Epoch 30/30\n",
            "1719/1719 [==============================] - 9s 5ms/step - loss: 0.2250 - accuracy: 0.9195 - val_loss: 0.3012 - val_accuracy: 0.8906\n"
          ]
        }
      ],
      "source": [
        "history = model.fit(X_train, y_train, epochs=30,\n",
        "                    validation_data=(X_valid, y_valid))"
      ]
    },
    {
      "cell_type": "code",
      "execution_count": 31,
      "metadata": {
        "id": "7ZsFB62z96no",
        "outputId": "5b38c020-2571-4f0d-9455-f38fa4d18e72",
        "colab": {
          "base_uri": "https://localhost:8080/"
        }
      },
      "outputs": [
        {
          "output_type": "execute_result",
          "data": {
            "text/plain": [
              "{'epochs': 30, 'steps': 1719, 'verbose': 1}"
            ]
          },
          "metadata": {},
          "execution_count": 31
        }
      ],
      "source": [
        "history.params"
      ]
    },
    {
      "cell_type": "code",
      "execution_count": 32,
      "metadata": {
        "id": "FdaUfmYb96np",
        "outputId": "30ff03fd-2870-4224-b9b6-d585c8b0ed0a",
        "colab": {
          "base_uri": "https://localhost:8080/"
        }
      },
      "outputs": [
        {
          "output_type": "stream",
          "name": "stdout",
          "text": [
            "[0, 1, 2, 3, 4, 5, 6, 7, 8, 9, 10, 11, 12, 13, 14, 15, 16, 17, 18, 19, 20, 21, 22, 23, 24, 25, 26, 27, 28, 29]\n"
          ]
        }
      ],
      "source": [
        "print(history.epoch)"
      ]
    },
    {
      "cell_type": "code",
      "execution_count": 33,
      "metadata": {
        "id": "O3tukEej96np",
        "outputId": "fb4e2b2e-6d5b-43ec-8020-8061f1485c14",
        "colab": {
          "base_uri": "https://localhost:8080/"
        }
      },
      "outputs": [
        {
          "output_type": "execute_result",
          "data": {
            "text/plain": [
              "dict_keys(['loss', 'accuracy', 'val_loss', 'val_accuracy'])"
            ]
          },
          "metadata": {},
          "execution_count": 33
        }
      ],
      "source": [
        "history.history.keys()"
      ]
    },
    {
      "cell_type": "code",
      "execution_count": 34,
      "metadata": {
        "id": "CCv_GPMi96np",
        "outputId": "17ffb52d-c5c7-4192-c4c8-7b2dc06cc46d",
        "colab": {
          "base_uri": "https://localhost:8080/",
          "height": 328
        }
      },
      "outputs": [
        {
          "output_type": "display_data",
          "data": {
            "image/png": "[encoded data removed]",
            "text/plain": [
              "<Figure size 576x360 with 1 Axes>"
            ]
          },
          "metadata": {
            "needs_background": "light"
          }
        }
      ],
      "source": [
        "import pandas as pd\n",
        "\n",
        "pd.DataFrame(history.history).plot(figsize=(8, 5))\n",
        "plt.grid(True)\n",
        "plt.gca().set_ylim(0, 1)\n",
        "plt.show()"
      ]
    },
    {
      "cell_type": "markdown",
      "metadata": {
        "id": "p2WdGqAlC0bm"
      },
      "source": [
        "### Task 4\n",
        " Validate your model using `model.evaluate` on the test set made of `X_test` and `y_test`. "
      ]
    },
    {
      "cell_type": "markdown",
      "metadata": {
        "id": "Vb26ET7dB8vQ"
      },
      "source": [
        "↓↓↓↓↓↓↓↓↓↓↓↓↓↓↓↓↓↓↓↓↓↓↓↓↓↓↓↓↓↓↓ your code goes below"
      ]
    },
    {
      "cell_type": "code",
      "execution_count": 35,
      "metadata": {
        "id": "ZfC_sLA_96nq",
        "colab": {
          "base_uri": "https://localhost:8080/"
        },
        "outputId": "e72b9580-4c5b-4f75-f85a-dbdf49a00217"
      },
      "outputs": [
        {
          "output_type": "stream",
          "name": "stdout",
          "text": [
            "313/313 [==============================] - 2s 5ms/step - loss: 0.3342 - accuracy: 0.8831\n"
          ]
        },
        {
          "output_type": "execute_result",
          "data": {
            "text/plain": [
              "[0.3342256247997284, 0.8830999732017517]"
            ]
          },
          "metadata": {},
          "execution_count": 35
        }
      ],
      "source": [
        "# evaluate model on  test set\n",
        "model.evaluate(X_test,y_test)"
      ]
    },
    {
      "cell_type": "markdown",
      "metadata": {
        "id": "i9Q9TgwMB8vR"
      },
      "source": [
        "↑↑↑↑↑↑↑↑↑↑↑↑↑↑↑↑↑↑↑↑↑↑↑↑↑↑↑↑↑↑↑ your code goes above"
      ]
    },
    {
      "cell_type": "markdown",
      "metadata": {
        "id": "zM8ssoN0FjYS"
      },
      "source": [
        "### Task 5\n",
        " Select the first three samples from the test set and predict their corresponding classes using model.predict_classes . Then print the names/categories of the elements in  question (Eg. \"Pants\", \"trouser\") \n",
        "\n",
        "Hint: With `model.predict(...)` you can get the predictions in a [one-hot-encoded](https://machinelearningmastery.com/why-one-hot-encode-data-in-machine-learning/) format.\n",
        "Use `np.argmax(prediction, axis=-1)` on the one-hot-encoded predictons to get the class numbers."
      ]
    },
    {
      "cell_type": "code",
      "execution_count": 36,
      "metadata": {
        "id": "7C0en5Jk96nq"
      },
      "outputs": [],
      "source": [
        "X_new = X_test[:3]"
      ]
    },
    {
      "cell_type": "markdown",
      "metadata": {
        "id": "6p5Pu_3TB8vR"
      },
      "source": [
        "↓↓↓↓↓↓↓↓↓↓↓↓↓↓↓↓↓↓↓↓↓↓↓↓↓↓↓↓↓↓↓ your code goes below"
      ]
    },
    {
      "cell_type": "code",
      "execution_count": 37,
      "metadata": {
        "id": "iVCDjMFXB8vS"
      },
      "outputs": [],
      "source": [
        "y_pred = model.predict(X_new)\n",
        "y_pred = np.argmax(y_pred, axis=-1)"
      ]
    },
    {
      "cell_type": "markdown",
      "metadata": {
        "id": "VELFMgcfB8vS"
      },
      "source": [
        "↑↑↑↑↑↑↑↑↑↑↑↑↑↑↑↑↑↑↑↑↑↑↑↑↑↑↑↑↑↑↑ your code goes above"
      ]
    },
    {
      "cell_type": "code",
      "execution_count": 38,
      "metadata": {
        "id": "0zw1YtR9B8vS",
        "outputId": "d925cd00-ee88-4b4b-e91f-fce1bae70143",
        "colab": {
          "base_uri": "https://localhost:8080/"
        }
      },
      "outputs": [
        {
          "output_type": "execute_result",
          "data": {
            "text/plain": [
              "array([9, 2, 1], dtype=uint8)"
            ]
          },
          "metadata": {},
          "execution_count": 38
        }
      ],
      "source": [
        "y_test[0:3]"
      ]
    },
    {
      "cell_type": "code",
      "execution_count": 39,
      "metadata": {
        "id": "MloueY3o96nr",
        "outputId": "273e2428-2407-4a01-c0ee-810f17340dc2",
        "colab": {
          "base_uri": "https://localhost:8080/",
          "height": 165
        }
      },
      "outputs": [
        {
          "output_type": "display_data",
          "data": {
            "image/png": "[encoded data removed]",
            "text/plain": [
              "<Figure size 518.4x172.8 with 3 Axes>"
            ]
          },
          "metadata": {
            "needs_background": "light"
          }
        }
      ],
      "source": [
        "plt.figure(figsize=(7.2, 2.4))\n",
        "for index, image in enumerate(X_new):\n",
        "    plt.subplot(1, 3, index + 1)\n",
        "    plt.imshow(image, cmap=\"binary\", interpolation=\"nearest\")\n",
        "    plt.axis('off')\n",
        "    plt.title(class_names[y_test[index]], fontsize=12)\n",
        "plt.subplots_adjust(wspace=0.2, hspace=0.5)\n",
        "plt.show()"
      ]
    },
    {
      "cell_type": "markdown",
      "metadata": {
        "id": "wdQPEnaa96nr"
      },
      "source": [
        "# Regression MLP"
      ]
    },
    {
      "cell_type": "markdown",
      "metadata": {
        "id": "qMxzRNLS96ns"
      },
      "source": [
        "Let's load, split and scale the California housing dataset."
      ]
    },
    {
      "cell_type": "code",
      "execution_count": 40,
      "metadata": {
        "id": "ZJ3bFpfU96ns"
      },
      "outputs": [],
      "source": [
        "from sklearn.datasets import fetch_california_housing\n",
        "from sklearn.model_selection import train_test_split\n",
        "from sklearn.preprocessing import StandardScaler\n",
        "\n",
        "housing = fetch_california_housing()\n",
        "\n",
        "X_train_full, X_test, y_train_full, y_test = train_test_split(housing.data, housing.target, random_state=42)\n",
        "X_train, X_valid, y_train, y_valid = train_test_split(X_train_full, y_train_full, random_state=42)\n"
      ]
    },
    {
      "cell_type": "markdown",
      "metadata": {
        "id": "wJiLPiB5Gzht"
      },
      "source": [
        "### Task 6\n",
        " Scale your training, validation and test feature matrices using scikitlearn's [StandardScaler](https://scikit-learn.org/stable/modules/generated/sklearn.preprocessing.StandardScaler.html)."
      ]
    },
    {
      "cell_type": "markdown",
      "metadata": {
        "id": "k429io4zB8vV"
      },
      "source": [
        "↓↓↓↓↓↓↓↓↓↓↓↓↓↓↓↓↓↓↓↓↓↓↓↓↓↓↓↓↓↓↓ your code goes below"
      ]
    },
    {
      "cell_type": "code",
      "execution_count": 41,
      "metadata": {
        "id": "O0ehUJYh7Dcw"
      },
      "outputs": [],
      "source": [
        "scaler = StandardScaler()\n",
        "X_train = scaler.fit_transform(X_train)\n",
        "X_valid = scaler.fit_transform(X_valid)\n",
        "X_test  = scaler.fit_transform(X_test)"
      ]
    },
    {
      "cell_type": "markdown",
      "metadata": {
        "id": "NNlGthxUB8vW"
      },
      "source": [
        "↑↑↑↑↑↑↑↑↑↑↑↑↑↑↑↑↑↑↑↑↑↑↑↑↑↑↑↑↑↑↑ your code goes above"
      ]
    },
    {
      "cell_type": "code",
      "execution_count": 42,
      "metadata": {
        "id": "tv60cUzR96ns",
        "colab": {
          "base_uri": "https://localhost:8080/"
        },
        "outputId": "3ce0a770-8da7-4370-a6a4-475e5cb2da39"
      },
      "outputs": [
        {
          "output_type": "stream",
          "name": "stdout",
          "text": [
            "(11610, 8)\n"
          ]
        }
      ],
      "source": [
        "np.random.seed(42)\n",
        "tf.random.set_seed(42)\n",
        "print(X_train.shape)"
      ]
    },
    {
      "cell_type": "markdown",
      "metadata": {
        "id": "1NgYV0XyIlfr"
      },
      "source": [
        "### Task 7\n",
        " Build a Neural Network with one hidden layer with 30 neurons. The output layer has one neuron, which is the regression value. Compile, fit then train this network while choosing the suitable loss function and the SGD optimizer. \n",
        "\n",
        "**N.B:**  This task is similar to the neural network above, except that we now do regression not classification. "
      ]
    },
    {
      "cell_type": "markdown",
      "metadata": {
        "id": "wXKk7lOpB8vW"
      },
      "source": [
        "↓↓↓↓↓↓↓↓↓↓↓↓↓↓↓↓↓↓↓↓↓↓↓↓↓↓↓↓↓↓↓ your code goes below"
      ]
    },
    {
      "cell_type": "code",
      "execution_count": 43,
      "metadata": {
        "id": "wj5v_bRU96ns",
        "colab": {
          "base_uri": "https://localhost:8080/"
        },
        "outputId": "bcdacd37-39b3-4447-c59f-7ceee7967dba"
      },
      "outputs": [
        {
          "output_type": "stream",
          "name": "stdout",
          "text": [
            "Model: \"sequential_1\"\n",
            "_________________________________________________________________\n",
            " Layer (type)                Output Shape              Param #   \n",
            "=================================================================\n",
            " flatten_1 (Flatten)         (None, 8)                 0         \n",
            "                                                                 \n",
            " dense_3 (Dense)             (None, 30)                270       \n",
            "                                                                 \n",
            " dense_4 (Dense)             (None, 1)                 31        \n",
            "                                                                 \n",
            "=================================================================\n",
            "Total params: 301\n",
            "Trainable params: 301\n",
            "Non-trainable params: 0\n",
            "_________________________________________________________________\n",
            "None\n",
            "<IPython.core.display.Image object>\n",
            "Epoch 1/75\n",
            "363/363 [==============================] - 2s 4ms/step - loss: 1.6419 - val_loss: 0.8077\n",
            "Epoch 2/75\n",
            "363/363 [==============================] - 1s 3ms/step - loss: 0.7047 - val_loss: 0.6736\n",
            "Epoch 3/75\n",
            "363/363 [==============================] - 1s 3ms/step - loss: 0.6345 - val_loss: 0.6243\n",
            "Epoch 4/75\n",
            "363/363 [==============================] - 1s 4ms/step - loss: 0.5977 - val_loss: 0.5977\n",
            "Epoch 5/75\n",
            "363/363 [==============================] - 1s 4ms/step - loss: 0.5706 - val_loss: 0.5708\n",
            "Epoch 6/75\n",
            "363/363 [==============================] - 1s 3ms/step - loss: 0.5472 - val_loss: 0.5538\n",
            "Epoch 7/75\n",
            "363/363 [==============================] - 1s 4ms/step - loss: 0.5288 - val_loss: 0.5370\n",
            "Epoch 8/75\n",
            "363/363 [==============================] - 1s 3ms/step - loss: 0.5130 - val_loss: 0.5257\n",
            "Epoch 9/75\n",
            "363/363 [==============================] - 1s 3ms/step - loss: 0.4992 - val_loss: 0.5142\n",
            "Epoch 10/75\n",
            "363/363 [==============================] - 1s 4ms/step - loss: 0.4875 - val_loss: 0.5040\n",
            "Epoch 11/75\n",
            "363/363 [==============================] - 1s 4ms/step - loss: 0.4777 - val_loss: 0.4977\n",
            "Epoch 12/75\n",
            "363/363 [==============================] - 1s 3ms/step - loss: 0.4688 - val_loss: 0.4894\n",
            "Epoch 13/75\n",
            "363/363 [==============================] - 1s 3ms/step - loss: 0.4615 - val_loss: 0.4848\n",
            "Epoch 14/75\n",
            "363/363 [==============================] - 1s 3ms/step - loss: 0.4547 - val_loss: 0.4804\n",
            "Epoch 15/75\n",
            "363/363 [==============================] - 1s 4ms/step - loss: 0.4488 - val_loss: 0.4747\n",
            "Epoch 16/75\n",
            "363/363 [==============================] - 1s 3ms/step - loss: 0.4435 - val_loss: 0.4713\n",
            "Epoch 17/75\n",
            "363/363 [==============================] - 1s 4ms/step - loss: 0.4389 - val_loss: 0.4672\n",
            "Epoch 18/75\n",
            "363/363 [==============================] - 1s 3ms/step - loss: 0.4347 - val_loss: 0.4642\n",
            "Epoch 19/75\n",
            "363/363 [==============================] - 1s 4ms/step - loss: 0.4306 - val_loss: 0.4629\n",
            "Epoch 20/75\n",
            "363/363 [==============================] - 1s 4ms/step - loss: 0.4273 - val_loss: 0.4603\n",
            "Epoch 21/75\n",
            "363/363 [==============================] - 1s 4ms/step - loss: 0.4240 - val_loss: 0.4585\n",
            "Epoch 22/75\n",
            "363/363 [==============================] - 1s 3ms/step - loss: 0.4211 - val_loss: 0.4565\n",
            "Epoch 23/75\n",
            "363/363 [==============================] - 1s 3ms/step - loss: 0.4183 - val_loss: 0.4531\n",
            "Epoch 24/75\n",
            "363/363 [==============================] - 1s 3ms/step - loss: 0.4158 - val_loss: 0.4532\n",
            "Epoch 25/75\n",
            "363/363 [==============================] - 1s 4ms/step - loss: 0.4135 - val_loss: 0.4506\n",
            "Epoch 26/75\n",
            "363/363 [==============================] - 1s 3ms/step - loss: 0.4115 - val_loss: 0.4489\n",
            "Epoch 27/75\n",
            "363/363 [==============================] - 1s 4ms/step - loss: 0.4096 - val_loss: 0.4479\n",
            "Epoch 28/75\n",
            "363/363 [==============================] - 1s 3ms/step - loss: 0.4077 - val_loss: 0.4483\n",
            "Epoch 29/75\n",
            "363/363 [==============================] - 1s 3ms/step - loss: 0.4061 - val_loss: 0.4463\n",
            "Epoch 30/75\n",
            "363/363 [==============================] - 1s 4ms/step - loss: 0.4045 - val_loss: 0.4449\n",
            "Epoch 31/75\n",
            "363/363 [==============================] - 1s 3ms/step - loss: 0.4027 - val_loss: 0.4434\n",
            "Epoch 32/75\n",
            "363/363 [==============================] - 1s 3ms/step - loss: 0.4015 - val_loss: 0.4450\n",
            "Epoch 33/75\n",
            "363/363 [==============================] - 1s 4ms/step - loss: 0.4003 - val_loss: 0.4427\n",
            "Epoch 34/75\n",
            "363/363 [==============================] - 1s 3ms/step - loss: 0.3988 - val_loss: 0.4413\n",
            "Epoch 35/75\n",
            "363/363 [==============================] - 1s 3ms/step - loss: 0.3975 - val_loss: 0.4418\n",
            "Epoch 36/75\n",
            "363/363 [==============================] - 1s 3ms/step - loss: 0.3963 - val_loss: 0.4394\n",
            "Epoch 37/75\n",
            "363/363 [==============================] - 1s 3ms/step - loss: 0.3952 - val_loss: 0.4397\n",
            "Epoch 38/75\n",
            "363/363 [==============================] - 1s 3ms/step - loss: 0.3940 - val_loss: 0.4383\n",
            "Epoch 39/75\n",
            "363/363 [==============================] - 1s 3ms/step - loss: 0.3929 - val_loss: 0.4377\n",
            "Epoch 40/75\n",
            "363/363 [==============================] - 1s 3ms/step - loss: 0.3918 - val_loss: 0.4358\n",
            "Epoch 41/75\n",
            "363/363 [==============================] - 1s 3ms/step - loss: 0.3907 - val_loss: 0.4360\n",
            "Epoch 42/75\n",
            "363/363 [==============================] - 1s 3ms/step - loss: 0.3898 - val_loss: 0.4364\n",
            "Epoch 43/75\n",
            "363/363 [==============================] - 1s 4ms/step - loss: 0.3888 - val_loss: 0.4364\n",
            "Epoch 44/75\n",
            "363/363 [==============================] - 1s 3ms/step - loss: 0.3879 - val_loss: 0.4356\n",
            "Epoch 45/75\n",
            "363/363 [==============================] - 1s 3ms/step - loss: 0.3871 - val_loss: 0.4347\n",
            "Epoch 46/75\n",
            "363/363 [==============================] - 1s 4ms/step - loss: 0.3860 - val_loss: 0.4341\n",
            "Epoch 47/75\n",
            "363/363 [==============================] - 1s 3ms/step - loss: 0.3854 - val_loss: 0.4331\n",
            "Epoch 48/75\n",
            "363/363 [==============================] - 1s 4ms/step - loss: 0.3844 - val_loss: 0.4337\n",
            "Epoch 49/75\n",
            "363/363 [==============================] - 1s 3ms/step - loss: 0.3837 - val_loss: 0.4325\n",
            "Epoch 50/75\n",
            "363/363 [==============================] - 1s 4ms/step - loss: 0.3829 - val_loss: 0.4329\n",
            "Epoch 51/75\n",
            "363/363 [==============================] - 2s 5ms/step - loss: 0.3821 - val_loss: 0.4319\n",
            "Epoch 52/75\n",
            "363/363 [==============================] - 1s 4ms/step - loss: 0.3815 - val_loss: 0.4319\n",
            "Epoch 53/75\n",
            "363/363 [==============================] - 1s 3ms/step - loss: 0.3807 - val_loss: 0.4326\n",
            "Epoch 54/75\n",
            "363/363 [==============================] - 1s 4ms/step - loss: 0.3800 - val_loss: 0.4306\n",
            "Epoch 55/75\n",
            "363/363 [==============================] - 1s 3ms/step - loss: 0.3794 - val_loss: 0.4306\n",
            "Epoch 56/75\n",
            "363/363 [==============================] - 1s 3ms/step - loss: 0.3787 - val_loss: 0.4304\n",
            "Epoch 57/75\n",
            "363/363 [==============================] - 1s 3ms/step - loss: 0.3781 - val_loss: 0.4293\n",
            "Epoch 58/75\n",
            "363/363 [==============================] - 1s 3ms/step - loss: 0.3774 - val_loss: 0.4305\n",
            "Epoch 59/75\n",
            "363/363 [==============================] - 1s 3ms/step - loss: 0.3769 - val_loss: 0.4308\n",
            "Epoch 60/75\n",
            "363/363 [==============================] - 1s 3ms/step - loss: 0.3762 - val_loss: 0.4303\n",
            "Epoch 61/75\n",
            "363/363 [==============================] - 1s 4ms/step - loss: 0.3755 - val_loss: 0.4305\n",
            "Epoch 62/75\n",
            "363/363 [==============================] - 1s 3ms/step - loss: 0.3751 - val_loss: 0.4279\n",
            "Epoch 63/75\n",
            "363/363 [==============================] - 1s 3ms/step - loss: 0.3742 - val_loss: 0.4309\n",
            "Epoch 64/75\n",
            "363/363 [==============================] - 1s 3ms/step - loss: 0.3740 - val_loss: 0.4282\n",
            "Epoch 65/75\n",
            "363/363 [==============================] - 1s 3ms/step - loss: 0.3733 - val_loss: 0.4273\n",
            "Epoch 66/75\n",
            "363/363 [==============================] - 1s 3ms/step - loss: 0.3729 - val_loss: 0.4286\n",
            "Epoch 67/75\n",
            "363/363 [==============================] - 1s 3ms/step - loss: 0.3722 - val_loss: 0.4268\n",
            "Epoch 68/75\n",
            "363/363 [==============================] - 1s 3ms/step - loss: 0.3718 - val_loss: 0.4268\n",
            "Epoch 69/75\n",
            "363/363 [==============================] - 1s 3ms/step - loss: 0.3713 - val_loss: 0.4272\n",
            "Epoch 70/75\n",
            "363/363 [==============================] - 1s 3ms/step - loss: 0.3708 - val_loss: 0.4259\n",
            "Epoch 71/75\n",
            "363/363 [==============================] - 1s 3ms/step - loss: 0.3703 - val_loss: 0.4273\n",
            "Epoch 72/75\n",
            "363/363 [==============================] - 1s 4ms/step - loss: 0.3698 - val_loss: 0.4258\n",
            "Epoch 73/75\n",
            "363/363 [==============================] - 1s 3ms/step - loss: 0.3693 - val_loss: 0.4248\n",
            "Epoch 74/75\n",
            "363/363 [==============================] - 1s 3ms/step - loss: 0.3690 - val_loss: 0.4256\n",
            "Epoch 75/75\n",
            "363/363 [==============================] - 1s 3ms/step - loss: 0.3684 - val_loss: 0.4277\n"
          ]
        }
      ],
      "source": [
        "model = keras.models.Sequential([\n",
        "    keras.layers.Flatten(input_shape=X_train.shape[1:]),\n",
        "    keras.layers.Dense(30, activation=\"relu\"),\n",
        "    keras.layers.Dense(1, activation=\"linear\")\n",
        "])\n",
        "\n",
        "print(model.summary())\n",
        "print(keras.utils.plot_model(model, show_shapes=True))\n",
        "\n",
        "model.compile(loss=\"mean_squared_error\",\n",
        "              optimizer=keras.optimizers.SGD(learning_rate=0.001))\n",
        "\n",
        "history = model.fit(X_train, y_train, epochs=75,\n",
        "                    validation_data=(X_valid, y_valid))\n",
        "\n"
      ]
    },
    {
      "cell_type": "markdown",
      "metadata": {
        "id": "XX5FzQGIB8vX"
      },
      "source": [
        "↑↑↑↑↑↑↑↑↑↑↑↑↑↑↑↑↑↑↑↑↑↑↑↑↑↑↑↑↑↑↑ your code goes above"
      ]
    },
    {
      "cell_type": "code",
      "execution_count": 44,
      "metadata": {
        "id": "vUvnC-CxB8vX",
        "outputId": "16b180f2-2f0f-4a32-ea7a-7abac8a525cd",
        "colab": {
          "base_uri": "https://localhost:8080/",
          "height": 323
        }
      },
      "outputs": [
        {
          "output_type": "display_data",
          "data": {
            "image/png": "[encoded data removed]",
            "text/plain": [
              "<Figure size 576x360 with 1 Axes>"
            ]
          },
          "metadata": {
            "needs_background": "light"
          }
        }
      ],
      "source": [
        "pd.DataFrame(history.history).plot(figsize=(8, 5))\n",
        "plt.grid(True)\n",
        "plt.gca().set_ylim(0, 1.7)\n",
        "plt.show()"
      ]
    },
    {
      "cell_type": "markdown",
      "metadata": {
        "id": "bSADjQQDJLgh"
      },
      "source": [
        "### Task 8\n",
        " Validate your model using model.evaluate on the test set. \n",
        "Also predict one element of the test set of your choice (`X_test[42]` for example) and compare to\n",
        "the real value."
      ]
    },
    {
      "cell_type": "markdown",
      "metadata": {
        "id": "bl8nNCoyB8vX"
      },
      "source": [
        "↓↓↓↓↓↓↓↓↓↓↓↓↓↓↓↓↓↓↓↓↓↓↓↓↓↓↓↓↓↓↓ your code goes below"
      ]
    },
    {
      "cell_type": "code",
      "execution_count": 45,
      "metadata": {
        "id": "N3IL0WlYJCx6",
        "colab": {
          "base_uri": "https://localhost:8080/"
        },
        "outputId": "624410e7-771b-40f1-cf45-b56ebe3ad72a"
      },
      "outputs": [
        {
          "output_type": "stream",
          "name": "stdout",
          "text": [
            "162/162 [==============================] - 0s 2ms/step - loss: 0.3863\n",
            "[[1.0753005]]\n",
            "[0.713]\n",
            "[[0.50813528]]\n"
          ]
        }
      ],
      "source": [
        "mse_test = model.evaluate(X_test,y_test)\n",
        "print(model.predict(X_test[42:43]))\n",
        "print(y_test[42:43])\n",
        "print(abs(model.predict(X_test[42:43])-y_test[42:43])/y_test[42:43])"
      ]
    },
    {
      "cell_type": "markdown",
      "metadata": {
        "id": "s4RzDH-EB8vY"
      },
      "source": [
        "↑↑↑↑↑↑↑↑↑↑↑↑↑↑↑↑↑↑↑↑↑↑↑↑↑↑↑↑↑↑↑ your code goes above"
      ]
    },
    {
      "cell_type": "markdown",
      "metadata": {
        "id": "b_YAL3g-96nx"
      },
      "source": [
        "# Saving the model weights for future use"
      ]
    },
    {
      "cell_type": "code",
      "execution_count": 46,
      "metadata": {
        "id": "CIMTsRwT96ny",
        "outputId": "99f7dede-e7b3-4205-eb1c-34eac855a5c1",
        "colab": {
          "base_uri": "https://localhost:8080/"
        }
      },
      "outputs": [
        {
          "output_type": "stream",
          "name": "stdout",
          "text": [
            "INFO:tensorflow:Assets written to: my_keras_model/assets\n"
          ]
        }
      ],
      "source": [
        "model.save(\"my_keras_model\")"
      ]
    },
    {
      "cell_type": "code",
      "execution_count": 47,
      "metadata": {
        "id": "BrgCYxY596ny"
      },
      "outputs": [],
      "source": [
        "model_reloaded = keras.models.load_model(\"my_keras_model\")"
      ]
    },
    {
      "cell_type": "code",
      "execution_count": 48,
      "metadata": {
        "id": "XeUU8hqO96ny",
        "outputId": "086a63b7-181e-445b-8867-e763d082b9a8",
        "colab": {
          "base_uri": "https://localhost:8080/"
        }
      },
      "outputs": [
        {
          "output_type": "execute_result",
          "data": {
            "text/plain": [
              "array([[1.0753005]], dtype=float32)"
            ]
          },
          "metadata": {},
          "execution_count": 48
        }
      ],
      "source": [
        "model_reloaded.predict(X_test[42:43])"
      ]
    },
    {
      "cell_type": "code",
      "execution_count": 49,
      "metadata": {
        "id": "JTn29YSI96ny"
      },
      "outputs": [],
      "source": [
        "model.save_weights(\"my_keras_weights.h5\")"
      ]
    },
    {
      "cell_type": "code",
      "execution_count": 50,
      "metadata": {
        "id": "4Ebtp4OJ96nz"
      },
      "outputs": [],
      "source": [
        "model.load_weights(\"my_keras_weights.h5\")"
      ]
    },
    {
      "cell_type": "markdown",
      "metadata": {
        "id": "ceTWgUWMB8vb"
      },
      "source": [
        "## Looking at the saved weights"
      ]
    },
    {
      "cell_type": "code",
      "execution_count": 51,
      "metadata": {
        "id": "PvJN7WgoB8vb"
      },
      "outputs": [],
      "source": [
        "import h5py"
      ]
    },
    {
      "cell_type": "code",
      "execution_count": 52,
      "metadata": {
        "id": "u6AMLDlTB8vb"
      },
      "outputs": [],
      "source": [
        "f = h5py.File(\"my_keras_weights.h5\")"
      ]
    },
    {
      "cell_type": "code",
      "execution_count": 53,
      "metadata": {
        "id": "MnR5WqHOB8vb",
        "outputId": "5d73f57c-9765-4354-c953-59cebdffdde7",
        "colab": {
          "base_uri": "https://localhost:8080/"
        }
      },
      "outputs": [
        {
          "output_type": "execute_result",
          "data": {
            "text/plain": [
              "['dense_3', 'dense_4', 'flatten_1', 'top_level_model_weights']"
            ]
          },
          "metadata": {},
          "execution_count": 53
        }
      ],
      "source": [
        "list(f.keys())"
      ]
    },
    {
      "cell_type": "code",
      "execution_count": 54,
      "metadata": {
        "id": "GKmd9vbpB8vb",
        "outputId": "0f1a5794-caf7-4b70-ca3f-10162f438f24",
        "colab": {
          "base_uri": "https://localhost:8080/"
        }
      },
      "outputs": [
        {
          "output_type": "stream",
          "name": "stdout",
          "text": [
            "bias:0\n",
            "kernel:0\n"
          ]
        }
      ],
      "source": [
        "for name in f[\"dense_3/dense_3\"]:\n",
        "    print(name)"
      ]
    },
    {
      "cell_type": "code",
      "execution_count": 55,
      "metadata": {
        "id": "FZnvySELB8vc",
        "outputId": "944518bd-df14-4db5-d0eb-06f76acde39d",
        "colab": {
          "base_uri": "https://localhost:8080/"
        }
      },
      "outputs": [
        {
          "output_type": "execute_result",
          "data": {
            "text/plain": [
              "<KeysViewHDF5 ['bias:0', 'kernel:0']>"
            ]
          },
          "metadata": {},
          "execution_count": 55
        }
      ],
      "source": [
        "f[\"dense_3\"][\"dense_3\"].keys()"
      ]
    },
    {
      "cell_type": "code",
      "execution_count": 56,
      "metadata": {
        "id": "cn7U_-pmB8vc",
        "outputId": "4ec94ab3-e1a7-4f59-9001-3f0328c9fd4e",
        "colab": {
          "base_uri": "https://localhost:8080/"
        }
      },
      "outputs": [
        {
          "output_type": "execute_result",
          "data": {
            "text/plain": [
              "array([ 0.03149225,  0.07310554,  0.15985738, -0.11890595,  0.04985039,\n",
              "        0.31555575,  0.16469124,  0.27655494, -0.01778485, -0.02469256,\n",
              "        0.07704153, -0.00746007, -0.13271272,  0.08154158,  0.18235447,\n",
              "        0.22595173, -0.11326219, -0.08238295, -0.03010317,  0.14347997,\n",
              "       -0.29593745,  0.09623832,  0.01207016,  0.1817733 ,  0.30241522,\n",
              "        0.00929094,  0.07086506,  0.20924956,  0.19634674,  0.16124083],\n",
              "      dtype=float32)"
            ]
          },
          "metadata": {},
          "execution_count": 56
        }
      ],
      "source": [
        "np.array(f[\"dense_3\"][\"dense_3\"][\"bias:0\"])"
      ]
    },
    {
      "cell_type": "code",
      "execution_count": 57,
      "metadata": {
        "id": "ToJofDviB8vc",
        "outputId": "9ab82941-d1ce-4012-82fb-651b11608ac7",
        "colab": {
          "base_uri": "https://localhost:8080/"
        }
      },
      "outputs": [
        {
          "output_type": "execute_result",
          "data": {
            "text/plain": [
              "array([[ 2.60832816e-01,  6.30170200e-03, -1.16468266e-01,\n",
              "         5.87873235e-02, -1.86827764e-01,  8.86002257e-02,\n",
              "         1.40582234e-01,  3.47429365e-01, -3.47293615e-01,\n",
              "        -2.59346962e-01, -1.94795012e-01,  2.57853419e-01,\n",
              "        -3.61020386e-01,  7.91203752e-02, -5.81462448e-03,\n",
              "         3.56242627e-01, -4.51112300e-01, -7.75926635e-02,\n",
              "         1.53125063e-01, -3.44255306e-02,  4.12194818e-01,\n",
              "        -9.72121507e-02, -3.24449867e-01,  1.99500501e-01,\n",
              "         6.55568615e-02, -1.26248047e-01,  5.56878969e-02,\n",
              "        -5.33564277e-02,  2.97984391e-01, -5.22384271e-02],\n",
              "       [ 3.65206987e-01, -8.96614045e-02,  1.81501955e-01,\n",
              "         5.52950203e-02, -4.18087728e-02, -2.22120881e-01,\n",
              "         2.40007371e-01,  1.72657922e-01, -2.14181930e-01,\n",
              "         1.38187811e-01, -1.95908934e-01,  1.51166156e-01,\n",
              "         2.70275086e-01, -3.19396257e-01,  1.84381843e-01,\n",
              "         1.95138447e-04,  3.55088189e-02, -2.00852245e-01,\n",
              "         1.83642358e-01, -2.27142990e-01, -2.13101134e-03,\n",
              "         3.52007598e-02,  3.90009552e-01,  7.33531043e-02,\n",
              "        -1.46702632e-01,  2.66634494e-01,  3.70740965e-02,\n",
              "        -1.60407960e-01,  1.80104658e-01,  2.08704155e-02],\n",
              "       [-1.88790441e-01, -1.31723657e-01,  1.05118752e-01,\n",
              "         7.18368217e-02,  1.61467176e-02, -2.70357400e-01,\n",
              "        -4.33690518e-01,  2.31617808e-01,  2.65716076e-01,\n",
              "         9.40978453e-02, -1.76527590e-01, -5.23717552e-02,\n",
              "         1.03446625e-01, -2.68108755e-01,  6.27461597e-02,\n",
              "         4.04760092e-01,  3.43717635e-01, -1.76805124e-01,\n",
              "         1.28092200e-01,  3.99727762e-01, -2.48197198e-01,\n",
              "        -9.00122672e-02,  3.11795831e-01, -1.13108858e-01,\n",
              "        -2.12049797e-01, -2.16578424e-01, -4.06808317e-01,\n",
              "         3.30254078e-01,  2.22583100e-01,  1.23511851e-01],\n",
              "       [-2.66210228e-01,  1.23665422e-01, -2.23688707e-02,\n",
              "        -4.45592880e-01, -2.91299790e-01,  1.50970280e-01,\n",
              "         3.58684927e-01, -1.78657085e-01, -3.47518802e-01,\n",
              "         9.96639878e-02, -9.38028395e-02,  5.65365516e-02,\n",
              "         1.91971779e-01,  2.01250985e-01, -1.97279200e-01,\n",
              "        -1.64933041e-01,  1.54857829e-01, -3.17108274e-01,\n",
              "         4.02517617e-01,  2.17449903e-01,  8.48556906e-02,\n",
              "        -1.32972060e-03, -3.15769702e-01, -5.42395934e-03,\n",
              "         1.78373992e-01,  1.98232159e-01,  1.65696502e-01,\n",
              "         5.40440204e-03, -3.80038098e-02, -2.83562858e-02],\n",
              "       [-2.94838727e-01, -2.67638952e-01, -2.44956419e-01,\n",
              "         2.14234054e-01,  1.03419259e-01, -7.93820545e-02,\n",
              "         2.29489237e-01,  3.39807644e-02,  3.68428349e-01,\n",
              "        -2.85812497e-01, -3.09117794e-01,  6.79032058e-02,\n",
              "        -8.76202062e-02,  1.49177402e-01,  3.69189829e-02,\n",
              "        -1.70443654e-02,  1.52580544e-01, -2.18531936e-01,\n",
              "         3.04507047e-01,  2.02729434e-01,  2.12549075e-01,\n",
              "         1.02838315e-01, -2.02472746e-01, -1.24860257e-01,\n",
              "         4.36554551e-02,  5.28918803e-02, -5.85045144e-02,\n",
              "         1.83934465e-01,  2.92289227e-01,  1.33848697e-01],\n",
              "       [ 1.96233690e-01, -4.28638458e-01,  2.24941105e-01,\n",
              "         2.22334027e-01, -1.60217345e-01, -5.14523268e-01,\n",
              "         1.00058038e-02, -2.83929557e-02, -2.90821016e-01,\n",
              "         2.91273654e-01, -1.15584359e-01, -6.48679793e-01,\n",
              "         2.60178316e-02,  8.07293050e-04,  3.88605893e-02,\n",
              "         1.61662653e-01, -1.81933045e-01,  2.53719032e-01,\n",
              "        -2.25081861e-01,  2.23706171e-01, -2.24371761e-01,\n",
              "         4.94970977e-02, -1.60438061e-01, -6.52915061e-01,\n",
              "        -2.50579387e-01,  8.60496983e-02,  3.80901434e-02,\n",
              "        -4.03569341e-01, -6.64366364e-01, -2.14162335e-01],\n",
              "       [ 4.50427532e-02, -3.39914650e-01, -2.93421477e-01,\n",
              "        -9.37191322e-02,  2.42577419e-01, -4.93591689e-02,\n",
              "        -5.23435891e-01, -5.11769652e-01, -3.76265869e-02,\n",
              "        -8.28486159e-02,  2.60616124e-01, -2.76721895e-01,\n",
              "        -2.61724442e-01, -2.97325283e-01, -4.65179861e-01,\n",
              "        -1.99975863e-01, -2.89643675e-01,  1.63796484e-01,\n",
              "         1.47169217e-01, -5.12214750e-02,  2.73450226e-01,\n",
              "         5.05525172e-01,  2.22462952e-01, -7.41117261e-03,\n",
              "        -4.60432507e-02,  2.94852704e-01, -3.35451990e-01,\n",
              "        -1.03084765e-01,  7.18007013e-02, -5.17533064e-01],\n",
              "       [ 3.31192970e-01, -2.60117829e-01, -1.59627318e-01,\n",
              "         4.00376350e-01, -4.11742568e-01, -9.49237682e-03,\n",
              "        -4.27576602e-01, -4.01911855e-01,  3.19254488e-01,\n",
              "         3.90997797e-01,  2.44821571e-02, -2.64243335e-01,\n",
              "         4.75057177e-02, -2.49817848e-01,  3.72962683e-01,\n",
              "        -3.82308334e-01,  2.30298743e-01, -2.93366402e-01,\n",
              "        -2.56193936e-01, -2.24445418e-01,  2.05636457e-01,\n",
              "         2.21187308e-01,  2.76977807e-01, -1.24532893e-01,\n",
              "        -1.94635257e-01,  2.81843841e-01, -3.88885409e-01,\n",
              "         1.24568082e-01,  3.83871756e-02,  2.60672756e-02]], dtype=float32)"
            ]
          },
          "metadata": {},
          "execution_count": 57
        }
      ],
      "source": [
        "np.array(f[\"dense_3\"][\"dense_3\"][\"kernel:0\"])"
      ]
    },
    {
      "cell_type": "code",
      "execution_count": 58,
      "metadata": {
        "id": "h3DtsywUB8vd",
        "outputId": "e41221ae-c931-4a9c-ca16-7d0a72ffeedb",
        "colab": {
          "base_uri": "https://localhost:8080/"
        }
      },
      "outputs": [
        {
          "output_type": "execute_result",
          "data": {
            "text/plain": [
              "(8, 30)"
            ]
          },
          "metadata": {},
          "execution_count": 58
        }
      ],
      "source": [
        "f[\"dense_3\"][\"dense_3\"][\"kernel:0\"].shape"
      ]
    },
    {
      "cell_type": "code",
      "execution_count": 59,
      "metadata": {
        "id": "EA02AMETB8vd",
        "outputId": "b3576e59-4617-4851-f054-21fc80c3c64e",
        "colab": {
          "base_uri": "https://localhost:8080/",
          "height": 422
        }
      },
      "outputs": [
        {
          "output_type": "execute_result",
          "data": {
            "image/png": "[encoded data removed]",
            "text/plain": [
              "<IPython.core.display.Image object>"
            ]
          },
          "metadata": {},
          "execution_count": 59
        }
      ],
      "source": [
        "keras.utils.plot_model(model, show_shapes=True)"
      ]
    },
    {
      "cell_type": "markdown",
      "metadata": {
        "id": "u_LAvOWkB8vd"
      },
      "source": [
        "One layer is actually nothing but performing a matrix multiplication, adding the bias and putting it through the activation function.\n",
        "You can see this by looking at the shape of `dense_3`."
      ]
    },
    {
      "cell_type": "markdown",
      "metadata": {
        "id": "HT2-eFNqB8vd"
      },
      "source": [
        "### Task 9\n",
        " For `X_train[0]` perform the forward pass yourself using matrix multiplications.\n",
        "Remember to include the biases.\n",
        "Check with the prediction of the model that you get exactly the same!\n",
        "\n",
        "Hints:\n",
        "- use `np.dot(x,y)` for matrix multiplication\n",
        "- for the first layer it would look like this:\n",
        "    * matrix mult: `X_new` dot `l1`\n",
        "    * add bias `b1`\n",
        "    * followed by `relu(...)`"
      ]
    },
    {
      "cell_type": "code",
      "execution_count": 60,
      "metadata": {
        "id": "C4gK67LMB8ve"
      },
      "outputs": [],
      "source": [
        "b1 = np.array(f[\"dense_3\"][\"dense_3\"][\"bias:0\"])\n",
        "l1 = np.array(f[\"dense_3\"][\"dense_3\"][\"kernel:0\"])\n",
        "b2 = np.array(f[\"dense_4\"][\"dense_4\"][\"bias:0\"])\n",
        "l2 = np.array(f[\"dense_4\"][\"dense_4\"][\"kernel:0\"])"
      ]
    },
    {
      "cell_type": "code",
      "execution_count": 61,
      "metadata": {
        "id": "TazVceTvB8ve"
      },
      "outputs": [],
      "source": [
        "X_new = X_train[0]"
      ]
    },
    {
      "cell_type": "code",
      "execution_count": 62,
      "metadata": {
        "id": "8IE7IH0CB8ve",
        "outputId": "d2c89b4a-de2d-4cd6-8f86-fc256bf6b904",
        "colab": {
          "base_uri": "https://localhost:8080/"
        }
      },
      "outputs": [
        {
          "output_type": "execute_result",
          "data": {
            "text/plain": [
              "(8,)"
            ]
          },
          "metadata": {},
          "execution_count": 62
        }
      ],
      "source": [
        "X_new.shape"
      ]
    },
    {
      "cell_type": "code",
      "execution_count": 63,
      "metadata": {
        "id": "x07qGbfSB8vf",
        "outputId": "669589c7-a7ba-4960-fd1a-a4cdf70b1e75",
        "colab": {
          "base_uri": "https://localhost:8080/"
        }
      },
      "outputs": [
        {
          "output_type": "execute_result",
          "data": {
            "text/plain": [
              "(8, 30)"
            ]
          },
          "metadata": {},
          "execution_count": 63
        }
      ],
      "source": [
        "l1.shape"
      ]
    },
    {
      "cell_type": "code",
      "execution_count": 64,
      "metadata": {
        "id": "zrIneqn_B8vf",
        "outputId": "ce46d4e4-e6bc-435c-9e41-efb411acc430",
        "colab": {
          "base_uri": "https://localhost:8080/"
        }
      },
      "outputs": [
        {
          "output_type": "execute_result",
          "data": {
            "text/plain": [
              "(30,)"
            ]
          },
          "metadata": {},
          "execution_count": 64
        }
      ],
      "source": [
        "b1.shape"
      ]
    },
    {
      "cell_type": "code",
      "execution_count": 65,
      "metadata": {
        "id": "iPsrSxCDB8vf"
      },
      "outputs": [],
      "source": [
        "def relu(z):\n",
        "    return np.maximum(0, z)"
      ]
    },
    {
      "cell_type": "code",
      "execution_count": 66,
      "metadata": {
        "id": "earDju7GB8vg",
        "outputId": "0ef16461-2c59-4529-a355-4bfa6439828e",
        "colab": {
          "base_uri": "https://localhost:8080/"
        }
      },
      "outputs": [
        {
          "output_type": "execute_result",
          "data": {
            "text/plain": [
              "array([[2.7847807]], dtype=float32)"
            ]
          },
          "metadata": {},
          "execution_count": 66
        }
      ],
      "source": [
        "model.predict(X_train[0:1])   # reproduce this!"
      ]
    },
    {
      "cell_type": "markdown",
      "metadata": {
        "id": "0s2grGz7B8vh"
      },
      "source": [
        "↓↓↓↓↓↓↓↓↓↓↓↓↓↓↓↓↓↓↓↓↓↓↓↓↓↓↓↓↓↓↓ your code goes below"
      ]
    },
    {
      "cell_type": "code",
      "source": [
        "layer_1 = np.dot(X_new,l1) + b1\n",
        "print(layer_1)"
      ],
      "metadata": {
        "id": "Ae-tSY_0lvch",
        "colab": {
          "base_uri": "https://localhost:8080/"
        },
        "outputId": "54e68030-988c-411d-e9f3-21315382e1bc"
      },
      "execution_count": 67,
      "outputs": [
        {
          "output_type": "stream",
          "name": "stdout",
          "text": [
            "[-0.78627043  0.58870796 -0.29227653 -1.0437192   1.01650858  1.05583261\n",
            "  0.41390068 -0.08510542 -0.29014306 -1.01646436  0.75829511  0.32153482\n",
            " -0.7762205   0.74798007 -1.06155333  0.03724291 -0.87526499  0.73076642\n",
            "  0.26377257  0.16874446 -0.04357908  0.29102846 -0.74364447  0.71233324\n",
            "  1.02899222 -0.22137385  0.62463969  0.04309003  0.13269422 -0.36058341]\n"
          ]
        }
      ]
    },
    {
      "cell_type": "code",
      "source": [
        "relu_layer_1 = relu(layer_1)"
      ],
      "metadata": {
        "id": "Bo6bNu19Zli3"
      },
      "execution_count": 68,
      "outputs": []
    },
    {
      "cell_type": "code",
      "source": [
        "layer_2 = np.dot(relu_layer_1,l2) + b2\n",
        "print(layer_2)"
      ],
      "metadata": {
        "colab": {
          "base_uri": "https://localhost:8080/"
        },
        "id": "9rco3a5tZ8PJ",
        "outputId": "ced266ed-4af2-47b2-f850-a168991213c4"
      },
      "execution_count": 69,
      "outputs": [
        {
          "output_type": "stream",
          "name": "stdout",
          "text": [
            "[2.78478066]\n"
          ]
        }
      ]
    },
    {
      "cell_type": "markdown",
      "metadata": {
        "id": "Da7Xu82zB8vh"
      },
      "source": [
        "↑↑↑↑↑↑↑↑↑↑↑↑↑↑↑↑↑↑↑↑↑↑↑↑↑↑↑↑↑↑↑ your code goes above"
      ]
    },
    {
      "cell_type": "markdown",
      "metadata": {
        "id": "6EFNcwqg96n9"
      },
      "source": [
        "# Optional task"
      ]
    },
    {
      "cell_type": "markdown",
      "metadata": {
        "id": "8cO1eZvL96n-"
      },
      "source": [
        "**Exercise (bonus task, +3 points):**   \n",
        "Train a deep MLP on the MNIST dataset (you can load it using `keras.datasets.mnist.load_data()`. See if you can get over 98% precision.\n",
        "\n",
        " You can try searching for the optimal learning rate by using the approach presented in this chapter (i.e., by growing the learning rate exponentially, plotting the loss, and finding the point where the loss shoots up). Try adding all the bells and whistles—save checkpoints, use early stopping, and plot learning curves using TensorBoard.\n",
        " Feel free to use other methods."
      ]
    },
    {
      "cell_type": "markdown",
      "metadata": {
        "id": "gRSB5E6q96n-"
      },
      "source": [
        "Let's load the dataset:"
      ]
    },
    {
      "cell_type": "code",
      "execution_count": 70,
      "metadata": {
        "id": "QZxFNmxd96n-"
      },
      "outputs": [],
      "source": [
        "(X_train_full, y_train_full), (X_test, y_test) = keras.datasets.mnist.load_data()"
      ]
    },
    {
      "cell_type": "markdown",
      "metadata": {
        "id": "uFbDQB_e96n-"
      },
      "source": [
        "Just like for the Fashion MNIST dataset, the MNIST training set contains 60,000 grayscale images, each 28x28 pixels:"
      ]
    },
    {
      "cell_type": "code",
      "execution_count": 71,
      "metadata": {
        "id": "rKu9ctYq96n-",
        "outputId": "a83984c0-a64f-470b-b478-73de3d5551cb",
        "colab": {
          "base_uri": "https://localhost:8080/"
        }
      },
      "outputs": [
        {
          "output_type": "execute_result",
          "data": {
            "text/plain": [
              "(60000, 28, 28)"
            ]
          },
          "metadata": {},
          "execution_count": 71
        }
      ],
      "source": [
        "X_train_full.shape"
      ]
    },
    {
      "cell_type": "markdown",
      "metadata": {
        "id": "CjAPFHCy96n_"
      },
      "source": [
        "Each pixel intensity is also represented as a byte (0 to 255):"
      ]
    },
    {
      "cell_type": "code",
      "execution_count": 72,
      "metadata": {
        "id": "FKsd4QsX96n_",
        "outputId": "a99d89aa-1a57-4758-b099-fafb718fc43b",
        "colab": {
          "base_uri": "https://localhost:8080/"
        }
      },
      "outputs": [
        {
          "output_type": "execute_result",
          "data": {
            "text/plain": [
              "dtype('uint8')"
            ]
          },
          "metadata": {},
          "execution_count": 72
        }
      ],
      "source": [
        "X_train_full.dtype"
      ]
    },
    {
      "cell_type": "markdown",
      "metadata": {
        "id": "pkMt_Ore96n_"
      },
      "source": [
        "Let's split the full training set into a validation set and a (smaller) training set. We also scale the pixel intensities down to the 0-1 range and convert them to floats, by dividing by 255, just like we did for Fashion MNIST:"
      ]
    },
    {
      "cell_type": "code",
      "execution_count": 73,
      "metadata": {
        "id": "yGsM7Im596n_"
      },
      "outputs": [],
      "source": [
        "X_valid, X_train = X_train_full[:5000] / 255., X_train_full[5000:] / 255.\n",
        "y_valid, y_train = y_train_full[:5000], y_train_full[5000:]\n",
        "X_test = X_test / 255."
      ]
    },
    {
      "cell_type": "code",
      "execution_count": 74,
      "metadata": {
        "id": "DSklFFN1B8vm",
        "outputId": "d0bffd8e-540b-4318-bc1a-8796d1f6c618",
        "colab": {
          "base_uri": "https://localhost:8080/"
        }
      },
      "outputs": [
        {
          "output_type": "execute_result",
          "data": {
            "text/plain": [
              "array([7, 3, 4, ..., 5, 6, 8], dtype=uint8)"
            ]
          },
          "metadata": {},
          "execution_count": 74
        }
      ],
      "source": [
        "y_train"
      ]
    },
    {
      "cell_type": "code",
      "execution_count": 75,
      "metadata": {
        "id": "4mMUCNhzB8vn"
      },
      "outputs": [],
      "source": [
        "from sklearn.preprocessing import OneHotEncoder\n",
        "ohc_encoder = OneHotEncoder()\n",
        "ohc_encoder.fit(y_train.reshape(-1,1))\n",
        "y_train_ohc = ohc_encoder.transform(y_train.reshape(-1,1))\n",
        "y_valid_ohc = ohc_encoder.transform(y_valid.reshape(-1,1))\n",
        "y_test_ohc = ohc_encoder.transform(y_test.reshape(-1,1))"
      ]
    },
    {
      "cell_type": "code",
      "execution_count": 76,
      "metadata": {
        "id": "V7op2mKXB8vo",
        "outputId": "e08b6848-35a8-47e4-ad88-b039b5ae0557",
        "colab": {
          "base_uri": "https://localhost:8080/"
        }
      },
      "outputs": [
        {
          "output_type": "execute_result",
          "data": {
            "text/plain": [
              "matrix([[0., 0., 0., ..., 1., 0., 0.],\n",
              "        [0., 0., 0., ..., 0., 0., 0.],\n",
              "        [0., 0., 0., ..., 0., 0., 0.],\n",
              "        ...,\n",
              "        [0., 0., 0., ..., 0., 0., 0.],\n",
              "        [0., 0., 0., ..., 0., 0., 0.],\n",
              "        [0., 0., 0., ..., 0., 1., 0.]])"
            ]
          },
          "metadata": {},
          "execution_count": 76
        }
      ],
      "source": [
        "y_train_ohc.todense()"
      ]
    },
    {
      "cell_type": "code",
      "execution_count": 77,
      "metadata": {
        "id": "Ey8zF1GUB8vq"
      },
      "outputs": [],
      "source": [
        "keras.backend.clear_session()\n",
        "np.random.seed(42)\n",
        "tf.random.set_seed(42)"
      ]
    },
    {
      "cell_type": "markdown",
      "metadata": {
        "id": "Se6D4ivUB8vr"
      },
      "source": [
        "↓↓↓↓↓↓↓↓↓↓↓↓↓↓↓↓↓↓↓↓↓↓↓↓↓↓↓↓↓↓↓ your code goes below"
      ]
    },
    {
      "cell_type": "markdown",
      "metadata": {
        "id": "eB84v5cPB8vu"
      },
      "source": [
        "↑↑↑↑↑↑↑↑↑↑↑↑↑↑↑↑↑↑↑↑↑↑↑↑↑↑↑↑↑↑↑ your code goes above"
      ]
    }
  ],
  "metadata": {
    "accelerator": "GPU",
    "colab": {
      "collapsed_sections": [],
      "name": "5_neural_nets_with_keras.ipynb",
      "provenance": [],
      "include_colab_link": true
    },
    "kernelspec": {
      "display_name": "Python 3",
      "language": "python",
      "name": "python3"
    },
    "language_info": {
      "codemirror_mode": {
        "name": "ipython",
        "version": 3
      },
      "file_extension": ".py",
      "mimetype": "text/x-python",
      "name": "python",
      "nbconvert_exporter": "python",
      "pygments_lexer": "ipython3",
      "version": "3.10.0"
    },
    "nav_menu": {
      "height": "264px",
      "width": "369px"
    },
    "toc": {
      "navigate_menu": true,
      "number_sections": true,
      "sideBar": true,
      "threshold": 6,
      "toc_cell": false,
      "toc_section_display": "block",
      "toc_window_display": false
    }
  },
  "nbformat": 4,
  "nbformat_minor": 0
}
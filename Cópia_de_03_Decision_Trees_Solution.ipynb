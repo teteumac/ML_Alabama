{
  "cells": [
    {
      "cell_type": "markdown",
      "metadata": {
        "id": "view-in-github",
        "colab_type": "text"
      },
      "source": [
        "<a href=\"https://colab.research.google.com/github/teteumac/ML_Alabama/blob/main/C%C3%B3pia_de_03_Decision_Trees_Solution.ipynb\" target=\"_parent\"><img src=\"https://colab.research.google.com/assets/colab-badge.svg\" alt=\"Open In Colab\"/></a>"
      ]
    },
    {
      "cell_type": "markdown",
      "metadata": {
        "id": "uSouRy0N6ko6"
      },
      "source": [
        "# Hands On Exercise 3: Decision Trees"
      ]
    },
    {
      "cell_type": "markdown",
      "metadata": {
        "id": "SLbEKL7BLvmh"
      },
      "source": [
        "**Chapter 6 – Decision Trees**"
      ]
    },
    {
      "cell_type": "markdown",
      "metadata": {
        "id": "nN3OdD0LLvmk"
      },
      "source": [
        "Due date: 2022-02-14\n",
        "\n",
        "File name convention: For group 42 and memebers Richard Stallman and Linus Torvalds it would be \n",
        "\"03_Decision_Trees_Goup42_Stallman_Torvalds.pdf\".\n",
        "\n",
        "Submission via blackboard (UA) or Google Form (see notion, LPC).\n",
        "\n",
        "Feel free to answer free text questions in text cells using markdown and possibly $\\LaTeX{}$ if you want to.\n",
        "\n",
        "**You don't have to understand every line of code here and it is not intended for you to try to understand every line of code.   \n",
        "Big blocks of code are usually meant to just be clicked through.**"
      ]
    },
    {
      "cell_type": "markdown",
      "metadata": {
        "id": "UdYKH0beLvml"
      },
      "source": [
        "<table align=\"left\">\n",
        "  <td>\n",
        "    <a target=\"_blank\" href=\"https://colab.research.google.com/github/UAPH4582/PH482_582_Sp22/blob/main/Exercises/03_Decision_Trees.ipynb\"><img src=\"https://www.tensorflow.org/images/colab_logo_32px.png\" />Run in Google Colab</a>\n",
        "  </td>\n",
        "</table>"
      ]
    },
    {
      "cell_type": "markdown",
      "metadata": {
        "id": "-Py2NOeBLvml"
      },
      "source": [
        "# Setup"
      ]
    },
    {
      "cell_type": "code",
      "execution_count": null,
      "metadata": {
        "id": "AKxv51qSLvmm"
      },
      "outputs": [],
      "source": [
        "# Python ≥3.5 is required\n",
        "import sys\n",
        "assert sys.version_info >= (3, 5)\n",
        "\n",
        "# Scikit-Learn ≥0.20 is required\n",
        "import sklearn\n",
        "assert sklearn.__version__ >= \"0.20\"\n",
        "\n",
        "# Common imports\n",
        "import numpy as np\n",
        "import os\n",
        "\n",
        "# to make this notebook's output stable across runs\n",
        "np.random.seed(42)\n",
        "\n",
        "# To plot pretty figures\n",
        "%matplotlib inline\n",
        "import matplotlib as mpl\n",
        "import matplotlib.pyplot as plt\n",
        "mpl.rc('axes', labelsize=14)\n",
        "mpl.rc('xtick', labelsize=12)\n",
        "mpl.rc('ytick', labelsize=12)"
      ]
    },
    {
      "cell_type": "markdown",
      "metadata": {
        "id": "slm-PTBnLvmn"
      },
      "source": [
        "# Loading the data"
      ]
    },
    {
      "cell_type": "markdown",
      "metadata": {
        "id": "6oDnESys6kpQ"
      },
      "source": [
        "Here we will be using the [iris dataset](https://archive.ics.uci.edu/ml/datasets/Iris).\n",
        "Try to understand the features (`X[i]`) and the labels (`y[i]`) from the link above."
      ]
    },
    {
      "cell_type": "code",
      "execution_count": null,
      "metadata": {
        "id": "NHKUSfoPLvmn"
      },
      "outputs": [],
      "source": [
        "from sklearn.datasets import load_iris\n",
        "\n",
        "iris = load_iris()\n",
        "X = iris.data[:, 2:] # petal length and width\n",
        "y = iris.target\n"
      ]
    },
    {
      "cell_type": "code",
      "execution_count": null,
      "metadata": {
        "colab": {
          "base_uri": "https://localhost:8080/"
        },
        "id": "vAG_6mzJLvmo",
        "outputId": "c6c5f753-64e2-4364-e4b7-8756d10ee487"
      },
      "outputs": [
        {
          "output_type": "execute_result",
          "data": {
            "text/plain": [
              "(150, 2)"
            ]
          },
          "metadata": {},
          "execution_count": 46
        }
      ],
      "source": [
        "X.shape  # 150 instances, 2 features per instance (petal length and width)"
      ]
    },
    {
      "cell_type": "code",
      "execution_count": null,
      "metadata": {
        "colab": {
          "base_uri": "https://localhost:8080/"
        },
        "id": "esMJWWLaLvmp",
        "outputId": "7e72c4e7-5776-4348-daee-95788ce0c67b"
      },
      "outputs": [
        {
          "output_type": "execute_result",
          "data": {
            "text/plain": [
              "(150,)"
            ]
          },
          "metadata": {},
          "execution_count": 47
        }
      ],
      "source": [
        "y.shape"
      ]
    },
    {
      "cell_type": "markdown",
      "metadata": {
        "id": "LqN-n6Z_Lvmq"
      },
      "source": [
        "Now that we have the data we can fit a model to it."
      ]
    },
    {
      "cell_type": "markdown",
      "metadata": {
        "id": "NR5pE8RNLvmq"
      },
      "source": [
        "# Decision Trees for Classification"
      ]
    },
    {
      "cell_type": "markdown",
      "metadata": {
        "id": "huyiT7KXLvmq"
      },
      "source": [
        "### Task 1\n",
        "\n",
        "Build a simple [decision tree classifier](https://scikit-learn.org/stable/modules/generated/sklearn.tree.DecisionTreeClassifier.html) with `max_depth` of 2 and `random_state` of 40. Fit to the data `X`, `y`."
      ]
    },
    {
      "cell_type": "code",
      "execution_count": null,
      "metadata": {
        "id": "LtBJvshWLvmr"
      },
      "outputs": [],
      "source": [
        "from sklearn.tree import DecisionTreeClassifier"
      ]
    },
    {
      "cell_type": "markdown",
      "metadata": {
        "id": "MzACHvMk2hd6"
      },
      "source": [
        "↓↓↓↓↓↓↓↓↓↓↓↓↓↓↓↓↓↓↓↓↓↓↓↓↓↓↓↓↓↓↓\n",
        "your code goes below"
      ]
    },
    {
      "cell_type": "code",
      "execution_count": null,
      "metadata": {
        "id": "0su6wPoLLvmr",
        "colab": {
          "base_uri": "https://localhost:8080/"
        },
        "outputId": "385777ee-6944-4279-a355-01720575c70a"
      },
      "outputs": [
        {
          "output_type": "execute_result",
          "data": {
            "text/plain": [
              "DecisionTreeClassifier(max_depth=2, random_state=40)"
            ]
          },
          "metadata": {},
          "execution_count": 49
        }
      ],
      "source": [
        " tree_clf = DecisionTreeClassifier(max_depth = 2, random_state=40)\n",
        " tree_clf.fit(X,y)"
      ]
    },
    {
      "cell_type": "markdown",
      "metadata": {
        "id": "TCHZcxPr2tqY"
      },
      "source": [
        "↑↑↑↑↑↑↑↑↑↑↑↑↑↑↑↑↑↑↑↑↑↑↑↑↑↑↑↑↑↑↑ your code goes above this "
      ]
    },
    {
      "cell_type": "markdown",
      "metadata": {
        "id": "CAPW_1OxLvms"
      },
      "source": [
        "### Visualization of the Decision Tree"
      ]
    },
    {
      "cell_type": "markdown",
      "metadata": {
        "id": "ZrWXPwvvLvms"
      },
      "source": [
        "**Note** Next step requires the GraphViz executable installed. Since there is a lot of additional work, it is recommended to work through a Colab notebook instead. However, if you'd like to continue working locally, follow the steps below. \n",
        "\n",
        "To intall GraphViz, download it here: https://graphviz.org/download/\n",
        "\n",
        "During the installation, make sure its path was added to the Path environmental variable. For your user, add the path to the bin folder, for the system environmental variable, add the path to the ```dot.exe``` file. \n",
        "```\n",
        "C:\\Program Files (x86)\\Graphviz2.38\\bin\n",
        "C:\\Program Files (x86)\\Graphviz2.38\\bin\\dot.exe\n",
        "``` \n",
        "\n",
        "Then, you can use pip or conda to install the package: ```pip install graphiz``` or ```conda install graphiz```\n",
        "\n",
        "Finally, close your Jupyter notebook, close the command promt executing it and restart both. "
      ]
    },
    {
      "cell_type": "code",
      "execution_count": null,
      "metadata": {
        "colab": {
          "base_uri": "https://localhost:8080/",
          "height": 440
        },
        "id": "3gziiuAgLvmt",
        "outputId": "18beaa4a-31ee-4cb5-eebb-4b24fef3dc1c"
      },
      "outputs": [
        {
          "output_type": "execute_result",
          "data": {
            "text/plain": [
              "<graphviz.files.Source at 0x7f1f8dd85550>"
            ],
            "image/svg+xml": "<?xml version=\"1.0\" encoding=\"UTF-8\" standalone=\"no\"?>\n<!DOCTYPE svg PUBLIC \"-//W3C//DTD SVG 1.1//EN\"\n \"http://www.w3.org/Graphics/SVG/1.1/DTD/svg11.dtd\">\n<!-- Generated by graphviz version 2.40.1 (20161225.0304)\n -->\n<!-- Title: Tree Pages: 1 -->\n<svg width=\"368pt\" height=\"314pt\"\n viewBox=\"0.00 0.00 368.00 314.00\" xmlns=\"http://www.w3.org/2000/svg\" xmlns:xlink=\"http://www.w3.org/1999/xlink\">\n<g id=\"graph0\" class=\"graph\" transform=\"scale(1 1) rotate(0) translate(4 310)\">\n<title>Tree</title>\n<polygon fill=\"#ffffff\" stroke=\"transparent\" points=\"-4,4 -4,-310 364,-310 364,4 -4,4\"/>\n<!-- 0 -->\n<g id=\"node1\" class=\"node\">\n<title>0</title>\n<path fill=\"#ffffff\" stroke=\"#000000\" d=\"M212.5,-306C212.5,-306 74.5,-306 74.5,-306 68.5,-306 62.5,-300 62.5,-294 62.5,-294 62.5,-235 62.5,-235 62.5,-229 68.5,-223 74.5,-223 74.5,-223 212.5,-223 212.5,-223 218.5,-223 224.5,-229 224.5,-235 224.5,-235 224.5,-294 224.5,-294 224.5,-300 218.5,-306 212.5,-306\"/>\n<text text-anchor=\"middle\" x=\"143.5\" y=\"-290.8\" font-family=\"Helvetica,sans-Serif\" font-size=\"14.00\" fill=\"#000000\">petal width (cm) &lt;= 0.8</text>\n<text text-anchor=\"middle\" x=\"143.5\" y=\"-275.8\" font-family=\"Helvetica,sans-Serif\" font-size=\"14.00\" fill=\"#000000\">gini = 0.667</text>\n<text text-anchor=\"middle\" x=\"143.5\" y=\"-260.8\" font-family=\"Helvetica,sans-Serif\" font-size=\"14.00\" fill=\"#000000\">samples = 150</text>\n<text text-anchor=\"middle\" x=\"143.5\" y=\"-245.8\" font-family=\"Helvetica,sans-Serif\" font-size=\"14.00\" fill=\"#000000\">value = [50, 50, 50]</text>\n<text text-anchor=\"middle\" x=\"143.5\" y=\"-230.8\" font-family=\"Helvetica,sans-Serif\" font-size=\"14.00\" fill=\"#000000\">class = setosa</text>\n</g>\n<!-- 1 -->\n<g id=\"node2\" class=\"node\">\n<title>1</title>\n<path fill=\"#e58139\" stroke=\"#000000\" d=\"M111,-179.5C111,-179.5 12,-179.5 12,-179.5 6,-179.5 0,-173.5 0,-167.5 0,-167.5 0,-123.5 0,-123.5 0,-117.5 6,-111.5 12,-111.5 12,-111.5 111,-111.5 111,-111.5 117,-111.5 123,-117.5 123,-123.5 123,-123.5 123,-167.5 123,-167.5 123,-173.5 117,-179.5 111,-179.5\"/>\n<text text-anchor=\"middle\" x=\"61.5\" y=\"-164.3\" font-family=\"Helvetica,sans-Serif\" font-size=\"14.00\" fill=\"#000000\">gini = 0.0</text>\n<text text-anchor=\"middle\" x=\"61.5\" y=\"-149.3\" font-family=\"Helvetica,sans-Serif\" font-size=\"14.00\" fill=\"#000000\">samples = 50</text>\n<text text-anchor=\"middle\" x=\"61.5\" y=\"-134.3\" font-family=\"Helvetica,sans-Serif\" font-size=\"14.00\" fill=\"#000000\">value = [50, 0, 0]</text>\n<text text-anchor=\"middle\" x=\"61.5\" y=\"-119.3\" font-family=\"Helvetica,sans-Serif\" font-size=\"14.00\" fill=\"#000000\">class = setosa</text>\n</g>\n<!-- 0&#45;&gt;1 -->\n<g id=\"edge1\" class=\"edge\">\n<title>0&#45;&gt;1</title>\n<path fill=\"none\" stroke=\"#000000\" d=\"M114.8204,-222.8796C107.0917,-211.6636 98.7191,-199.5131 90.9492,-188.2372\"/>\n<polygon fill=\"#000000\" stroke=\"#000000\" points=\"93.7018,-186.0634 85.1456,-179.8149 87.9377,-190.0353 93.7018,-186.0634\"/>\n<text text-anchor=\"middle\" x=\"80.6196\" y=\"-200.7018\" font-family=\"Helvetica,sans-Serif\" font-size=\"14.00\" fill=\"#000000\">True</text>\n</g>\n<!-- 2 -->\n<g id=\"node3\" class=\"node\">\n<title>2</title>\n<path fill=\"#ffffff\" stroke=\"#000000\" d=\"M299.5,-187C299.5,-187 153.5,-187 153.5,-187 147.5,-187 141.5,-181 141.5,-175 141.5,-175 141.5,-116 141.5,-116 141.5,-110 147.5,-104 153.5,-104 153.5,-104 299.5,-104 299.5,-104 305.5,-104 311.5,-110 311.5,-116 311.5,-116 311.5,-175 311.5,-175 311.5,-181 305.5,-187 299.5,-187\"/>\n<text text-anchor=\"middle\" x=\"226.5\" y=\"-171.8\" font-family=\"Helvetica,sans-Serif\" font-size=\"14.00\" fill=\"#000000\">petal width (cm) &lt;= 1.75</text>\n<text text-anchor=\"middle\" x=\"226.5\" y=\"-156.8\" font-family=\"Helvetica,sans-Serif\" font-size=\"14.00\" fill=\"#000000\">gini = 0.5</text>\n<text text-anchor=\"middle\" x=\"226.5\" y=\"-141.8\" font-family=\"Helvetica,sans-Serif\" font-size=\"14.00\" fill=\"#000000\">samples = 100</text>\n<text text-anchor=\"middle\" x=\"226.5\" y=\"-126.8\" font-family=\"Helvetica,sans-Serif\" font-size=\"14.00\" fill=\"#000000\">value = [0, 50, 50]</text>\n<text text-anchor=\"middle\" x=\"226.5\" y=\"-111.8\" font-family=\"Helvetica,sans-Serif\" font-size=\"14.00\" fill=\"#000000\">class = versicolor</text>\n</g>\n<!-- 0&#45;&gt;2 -->\n<g id=\"edge2\" class=\"edge\">\n<title>0&#45;&gt;2</title>\n<path fill=\"none\" stroke=\"#000000\" d=\"M172.5294,-222.8796C178.6855,-214.0534 185.2451,-204.6485 191.5936,-195.5466\"/>\n<polygon fill=\"#000000\" stroke=\"#000000\" points=\"194.4967,-197.5024 197.3467,-187.2981 188.7552,-193.4978 194.4967,-197.5024\"/>\n<text text-anchor=\"middle\" x=\"201.7331\" y=\"-208.2103\" font-family=\"Helvetica,sans-Serif\" font-size=\"14.00\" fill=\"#000000\">False</text>\n</g>\n<!-- 3 -->\n<g id=\"node4\" class=\"node\">\n<title>3</title>\n<path fill=\"#4de88e\" stroke=\"#000000\" d=\"M206.5,-68C206.5,-68 102.5,-68 102.5,-68 96.5,-68 90.5,-62 90.5,-56 90.5,-56 90.5,-12 90.5,-12 90.5,-6 96.5,0 102.5,0 102.5,0 206.5,0 206.5,0 212.5,0 218.5,-6 218.5,-12 218.5,-12 218.5,-56 218.5,-56 218.5,-62 212.5,-68 206.5,-68\"/>\n<text text-anchor=\"middle\" x=\"154.5\" y=\"-52.8\" font-family=\"Helvetica,sans-Serif\" font-size=\"14.00\" fill=\"#000000\">gini = 0.168</text>\n<text text-anchor=\"middle\" x=\"154.5\" y=\"-37.8\" font-family=\"Helvetica,sans-Serif\" font-size=\"14.00\" fill=\"#000000\">samples = 54</text>\n<text text-anchor=\"middle\" x=\"154.5\" y=\"-22.8\" font-family=\"Helvetica,sans-Serif\" font-size=\"14.00\" fill=\"#000000\">value = [0, 49, 5]</text>\n<text text-anchor=\"middle\" x=\"154.5\" y=\"-7.8\" font-family=\"Helvetica,sans-Serif\" font-size=\"14.00\" fill=\"#000000\">class = versicolor</text>\n</g>\n<!-- 2&#45;&gt;3 -->\n<g id=\"edge3\" class=\"edge\">\n<title>2&#45;&gt;3</title>\n<path fill=\"none\" stroke=\"#000000\" d=\"M199.6899,-103.9815C193.9331,-95.0666 187.8404,-85.6313 182.0559,-76.6734\"/>\n<polygon fill=\"#000000\" stroke=\"#000000\" points=\"184.9904,-74.7658 176.6254,-68.2637 179.1099,-78.5631 184.9904,-74.7658\"/>\n</g>\n<!-- 4 -->\n<g id=\"node5\" class=\"node\">\n<title>4</title>\n<path fill=\"#843de6\" stroke=\"#000000\" d=\"M348,-68C348,-68 249,-68 249,-68 243,-68 237,-62 237,-56 237,-56 237,-12 237,-12 237,-6 243,0 249,0 249,0 348,0 348,0 354,0 360,-6 360,-12 360,-12 360,-56 360,-56 360,-62 354,-68 348,-68\"/>\n<text text-anchor=\"middle\" x=\"298.5\" y=\"-52.8\" font-family=\"Helvetica,sans-Serif\" font-size=\"14.00\" fill=\"#000000\">gini = 0.043</text>\n<text text-anchor=\"middle\" x=\"298.5\" y=\"-37.8\" font-family=\"Helvetica,sans-Serif\" font-size=\"14.00\" fill=\"#000000\">samples = 46</text>\n<text text-anchor=\"middle\" x=\"298.5\" y=\"-22.8\" font-family=\"Helvetica,sans-Serif\" font-size=\"14.00\" fill=\"#000000\">value = [0, 1, 45]</text>\n<text text-anchor=\"middle\" x=\"298.5\" y=\"-7.8\" font-family=\"Helvetica,sans-Serif\" font-size=\"14.00\" fill=\"#000000\">class = virginica</text>\n</g>\n<!-- 2&#45;&gt;4 -->\n<g id=\"edge4\" class=\"edge\">\n<title>2&#45;&gt;4</title>\n<path fill=\"none\" stroke=\"#000000\" d=\"M253.3101,-103.9815C259.0669,-95.0666 265.1596,-85.6313 270.9441,-76.6734\"/>\n<polygon fill=\"#000000\" stroke=\"#000000\" points=\"273.8901,-78.5631 276.3746,-68.2637 268.0096,-74.7658 273.8901,-78.5631\"/>\n</g>\n</g>\n</svg>\n"
          },
          "metadata": {},
          "execution_count": 50
        }
      ],
      "source": [
        "from graphviz import Source\n",
        "from sklearn.tree import export_graphviz\n",
        "\n",
        "IMAGES_PATH = os.path.join(\".\", \"images\")\n",
        "os.makedirs(IMAGES_PATH, exist_ok=True)\n",
        "\n",
        "export_graphviz(\n",
        "        tree_clf,\n",
        "        out_file=os.path.join(IMAGES_PATH, \"iris_tree.dot\"),\n",
        "        feature_names=iris.feature_names[2:],\n",
        "        class_names=iris.target_names,\n",
        "        rounded=True,\n",
        "        filled=True\n",
        "    )\n",
        "\n",
        "Source.from_file(os.path.join(IMAGES_PATH, \"iris_tree.dot\"))"
      ]
    },
    {
      "cell_type": "code",
      "execution_count": null,
      "metadata": {
        "id": "62w-roFsLvmt",
        "colab": {
          "base_uri": "https://localhost:8080/",
          "height": 291
        },
        "outputId": "2a80de92-8bb3-443d-8eb7-870da2df6f94"
      },
      "outputs": [
        {
          "output_type": "display_data",
          "data": {
            "image/png": "[encoded data removed]",
            "text/plain": [
              "<Figure size 576x288 with 1 Axes>"
            ]
          },
          "metadata": {
            "needs_background": "light"
          }
        }
      ],
      "source": [
        "from matplotlib.colors import ListedColormap\n",
        "\n",
        "def plot_decision_boundary(clf, X, y, axes=[0, 7.5, 0, 3], iris=True, legend=False, plot_training=True):\n",
        "    x1s = np.linspace(axes[0], axes[1], 100)\n",
        "    x2s = np.linspace(axes[2], axes[3], 100)\n",
        "    x1, x2 = np.meshgrid(x1s, x2s)\n",
        "    X_new = np.c_[x1.ravel(), x2.ravel()]\n",
        "    y_pred = clf.predict(X_new).reshape(x1.shape)\n",
        "    custom_cmap = ListedColormap(['#fafab0','#9898ff','#a0faa0'])\n",
        "    plt.contourf(x1, x2, y_pred, alpha=0.3, cmap=custom_cmap)\n",
        "    if not iris:\n",
        "        custom_cmap2 = ListedColormap(['#7d7d58','#4c4c7f','#507d50'])\n",
        "        plt.contour(x1, x2, y_pred, cmap=custom_cmap2, alpha=0.8)\n",
        "    if plot_training:\n",
        "        plt.plot(X[:, 0][y==0], X[:, 1][y==0], \"yo\", label=\"Iris setosa\")\n",
        "        plt.plot(X[:, 0][y==1], X[:, 1][y==1], \"bs\", label=\"Iris versicolor\")\n",
        "        plt.plot(X[:, 0][y==2], X[:, 1][y==2], \"g^\", label=\"Iris virginica\")\n",
        "        plt.axis(axes)\n",
        "    if iris:\n",
        "        plt.xlabel(\"Petal length\", fontsize=14)\n",
        "        plt.ylabel(\"Petal width\", fontsize=14)\n",
        "    else:\n",
        "        plt.xlabel(r\"$x_1$\", fontsize=18)\n",
        "        plt.ylabel(r\"$x_2$\", fontsize=18, rotation=0)\n",
        "    if legend:\n",
        "        plt.legend(loc=\"lower right\", fontsize=14)\n",
        "\n",
        "plt.figure(figsize=(8, 4))\n",
        "plot_decision_boundary(tree_clf, X, y)\n",
        "plt.plot([2.45, 2.45], [0, 3], \"k-\", linewidth=2)\n",
        "plt.plot([2.45, 7.5], [1.75, 1.75], \"k--\", linewidth=2)\n",
        "plt.plot([4.95, 4.95], [0, 1.75], \"k:\", linewidth=2)\n",
        "plt.plot([4.85, 4.85], [1.75, 3], \"k:\", linewidth=2)\n",
        "plt.text(1.40, 1.0, \"Depth=0\", fontsize=15)\n",
        "plt.text(3.2, 1.80, \"Depth=1\", fontsize=13)\n",
        "plt.text(4.05, 0.5, \"(Depth=2)\", fontsize=11)\n",
        "\n",
        "plt.show()"
      ]
    },
    {
      "cell_type": "markdown",
      "metadata": {
        "id": "GG5_hSo9Lvmu"
      },
      "source": [
        "## Predicting classes and class probabilities"
      ]
    },
    {
      "cell_type": "markdown",
      "metadata": {
        "id": "LoFdkAfPLvmu"
      },
      "source": [
        "### Task 2\n",
        "Next, predict the probabilities and the class for the following values: ``` [5, 1.5] ```.\n",
        "\n",
        "You will need the functions `tree_clf.predict_proba()` and `tree_clf.predict()`."
      ]
    },
    {
      "cell_type": "markdown",
      "metadata": {
        "id": "Zjoh3xeA36Rc"
      },
      "source": [
        "↓↓↓↓↓↓↓↓↓↓↓↓↓↓↓↓↓↓↓↓↓↓↓↓↓↓↓↓↓↓↓\n",
        "your code goes below"
      ]
    },
    {
      "cell_type": "code",
      "execution_count": null,
      "metadata": {
        "id": "fGOKuN7zLvmu",
        "colab": {
          "base_uri": "https://localhost:8080/"
        },
        "outputId": "eaea64f8-186c-4b28-df3d-e8b5528ac035"
      },
      "outputs": [
        {
          "output_type": "execute_result",
          "data": {
            "text/plain": [
              "array([[0.        , 0.90740741, 0.09259259]])"
            ]
          },
          "metadata": {},
          "execution_count": 52
        }
      ],
      "source": [
        "pred_prob = tree_clf.predict_proba([[5, 1.5]])\n",
        "pred_prob"
      ]
    },
    {
      "cell_type": "code",
      "execution_count": null,
      "metadata": {
        "id": "NI9sJ915Lvmu",
        "colab": {
          "base_uri": "https://localhost:8080/"
        },
        "outputId": "9998480b-5782-4adc-92b4-6db8e7f41e34"
      },
      "outputs": [
        {
          "output_type": "execute_result",
          "data": {
            "text/plain": [
              "array([1])"
            ]
          },
          "metadata": {},
          "execution_count": 53
        }
      ],
      "source": [
        "y_pred = tree_clf.predict([[5, 1.5]])\n",
        "y_pred"
      ]
    },
    {
      "cell_type": "markdown",
      "metadata": {
        "id": "z9UKK78g38bM"
      },
      "source": [
        "↑↑↑↑↑↑↑↑↑↑↑↑↑↑↑↑↑↑↑↑↑↑↑↑↑↑↑↑↑↑↑ your code goes above this "
      ]
    },
    {
      "cell_type": "markdown",
      "metadata": {
        "id": "Diwf_pKgLvmv"
      },
      "source": [
        "You can also check in the plot above in what class you would put the instance `[5, 1.5]`.\n",
        "In the plot yellow corresponds to class 0 (Iris setosa), blue corresponds to class 1 (Iris versicolor) and green corresponds to class 2 (Iris virginica)."
      ]
    },
    {
      "cell_type": "markdown",
      "metadata": {
        "id": "06craaUpLvmv"
      },
      "source": [
        "## Sensitivity to training set details"
      ]
    },
    {
      "cell_type": "markdown",
      "metadata": {
        "id": "_T9FESIKLvmv"
      },
      "source": [
        "### Task 3\n",
        "Next, we want to expolore the sensitivity to the training set details. \n",
        "We will train the same decision tree model, but with slightly different training data.\n",
        "\n",
        "\n",
        "**Task 3a**: What does the output below show? \n",
        "\n",
        "Hint: refer to the [dataset description](https://scikit-learn.org/stable/auto_examples/datasets/plot_iris_dataset.html)\n",
        "and think about the slicing of the array below. Which values are selected and which data do they show?\n",
        "It helps to evaluate parts of the expression separately and try to understand them."
      ]
    },
    {
      "cell_type": "code",
      "execution_count": null,
      "metadata": {
        "colab": {
          "base_uri": "https://localhost:8080/"
        },
        "id": "_b6kbQlWLvmv",
        "outputId": "41dde308-d34f-4c3b-c3fe-7c9c53aa72b6"
      },
      "outputs": [
        {
          "output_type": "stream",
          "name": "stdout",
          "text": [
            "[False False False False False False False False False False False False\n",
            " False False False False False False False False False False False False\n",
            " False False False False False False False False False False False False\n",
            " False False False False False False False False False False False False\n",
            " False False False False False False False False False False False False\n",
            " False False False False False False False False False False  True False\n",
            " False False False False False False False False False False False False\n",
            " False False False False False False False False False False False False\n",
            " False False False False False False False False False False False False\n",
            " False False False False False False False False False False False False\n",
            " False False False False False False False False False False False False\n",
            " False False False False False False False False False False False False\n",
            " False False False False False False]\n"
          ]
        }
      ],
      "source": [
        "X[(X[:, 1]==X[:, 1][y==1].max()) & (y==1)] "
      ]
    },
    {
      "cell_type": "markdown",
      "metadata": {
        "id": "IXfv9e_SLvmv"
      },
      "source": [
        "↓↓↓↓↓↓↓↓↓↓↓↓↓↓↓↓↓↓↓↓↓↓↓↓↓↓↓↓↓↓↓\n",
        "your code goes below"
      ]
    },
    {
      "cell_type": "markdown",
      "metadata": {
        "id": "6Y9x_e-tLvmv"
      },
      "source": [
        "Task 3a answer: This array is True when the width of a petal is equal to the maximum value of the Iris versicolor petal width (1.8) and it is a Iris versicolor petal."
      ]
    },
    {
      "cell_type": "markdown",
      "metadata": {
        "id": "MJ8fLtTKLvmw"
      },
      "source": [
        "↑↑↑↑↑↑↑↑↑↑↑↑↑↑↑↑↑↑↑↑↑↑↑↑↑↑↑↑↑↑↑ your code goes above this "
      ]
    },
    {
      "cell_type": "markdown",
      "metadata": {
        "id": "1EatTXtOLvmw"
      },
      "source": [
        "**Task 3b**: Now, what if we select the values that are NOT 1.8. Which data would the dataset represent? "
      ]
    },
    {
      "cell_type": "markdown",
      "metadata": {
        "id": "l24q8LbZLvmw"
      },
      "source": [
        "↓↓↓↓↓↓↓↓↓↓↓↓↓↓↓↓↓↓↓↓↓↓↓↓↓↓↓↓↓↓↓\n",
        "your code goes below"
      ]
    },
    {
      "cell_type": "markdown",
      "metadata": {
        "id": "mA4_p-1NLvmw"
      },
      "source": [
        "Task 3b answer: This data set will represent the original data but without the Iris versicolor(s) with higher petal width."
      ]
    },
    {
      "cell_type": "markdown",
      "metadata": {
        "id": "H_we9tatLvmw"
      },
      "source": [
        "↑↑↑↑↑↑↑↑↑↑↑↑↑↑↑↑↑↑↑↑↑↑↑↑↑↑↑↑↑↑↑ your code goes above this "
      ]
    },
    {
      "cell_type": "code",
      "execution_count": null,
      "metadata": {
        "id": "p9Ih_SPJLvmw"
      },
      "outputs": [],
      "source": [
        "not_1_8 = (X[:, 1]!=1.8) | (y==2)\n",
        "X_tweaked = X[not_1_8]\n",
        "y_tweaked = y[not_1_8]"
      ]
    },
    {
      "cell_type": "markdown",
      "metadata": {
        "id": "P2R8FoyfLvmx"
      },
      "source": [
        "**Task 3c**: Fit a new Decision Tree Classifier to these values (`X_tweaked`, `y_tweaked`) with the same initial parameter values ```max_depth = 2``` and ```random_state = 42```."
      ]
    },
    {
      "cell_type": "markdown",
      "metadata": {
        "id": "bmkWDe7wLvmx"
      },
      "source": [
        "↓↓↓↓↓↓↓↓↓↓↓↓↓↓↓↓↓↓↓↓↓↓↓↓↓↓↓↓↓↓↓\n",
        "your code goes below"
      ]
    },
    {
      "cell_type": "code",
      "execution_count": null,
      "metadata": {
        "id": "vohlqSe7Lvmx"
      },
      "outputs": [],
      "source": [
        "tree_clf_tweaked = tree_clf.fit(X_tweaked, y_tweaked)"
      ]
    },
    {
      "cell_type": "markdown",
      "metadata": {
        "id": "edgT5nsVLvmx"
      },
      "source": [
        "↑↑↑↑↑↑↑↑↑↑↑↑↑↑↑↑↑↑↑↑↑↑↑↑↑↑↑↑↑↑↑ your code goes above this "
      ]
    },
    {
      "cell_type": "markdown",
      "metadata": {
        "id": "QaL72ABNLvmx"
      },
      "source": [
        "So now we have trained a new decision tree `tree_clf_tweaked` that has slightly different training data (actually only *one* element less).   \n",
        "Let's visualize the new decision tree."
      ]
    },
    {
      "cell_type": "code",
      "execution_count": null,
      "metadata": {
        "id": "1SXLFWekLvmx",
        "colab": {
          "base_uri": "https://localhost:8080/",
          "height": 291
        },
        "outputId": "202705cb-a43d-4318-9dd9-499e741985c1"
      },
      "outputs": [
        {
          "output_type": "display_data",
          "data": {
            "image/png": "[encoded data removed]",
            "text/plain": [
              "<Figure size 576x288 with 1 Axes>"
            ]
          },
          "metadata": {
            "needs_background": "light"
          }
        }
      ],
      "source": [
        "plt.figure(figsize=(8, 4))\n",
        "plot_decision_boundary(tree_clf_tweaked, X_tweaked, y_tweaked, legend=False)\n",
        "plt.plot([0, 7.5], [0.8, 0.8], \"k-\", linewidth=2)\n",
        "plt.plot([0, 7.5], [1.75, 1.75], \"k--\", linewidth=2)\n",
        "plt.text(1.0, 0.9, \"Depth=0\", fontsize=15)\n",
        "plt.text(1.0, 1.80, \"Depth=1\", fontsize=13)\n",
        "plt.show()"
      ]
    },
    {
      "cell_type": "markdown",
      "metadata": {
        "id": "3KDj1inqLvmy"
      },
      "source": [
        "**Task 3d**: Describe how the new decision tree is different from the one before."
      ]
    },
    {
      "cell_type": "markdown",
      "metadata": {
        "id": "kscTnPS1Lvmy"
      },
      "source": [
        "↓↓↓↓↓↓↓↓↓↓↓↓↓↓↓↓↓↓↓↓↓↓↓↓↓↓↓↓↓↓↓\n",
        "your code goes below"
      ]
    },
    {
      "cell_type": "markdown",
      "metadata": {
        "id": "7WyF_v-9Lvmy"
      },
      "source": [
        "Task 3d answer: The new decision tree differs from the past one because it only looks the feature petal width when splitting. A split in petal length did not improve the gain of the tree, it stopped with depth tree equal to one."
      ]
    },
    {
      "cell_type": "markdown",
      "metadata": {
        "id": "EBN0Ja4NLvmy"
      },
      "source": [
        "↑↑↑↑↑↑↑↑↑↑↑↑↑↑↑↑↑↑↑↑↑↑↑↑↑↑↑↑↑↑↑ your code goes above this "
      ]
    },
    {
      "cell_type": "markdown",
      "metadata": {
        "id": "_taL5yIyLvmy"
      },
      "source": [
        "# Regression Trees"
      ]
    },
    {
      "cell_type": "markdown",
      "metadata": {
        "id": "EWCFARlILvmy"
      },
      "source": [
        "In this subsection, we will be working with a regression task. \n",
        "Notice that the dataset below is different. Here we are using a training set generated by a quadratic function with the addition of some random noise. "
      ]
    },
    {
      "cell_type": "code",
      "execution_count": null,
      "metadata": {
        "id": "U_680ZX4Lvmy"
      },
      "outputs": [],
      "source": [
        "np.random.seed(42)\n",
        "m = 200\n",
        "X = np.random.rand(m, 1)\n",
        "y = 4 * (X - 0.5) ** 2\n",
        "y = y + np.random.randn(m, 1) / 10"
      ]
    },
    {
      "cell_type": "markdown",
      "metadata": {
        "id": "fT4eSc39Lvmy"
      },
      "source": [
        "### Task 4\n",
        "Similar to what you've done above, create a [decision tree regressor](https://scikit-learn.org/stable/modules/generated/sklearn.tree.DecisionTreeRegressor.html) with the same hyperparameters as the classifier. "
      ]
    },
    {
      "cell_type": "code",
      "execution_count": null,
      "metadata": {
        "id": "D0P4Z_ivLvmy"
      },
      "outputs": [],
      "source": [
        "from sklearn.tree import DecisionTreeRegressor\n"
      ]
    },
    {
      "cell_type": "markdown",
      "metadata": {
        "id": "X5IeVa0P6k0E"
      },
      "source": [
        "↓↓↓↓↓↓↓↓↓↓↓↓↓↓↓↓↓↓↓↓↓↓↓↓↓↓↓↓↓↓↓ your code goes below"
      ]
    },
    {
      "cell_type": "code",
      "execution_count": null,
      "metadata": {
        "id": "nGp1S4tkLvmz"
      },
      "outputs": [],
      "source": [
        "tree_reg = DecisionTreeRegressor(max_depth=2, random_state=40)"
      ]
    },
    {
      "cell_type": "code",
      "execution_count": null,
      "metadata": {
        "id": "OQ736E0QLvmz",
        "colab": {
          "base_uri": "https://localhost:8080/"
        },
        "outputId": "ff1c5e59-6ac1-4bfc-f234-fec9593cfe3a"
      },
      "outputs": [
        {
          "output_type": "execute_result",
          "data": {
            "text/plain": [
              "DecisionTreeRegressor(max_depth=2, random_state=40)"
            ]
          },
          "metadata": {},
          "execution_count": 61
        }
      ],
      "source": [
        "tree_reg.fit(X,y)"
      ]
    },
    {
      "cell_type": "markdown",
      "metadata": {
        "id": "_o9Bq2js73A4"
      },
      "source": [
        "↑↑↑↑↑↑↑↑↑↑↑↑↑↑↑↑↑↑↑↑↑↑↑↑↑↑↑↑↑↑↑ your code goes above this "
      ]
    },
    {
      "cell_type": "markdown",
      "metadata": {
        "id": "Tqv5xTc7Lvmz"
      },
      "source": [
        "Below, you'll see the difference in the prediction for an increased value of the ```max_depth``` parameter. What can you say about the results?"
      ]
    },
    {
      "cell_type": "code",
      "execution_count": null,
      "metadata": {
        "id": "m6-d4F5PLvmz"
      },
      "outputs": [],
      "source": [
        "from sklearn.tree import DecisionTreeRegressor\n",
        "\n",
        "tree_reg1 = DecisionTreeRegressor(random_state=42, max_depth=2)\n",
        "tree_reg2 = DecisionTreeRegressor(random_state=42, max_depth=3)\n",
        "tree_reg1.fit(X, y)\n",
        "tree_reg2.fit(X, y)\n",
        "\n",
        "def plot_regression_predictions(tree_reg, X, y, axes=[0, 1, -0.2, 1], ylabel=\"$y$\"):\n",
        "    x1 = np.linspace(axes[0], axes[1], 500).reshape(-1, 1)\n",
        "    y_pred = tree_reg.predict(x1)\n",
        "    plt.axis(axes)\n",
        "    plt.xlabel(\"$x_1$\", fontsize=18)\n",
        "    if ylabel:\n",
        "        plt.ylabel(ylabel, fontsize=18, rotation=0)\n",
        "    plt.plot(X, y, \"b.\")\n",
        "    plt.plot(x1, y_pred, \"r.-\", linewidth=2, label=r\"$\\hat{y}$\")\n",
        "\n",
        "fig, axes = plt.subplots(ncols=2, figsize=(10, 4), sharey=True)\n",
        "plt.sca(axes[0])\n",
        "plot_regression_predictions(tree_reg1, X, y)\n",
        "for split, style in ((0.1973, \"k-\"), (0.0917, \"k--\"), (0.7718, \"k--\")):\n",
        "    plt.plot([split, split], [-0.2, 1], style, linewidth=2)\n",
        "plt.text(0.21, 0.65, \"Depth=0\", fontsize=15)\n",
        "plt.text(0.01, 0.2, \"Depth=1\", fontsize=13)\n",
        "plt.text(0.65, 0.8, \"Depth=1\", fontsize=13)\n",
        "plt.legend(loc=\"upper center\", fontsize=18)\n",
        "plt.title(\"max_depth=2\", fontsize=14)\n",
        "\n",
        "plt.sca(axes[1])\n",
        "plot_regression_predictions(tree_reg2, X, y, ylabel=None)\n",
        "for split, style in ((0.1973, \"k-\"), (0.0917, \"k--\"), (0.7718, \"k--\")):\n",
        "    plt.plot([split, split], [-0.2, 1], style, linewidth=2)\n",
        "for split in (0.0458, 0.1298, 0.2873, 0.9040):\n",
        "    plt.plot([split, split], [-0.2, 1], \"k:\", linewidth=1)\n",
        "plt.text(0.3, 0.5, \"Depth=2\", fontsize=13)\n",
        "plt.title(\"max_depth=3\", fontsize=14)\n",
        "\n",
        "plt.show()"
      ]
    },
    {
      "cell_type": "code",
      "execution_count": null,
      "metadata": {
        "id": "3crrk6E0Lvm0"
      },
      "outputs": [],
      "source": [
        "export_graphviz(\n",
        "        tree_reg1,\n",
        "        out_file=os.path.join(IMAGES_PATH, \"regression_tree.dot\"),\n",
        "        feature_names=[\"x1\"],\n",
        "        rounded=True,\n",
        "        filled=True\n",
        "    )\n",
        "Source.from_file(os.path.join(IMAGES_PATH, \"regression_tree.dot\"))"
      ]
    },
    {
      "cell_type": "markdown",
      "metadata": {
        "id": "bxasJyRFLvm0"
      },
      "source": [
        "## Restricting the Tree with `min_samples_leaf`"
      ]
    },
    {
      "cell_type": "markdown",
      "metadata": {
        "id": "i4jVUrTPLvm0"
      },
      "source": [
        "Here we are restricting the tree to `min_samples_leaf=10`. You can read about it in [the documentation](https://scikit-learn.org/stable/modules/generated/sklearn.tree.DecisionTreeRegressor.html)."
      ]
    },
    {
      "cell_type": "code",
      "execution_count": null,
      "metadata": {
        "id": "u__spHoSLvm0"
      },
      "outputs": [],
      "source": [
        "tree_reg1 = DecisionTreeRegressor(random_state=42)\n",
        "tree_reg2 = DecisionTreeRegressor(random_state=42, min_samples_leaf=10)\n",
        "tree_reg1.fit(X, y)\n",
        "tree_reg2.fit(X, y)\n",
        "\n",
        "x1 = np.linspace(0, 1, 500).reshape(-1, 1)\n",
        "y_pred1 = tree_reg1.predict(x1)\n",
        "y_pred2 = tree_reg2.predict(x1)\n",
        "\n",
        "fig, axes = plt.subplots(ncols=2, figsize=(10, 4), sharey=True)\n",
        "\n",
        "plt.sca(axes[0])\n",
        "plt.plot(X, y, \"b.\")\n",
        "plt.plot(x1, y_pred1, \"r.-\", linewidth=2, label=r\"$\\hat{y}$\")\n",
        "plt.axis([0, 1, -0.2, 1.1])\n",
        "plt.xlabel(\"$x_1$\", fontsize=18)\n",
        "plt.ylabel(\"$y$\", fontsize=18, rotation=0)\n",
        "plt.legend(loc=\"upper center\", fontsize=18)\n",
        "plt.title(\"No restrictions\", fontsize=14)\n",
        "\n",
        "plt.sca(axes[1])\n",
        "plt.plot(X, y, \"b.\")\n",
        "plt.plot(x1, y_pred2, \"r.-\", linewidth=2, label=r\"$\\hat{y}$\")\n",
        "plt.axis([0, 1, -0.2, 1.1])\n",
        "plt.xlabel(\"$x_1$\", fontsize=18)\n",
        "plt.title(\"min_samples_leaf={}\".format(tree_reg2.min_samples_leaf), fontsize=14)\n",
        "\n",
        "plt.show()"
      ]
    },
    {
      "cell_type": "markdown",
      "metadata": {
        "id": "TfioJ6bhLvm0"
      },
      "source": [
        "### Task 5\n",
        "\n",
        "Discuss the effect of the restrictions on the regression results. "
      ]
    },
    {
      "cell_type": "markdown",
      "metadata": {
        "id": "3pu8O_PnLvm1"
      },
      "source": [
        "↓↓↓↓↓↓↓↓↓↓↓↓↓↓↓↓↓↓↓↓↓↓↓↓↓↓↓↓↓↓↓ your code goes below"
      ]
    },
    {
      "cell_type": "markdown",
      "metadata": {
        "id": "CwwXiX4cLvm1"
      },
      "source": [
        "Task 5 answer:"
      ]
    },
    {
      "cell_type": "markdown",
      "metadata": {
        "id": "rBE7oVb9Lvm1"
      },
      "source": [
        "↑↑↑↑↑↑↑↑↑↑↑↑↑↑↑↑↑↑↑↑↑↑↑↑↑↑↑↑↑↑↑ your code goes above this "
      ]
    },
    {
      "cell_type": "markdown",
      "metadata": {
        "id": "P3IfDqQRLvm1"
      },
      "source": [
        "# Random Forests"
      ]
    },
    {
      "cell_type": "markdown",
      "metadata": {
        "id": "8WnVP54rLvm1"
      },
      "source": [
        "In this exercise you will be using the [make_moons](https://scikit-learn.org/stable/modules/generated/sklearn.datasets.make_moons.html) dataset. You can see a plot below. \n"
      ]
    },
    {
      "cell_type": "code",
      "execution_count": null,
      "metadata": {
        "id": "pDumL4RnLvm1"
      },
      "outputs": [],
      "source": [
        "from sklearn.datasets import make_moons\n",
        "\n",
        "X, y = make_moons(n_samples=10000, noise=0.4, random_state=42)"
      ]
    },
    {
      "cell_type": "code",
      "execution_count": null,
      "metadata": {
        "id": "RQeS4I_nLvm1"
      },
      "outputs": [],
      "source": [
        "cm_bright = ListedColormap([\"#FF0000\", \"#0000FF\"])\n",
        "plt.scatter(X[:,0], X[:,1], c=y, cmap=cm_bright, edgecolors=\"k\");"
      ]
    },
    {
      "cell_type": "code",
      "execution_count": null,
      "metadata": {
        "id": "qn5Cxp6lLvm2"
      },
      "outputs": [],
      "source": [
        "from sklearn.model_selection import train_test_split\n",
        "X_train, X_test, y_train, y_test = train_test_split(X, y, test_size=0.2, random_state=42)\n",
        "len(X_train)"
      ]
    },
    {
      "cell_type": "code",
      "execution_count": null,
      "metadata": {
        "id": "QLtSoaJXLvm2"
      },
      "outputs": [],
      "source": [
        "tree_moons = DecisionTreeClassifier(class_weight=None, criterion='gini', max_depth=None,\n",
        "                       max_features=None, max_leaf_nodes=17,\n",
        "                       min_impurity_decrease=0.0, \n",
        "                       min_samples_leaf=1, min_samples_split=2,\n",
        "                       min_weight_fraction_leaf=0.0, \n",
        "                       random_state=42, splitter='best')\n",
        "tree_moons.fit(X_train, y_train)"
      ]
    },
    {
      "cell_type": "code",
      "execution_count": null,
      "metadata": {
        "id": "uztDNVn4Lvm2"
      },
      "outputs": [],
      "source": [
        "from sklearn.metrics import accuracy_score\n",
        "\n",
        "y_pred_moons = tree_moons.predict(X_test)\n",
        "accuracy_score(y_test, y_pred_moons)"
      ]
    },
    {
      "cell_type": "markdown",
      "metadata": {
        "id": "28IASpWkLvm2"
      },
      "source": [
        "The decision tree trained with all data has an accuracy as shown above.\n",
        "Now we will build a forest consisting of trees."
      ]
    },
    {
      "cell_type": "markdown",
      "metadata": {
        "id": "GF7rD4OdLvm2"
      },
      "source": [
        "We will be building 100 `DecisionTreeClassifier`s.\n",
        "First we do a train-test-split to get training and test data."
      ]
    },
    {
      "cell_type": "markdown",
      "metadata": {
        "id": "JdooBsL9Lvm2"
      },
      "source": [
        "As you can see, the training data has a size of 8000 instances.\n",
        "Let's generate 1000 subsets (mini-sets) of `X_train`, each containing 100 instances selected randomly.\n",
        "Then we will train a separate tree on each of the mini-sets."
      ]
    },
    {
      "cell_type": "markdown",
      "metadata": {
        "id": "2CHBb3ZHLvm2"
      },
      "source": [
        "## Task 6\n",
        "\n",
        "Grow a forest.\n",
        "You will have to get the following done, the way you implement it is your choice:\n",
        "\n",
        "- Split `X_train` into 1000 subsets, each containing 100 instances selected randomly. You can use sklearn's [ShuffleSplit](https://scikit-learn.org/stable/modules/generated/sklearn.model_selection.ShuffleSplit.html) for this. \n",
        "- Train one [Decision Tree](https://scikit-learn.org/0.17/modules/generated/sklearn.tree.DecisionTreeClassifier.html) on each subset. The hyperparameter values below work well:\n",
        "```python\n",
        "class_weight=None, criterion='gini', max_depth=None,\n",
        "                       max_features=None, max_leaf_nodes=17,\n",
        "                       min_samples_leaf=1, min_samples_split=2,\n",
        "                       min_weight_fraction_leaf=0.0, \n",
        "                       random_state=42, splitter='best'\n",
        "```\n",
        "You might need `from sklearn.base import clone`. To clone the tree 1000 times.\n",
        "- calculate the accuracy on the test data `X_test`, `y_test` for each tree. What is the mean accuracy?\n",
        "- Build a forest: For each test set instance, generate the predictions of the 1,000 Decision Trees, and keep only the most frequent prediction (you can use SciPy's `scipy.stats.mode()` function for this). This gives you _majority-vote predictions_ over the test set. What is the accuracy of your fores? You should get a slightly better accuracy than the one tree trained on all training data.\n",
        "\n",
        "\n",
        "If you struggle with this task for too long, then you can find the solution [here](https://github.com/ageron/handson-ml2/blob/master/06_decision_trees.ipynb) under 8 (bottom of the notebook) or [here](https://github.com/UAPH4582/PH482_582_Sp22/blob/main/Exercises/03_Forest_Solution.ipynb).\n",
        "Try not to copy all of the code, but at least write some of it yourself."
      ]
    },
    {
      "cell_type": "code",
      "execution_count": null,
      "metadata": {
        "id": "7HMNRC-7Lvm3"
      },
      "outputs": [],
      "source": [
        "from sklearn.model_selection import ShuffleSplit\n",
        "from sklearn.base import clone\n",
        "from scipy.stats import mode\n",
        "\n",
        "\n",
        "n_trees = 1000\n",
        "n_instances = 100\n",
        "mini_sets = []\n",
        "\n",
        "rs = ShuffleSplit(n_splits=n_trees, test_size=len(X_train) - n_instances, random_state=42)\n",
        "for mini_train_index, mini_test_index in rs.split(X_train):\n",
        "    X_mini_train = X_train[mini_train_index]\n",
        "    y_mini_train = y_train[mini_train_index]\n",
        "    mini_sets.append((X_mini_train, y_mini_train))"
      ]
    },
    {
      "cell_type": "markdown",
      "metadata": {
        "id": "nsnymzLuLvm2"
      },
      "source": [
        "↓↓↓↓↓↓↓↓↓↓↓↓↓↓↓↓↓↓↓↓↓↓↓↓↓↓↓↓↓↓↓ your code goes below"
      ]
    },
    {
      "cell_type": "code",
      "source": [
        "from sklearn.model_selection import GridSearchCV\n",
        "\n",
        "params_grid = {'max_leaf_nodes': list(range(2, 100)), 'min_samples_split': [1,2,3,4,5,6]}\n",
        "grid_search = GridSearchCV(DecisionTreeClassifier(random_state=42), params_grid, verbose=2, cv=2)\n",
        "\n",
        "grid_search.fit(X_mini_train, y_mini_train)"
      ],
      "metadata": {
        "id": "cX5-u-m39ZwE",
        "colab": {
          "base_uri": "https://localhost:8080/"
        },
        "outputId": "66747317-0df3-49d5-b995-89257ece15b4"
      },
      "execution_count": null,
      "outputs": [
        {
          "output_type": "stream",
          "name": "stdout",
          "text": [
            "Fitting 2 folds for each of 588 candidates, totalling 1176 fits\n",
            "[CV] END ..............max_leaf_nodes=2, min_samples_split=1; total time=   0.0s\n",
            "[CV] END ..............max_leaf_nodes=2, min_samples_split=1; total time=   0.0s\n",
            "[CV] END ..............max_leaf_nodes=2, min_samples_split=2; total time=   0.0s\n",
            "[CV] END ..............max_leaf_nodes=2, min_samples_split=2; total time=   0.0s\n",
            "[CV] END ..............max_leaf_nodes=2, min_samples_split=3; total time=   0.0s\n",
            "[CV] END ..............max_leaf_nodes=2, min_samples_split=3; total time=   0.0s\n",
            "[CV] END ..............max_leaf_nodes=2, min_samples_split=4; total time=   0.0s\n",
            "[CV] END ..............max_leaf_nodes=2, min_samples_split=4; total time=   0.0s\n",
            "[CV] END ..............max_leaf_nodes=2, min_samples_split=5; total time=   0.0s\n",
            "[CV] END ..............max_leaf_nodes=2, min_samples_split=5; total time=   0.0s\n",
            "[CV] END ..............max_leaf_nodes=2, min_samples_split=6; total time=   0.0s\n",
            "[CV] END ..............max_leaf_nodes=2, min_samples_split=6; total time=   0.0s\n",
            "[CV] END ..............max_leaf_nodes=3, min_samples_split=1; total time=   0.0s\n",
            "[CV] END ..............max_leaf_nodes=3, min_samples_split=1; total time=   0.0s\n",
            "[CV] END ..............max_leaf_nodes=3, min_samples_split=2; total time=   0.0s\n",
            "[CV] END ..............max_leaf_nodes=3, min_samples_split=2; total time=   0.0s\n",
            "[CV] END ..............max_leaf_nodes=3, min_samples_split=3; total time=   0.0s\n",
            "[CV] END ..............max_leaf_nodes=3, min_samples_split=3; total time=   0.0s\n",
            "[CV] END ..............max_leaf_nodes=3, min_samples_split=4; total time=   0.0s\n",
            "[CV] END ..............max_leaf_nodes=3, min_samples_split=4; total time=   0.0s\n",
            "[CV] END ..............max_leaf_nodes=3, min_samples_split=5; total time=   0.0s\n",
            "[CV] END ..............max_leaf_nodes=3, min_samples_split=5; total time=   0.0s\n",
            "[CV] END ..............max_leaf_nodes=3, min_samples_split=6; total time=   0.0s\n",
            "[CV] END ..............max_leaf_nodes=3, min_samples_split=6; total time=   0.0s\n",
            "[CV] END ..............max_leaf_nodes=4, min_samples_split=1; total time=   0.0s\n",
            "[CV] END ..............max_leaf_nodes=4, min_samples_split=1; total time=   0.0s\n",
            "[CV] END ..............max_leaf_nodes=4, min_samples_split=2; total time=   0.0s\n",
            "[CV] END ..............max_leaf_nodes=4, min_samples_split=2; total time=   0.0s\n",
            "[CV] END ..............max_leaf_nodes=4, min_samples_split=3; total time=   0.0s\n",
            "[CV] END ..............max_leaf_nodes=4, min_samples_split=3; total time=   0.0s\n",
            "[CV] END ..............max_leaf_nodes=4, min_samples_split=4; total time=   0.0s\n",
            "[CV] END ..............max_leaf_nodes=4, min_samples_split=4; total time=   0.0s\n",
            "[CV] END ..............max_leaf_nodes=4, min_samples_split=5; total time=   0.0s\n",
            "[CV] END ..............max_leaf_nodes=4, min_samples_split=5; total time=   0.0s\n",
            "[CV] END ..............max_leaf_nodes=4, min_samples_split=6; total time=   0.0s\n",
            "[CV] END ..............max_leaf_nodes=4, min_samples_split=6; total time=   0.0s\n",
            "[CV] END ..............max_leaf_nodes=5, min_samples_split=1; total time=   0.0s\n",
            "[CV] END ..............max_leaf_nodes=5, min_samples_split=1; total time=   0.0s\n",
            "[CV] END ..............max_leaf_nodes=5, min_samples_split=2; total time=   0.0s\n",
            "[CV] END ..............max_leaf_nodes=5, min_samples_split=2; total time=   0.0s\n",
            "[CV] END ..............max_leaf_nodes=5, min_samples_split=3; total time=   0.0s\n",
            "[CV] END ..............max_leaf_nodes=5, min_samples_split=3; total time=   0.0s\n",
            "[CV] END ..............max_leaf_nodes=5, min_samples_split=4; total time=   0.0s\n",
            "[CV] END ..............max_leaf_nodes=5, min_samples_split=4; total time=   0.0s\n",
            "[CV] END ..............max_leaf_nodes=5, min_samples_split=5; total time=   0.0s\n",
            "[CV] END ..............max_leaf_nodes=5, min_samples_split=5; total time=   0.0s\n",
            "[CV] END ..............max_leaf_nodes=5, min_samples_split=6; total time=   0.0s\n",
            "[CV] END ..............max_leaf_nodes=5, min_samples_split=6; total time=   0.0s\n",
            "[CV] END ..............max_leaf_nodes=6, min_samples_split=1; total time=   0.0s\n",
            "[CV] END ..............max_leaf_nodes=6, min_samples_split=1; total time=   0.0s\n",
            "[CV] END ..............max_leaf_nodes=6, min_samples_split=2; total time=   0.0s\n",
            "[CV] END ..............max_leaf_nodes=6, min_samples_split=2; total time=   0.0s\n",
            "[CV] END ..............max_leaf_nodes=6, min_samples_split=3; total time=   0.0s\n",
            "[CV] END ..............max_leaf_nodes=6, min_samples_split=3; total time=   0.0s\n",
            "[CV] END ..............max_leaf_nodes=6, min_samples_split=4; total time=   0.0s\n",
            "[CV] END ..............max_leaf_nodes=6, min_samples_split=4; total time=   0.0s\n",
            "[CV] END ..............max_leaf_nodes=6, min_samples_split=5; total time=   0.0s\n",
            "[CV] END ..............max_leaf_nodes=6, min_samples_split=5; total time=   0.0s\n",
            "[CV] END ..............max_leaf_nodes=6, min_samples_split=6; total time=   0.0s\n",
            "[CV] END ..............max_leaf_nodes=6, min_samples_split=6; total time=   0.0s\n",
            "[CV] END ..............max_leaf_nodes=7, min_samples_split=1; total time=   0.0s\n",
            "[CV] END ..............max_leaf_nodes=7, min_samples_split=1; total time=   0.0s\n",
            "[CV] END ..............max_leaf_nodes=7, min_samples_split=2; total time=   0.0s\n",
            "[CV] END ..............max_leaf_nodes=7, min_samples_split=2; total time=   0.0s\n",
            "[CV] END ..............max_leaf_nodes=7, min_samples_split=3; total time=   0.0s\n",
            "[CV] END ..............max_leaf_nodes=7, min_samples_split=3; total time=   0.0s\n",
            "[CV] END ..............max_leaf_nodes=7, min_samples_split=4; total time=   0.0s\n",
            "[CV] END ..............max_leaf_nodes=7, min_samples_split=4; total time=   0.0s\n",
            "[CV] END ..............max_leaf_nodes=7, min_samples_split=5; total time=   0.0s\n",
            "[CV] END ..............max_leaf_nodes=7, min_samples_split=5; total time=   0.0s\n",
            "[CV] END ..............max_leaf_nodes=7, min_samples_split=6; total time=   0.0s\n",
            "[CV] END ..............max_leaf_nodes=7, min_samples_split=6; total time=   0.0s\n",
            "[CV] END ..............max_leaf_nodes=8, min_samples_split=1; total time=   0.0s\n",
            "[CV] END ..............max_leaf_nodes=8, min_samples_split=1; total time=   0.0s\n",
            "[CV] END ..............max_leaf_nodes=8, min_samples_split=2; total time=   0.0s\n",
            "[CV] END ..............max_leaf_nodes=8, min_samples_split=2; total time=   0.0s\n",
            "[CV] END ..............max_leaf_nodes=8, min_samples_split=3; total time=   0.0s\n",
            "[CV] END ..............max_leaf_nodes=8, min_samples_split=3; total time=   0.0s\n",
            "[CV] END ..............max_leaf_nodes=8, min_samples_split=4; total time=   0.0s\n",
            "[CV] END ..............max_leaf_nodes=8, min_samples_split=4; total time=   0.0s\n",
            "[CV] END ..............max_leaf_nodes=8, min_samples_split=5; total time=   0.0s\n",
            "[CV] END ..............max_leaf_nodes=8, min_samples_split=5; total time=   0.0s\n",
            "[CV] END ..............max_leaf_nodes=8, min_samples_split=6; total time=   0.0s\n",
            "[CV] END ..............max_leaf_nodes=8, min_samples_split=6; total time=   0.0s\n",
            "[CV] END ..............max_leaf_nodes=9, min_samples_split=1; total time=   0.0s\n",
            "[CV] END ..............max_leaf_nodes=9, min_samples_split=1; total time=   0.0s\n",
            "[CV] END ..............max_leaf_nodes=9, min_samples_split=2; total time=   0.0s\n",
            "[CV] END ..............max_leaf_nodes=9, min_samples_split=2; total time=   0.0s\n",
            "[CV] END ..............max_leaf_nodes=9, min_samples_split=3; total time=   0.0s\n",
            "[CV] END ..............max_leaf_nodes=9, min_samples_split=3; total time=   0.0s\n",
            "[CV] END ..............max_leaf_nodes=9, min_samples_split=4; total time=   0.0s\n",
            "[CV] END ..............max_leaf_nodes=9, min_samples_split=4; total time=   0.0s\n",
            "[CV] END ..............max_leaf_nodes=9, min_samples_split=5; total time=   0.0s\n",
            "[CV] END ..............max_leaf_nodes=9, min_samples_split=5; total time=   0.0s\n",
            "[CV] END ..............max_leaf_nodes=9, min_samples_split=6; total time=   0.0s\n",
            "[CV] END ..............max_leaf_nodes=9, min_samples_split=6; total time=   0.0s\n",
            "[CV] END .............max_leaf_nodes=10, min_samples_split=1; total time=   0.0s\n",
            "[CV] END .............max_leaf_nodes=10, min_samples_split=1; total time=   0.0s\n",
            "[CV] END .............max_leaf_nodes=10, min_samples_split=2; total time=   0.0s\n",
            "[CV] END .............max_leaf_nodes=10, min_samples_split=2; total time=   0.0s\n",
            "[CV] END .............max_leaf_nodes=10, min_samples_split=3; total time=   0.0s\n",
            "[CV] END .............max_leaf_nodes=10, min_samples_split=3; total time=   0.0s\n",
            "[CV] END .............max_leaf_nodes=10, min_samples_split=4; total time=   0.0s\n",
            "[CV] END .............max_leaf_nodes=10, min_samples_split=4; total time=   0.0s\n",
            "[CV] END .............max_leaf_nodes=10, min_samples_split=5; total time=   0.0s\n",
            "[CV] END .............max_leaf_nodes=10, min_samples_split=5; total time=   0.0s\n",
            "[CV] END .............max_leaf_nodes=10, min_samples_split=6; total time=   0.0s\n",
            "[CV] END .............max_leaf_nodes=10, min_samples_split=6; total time=   0.0s\n",
            "[CV] END .............max_leaf_nodes=11, min_samples_split=1; total time=   0.0s\n",
            "[CV] END .............max_leaf_nodes=11, min_samples_split=1; total time=   0.0s\n",
            "[CV] END .............max_leaf_nodes=11, min_samples_split=2; total time=   0.0s\n",
            "[CV] END .............max_leaf_nodes=11, min_samples_split=2; total time=   0.0s\n",
            "[CV] END .............max_leaf_nodes=11, min_samples_split=3; total time=   0.0s\n",
            "[CV] END .............max_leaf_nodes=11, min_samples_split=3; total time=   0.0s\n",
            "[CV] END .............max_leaf_nodes=11, min_samples_split=4; total time=   0.0s\n",
            "[CV] END .............max_leaf_nodes=11, min_samples_split=4; total time=   0.0s\n",
            "[CV] END .............max_leaf_nodes=11, min_samples_split=5; total time=   0.0s\n",
            "[CV] END .............max_leaf_nodes=11, min_samples_split=5; total time=   0.0s\n",
            "[CV] END .............max_leaf_nodes=11, min_samples_split=6; total time=   0.0s\n",
            "[CV] END .............max_leaf_nodes=11, min_samples_split=6; total time=   0.0s\n",
            "[CV] END .............max_leaf_nodes=12, min_samples_split=1; total time=   0.0s\n",
            "[CV] END .............max_leaf_nodes=12, min_samples_split=1; total time=   0.0s\n",
            "[CV] END .............max_leaf_nodes=12, min_samples_split=2; total time=   0.0s\n",
            "[CV] END .............max_leaf_nodes=12, min_samples_split=2; total time=   0.0s\n",
            "[CV] END .............max_leaf_nodes=12, min_samples_split=3; total time=   0.0s\n",
            "[CV] END .............max_leaf_nodes=12, min_samples_split=3; total time=   0.0s\n",
            "[CV] END .............max_leaf_nodes=12, min_samples_split=4; total time=   0.0s\n",
            "[CV] END .............max_leaf_nodes=12, min_samples_split=4; total time=   0.0s\n",
            "[CV] END .............max_leaf_nodes=12, min_samples_split=5; total time=   0.0s\n",
            "[CV] END .............max_leaf_nodes=12, min_samples_split=5; total time=   0.0s\n",
            "[CV] END .............max_leaf_nodes=12, min_samples_split=6; total time=   0.0s\n",
            "[CV] END .............max_leaf_nodes=12, min_samples_split=6; total time=   0.0s\n",
            "[CV] END .............max_leaf_nodes=13, min_samples_split=1; total time=   0.0s\n",
            "[CV] END .............max_leaf_nodes=13, min_samples_split=1; total time=   0.0s\n",
            "[CV] END .............max_leaf_nodes=13, min_samples_split=2; total time=   0.0s\n",
            "[CV] END .............max_leaf_nodes=13, min_samples_split=2; total time=   0.0s\n",
            "[CV] END .............max_leaf_nodes=13, min_samples_split=3; total time=   0.0s\n",
            "[CV] END .............max_leaf_nodes=13, min_samples_split=3; total time=   0.0s\n",
            "[CV] END .............max_leaf_nodes=13, min_samples_split=4; total time=   0.0s\n",
            "[CV] END .............max_leaf_nodes=13, min_samples_split=4; total time=   0.0s\n",
            "[CV] END .............max_leaf_nodes=13, min_samples_split=5; total time=   0.0s\n",
            "[CV] END .............max_leaf_nodes=13, min_samples_split=5; total time=   0.0s\n",
            "[CV] END .............max_leaf_nodes=13, min_samples_split=6; total time=   0.0s\n",
            "[CV] END .............max_leaf_nodes=13, min_samples_split=6; total time=   0.0s\n",
            "[CV] END .............max_leaf_nodes=14, min_samples_split=1; total time=   0.0s\n",
            "[CV] END .............max_leaf_nodes=14, min_samples_split=1; total time=   0.0s\n",
            "[CV] END .............max_leaf_nodes=14, min_samples_split=2; total time=   0.0s\n",
            "[CV] END .............max_leaf_nodes=14, min_samples_split=2; total time=   0.0s\n",
            "[CV] END .............max_leaf_nodes=14, min_samples_split=3; total time=   0.0s\n",
            "[CV] END .............max_leaf_nodes=14, min_samples_split=3; total time=   0.0s\n",
            "[CV] END .............max_leaf_nodes=14, min_samples_split=4; total time=   0.0s\n",
            "[CV] END .............max_leaf_nodes=14, min_samples_split=4; total time=   0.0s\n",
            "[CV] END .............max_leaf_nodes=14, min_samples_split=5; total time=   0.0s\n",
            "[CV] END .............max_leaf_nodes=14, min_samples_split=5; total time=   0.0s\n",
            "[CV] END .............max_leaf_nodes=14, min_samples_split=6; total time=   0.0s\n",
            "[CV] END .............max_leaf_nodes=14, min_samples_split=6; total time=   0.0s\n",
            "[CV] END .............max_leaf_nodes=15, min_samples_split=1; total time=   0.0s\n",
            "[CV] END .............max_leaf_nodes=15, min_samples_split=1; total time=   0.0s\n",
            "[CV] END .............max_leaf_nodes=15, min_samples_split=2; total time=   0.0s\n",
            "[CV] END .............max_leaf_nodes=15, min_samples_split=2; total time=   0.0s\n",
            "[CV] END .............max_leaf_nodes=15, min_samples_split=3; total time=   0.0s\n",
            "[CV] END .............max_leaf_nodes=15, min_samples_split=3; total time=   0.0s\n",
            "[CV] END .............max_leaf_nodes=15, min_samples_split=4; total time=   0.0s\n",
            "[CV] END .............max_leaf_nodes=15, min_samples_split=4; total time=   0.0s\n",
            "[CV] END .............max_leaf_nodes=15, min_samples_split=5; total time=   0.0s\n",
            "[CV] END .............max_leaf_nodes=15, min_samples_split=5; total time=   0.0s\n",
            "[CV] END .............max_leaf_nodes=15, min_samples_split=6; total time=   0.0s\n",
            "[CV] END .............max_leaf_nodes=15, min_samples_split=6; total time=   0.0s\n",
            "[CV] END .............max_leaf_nodes=16, min_samples_split=1; total time=   0.0s\n",
            "[CV] END .............max_leaf_nodes=16, min_samples_split=1; total time=   0.0s\n",
            "[CV] END .............max_leaf_nodes=16, min_samples_split=2; total time=   0.0s\n",
            "[CV] END .............max_leaf_nodes=16, min_samples_split=2; total time=   0.0s\n",
            "[CV] END .............max_leaf_nodes=16, min_samples_split=3; total time=   0.0s\n",
            "[CV] END .............max_leaf_nodes=16, min_samples_split=3; total time=   0.0s\n",
            "[CV] END .............max_leaf_nodes=16, min_samples_split=4; total time=   0.0s\n",
            "[CV] END .............max_leaf_nodes=16, min_samples_split=4; total time=   0.0s\n",
            "[CV] END .............max_leaf_nodes=16, min_samples_split=5; total time=   0.0s\n",
            "[CV] END .............max_leaf_nodes=16, min_samples_split=5; total time=   0.0s\n",
            "[CV] END .............max_leaf_nodes=16, min_samples_split=6; total time=   0.0s\n",
            "[CV] END .............max_leaf_nodes=16, min_samples_split=6; total time=   0.0s\n",
            "[CV] END .............max_leaf_nodes=17, min_samples_split=1; total time=   0.0s\n",
            "[CV] END .............max_leaf_nodes=17, min_samples_split=1; total time=   0.0s\n",
            "[CV] END .............max_leaf_nodes=17, min_samples_split=2; total time=   0.0s\n",
            "[CV] END .............max_leaf_nodes=17, min_samples_split=2; total time=   0.0s\n",
            "[CV] END .............max_leaf_nodes=17, min_samples_split=3; total time=   0.0s\n",
            "[CV] END .............max_leaf_nodes=17, min_samples_split=3; total time=   0.0s\n",
            "[CV] END .............max_leaf_nodes=17, min_samples_split=4; total time=   0.0s\n",
            "[CV] END .............max_leaf_nodes=17, min_samples_split=4; total time=   0.0s\n",
            "[CV] END .............max_leaf_nodes=17, min_samples_split=5; total time=   0.0s\n",
            "[CV] END .............max_leaf_nodes=17, min_samples_split=5; total time=   0.0s\n",
            "[CV] END .............max_leaf_nodes=17, min_samples_split=6; total time=   0.0s\n",
            "[CV] END .............max_leaf_nodes=17, min_samples_split=6; total time=   0.0s\n",
            "[CV] END .............max_leaf_nodes=18, min_samples_split=1; total time=   0.0s\n",
            "[CV] END .............max_leaf_nodes=18, min_samples_split=1; total time=   0.0s\n",
            "[CV] END .............max_leaf_nodes=18, min_samples_split=2; total time=   0.0s\n",
            "[CV] END .............max_leaf_nodes=18, min_samples_split=2; total time=   0.0s\n",
            "[CV] END .............max_leaf_nodes=18, min_samples_split=3; total time=   0.0s\n",
            "[CV] END .............max_leaf_nodes=18, min_samples_split=3; total time=   0.0s\n",
            "[CV] END .............max_leaf_nodes=18, min_samples_split=4; total time=   0.0s\n",
            "[CV] END .............max_leaf_nodes=18, min_samples_split=4; total time=   0.0s\n",
            "[CV] END .............max_leaf_nodes=18, min_samples_split=5; total time=   0.0s\n",
            "[CV] END .............max_leaf_nodes=18, min_samples_split=5; total time=   0.0s\n",
            "[CV] END .............max_leaf_nodes=18, min_samples_split=6; total time=   0.0s\n",
            "[CV] END .............max_leaf_nodes=18, min_samples_split=6; total time=   0.0s\n",
            "[CV] END .............max_leaf_nodes=19, min_samples_split=1; total time=   0.0s\n",
            "[CV] END .............max_leaf_nodes=19, min_samples_split=1; total time=   0.0s\n",
            "[CV] END .............max_leaf_nodes=19, min_samples_split=2; total time=   0.0s\n",
            "[CV] END .............max_leaf_nodes=19, min_samples_split=2; total time=   0.0s\n",
            "[CV] END .............max_leaf_nodes=19, min_samples_split=3; total time=   0.0s\n",
            "[CV] END .............max_leaf_nodes=19, min_samples_split=3; total time=   0.0s\n",
            "[CV] END .............max_leaf_nodes=19, min_samples_split=4; total time=   0.0s\n",
            "[CV] END .............max_leaf_nodes=19, min_samples_split=4; total time=   0.0s\n",
            "[CV] END .............max_leaf_nodes=19, min_samples_split=5; total time=   0.0s\n",
            "[CV] END .............max_leaf_nodes=19, min_samples_split=5; total time=   0.0s\n",
            "[CV] END .............max_leaf_nodes=19, min_samples_split=6; total time=   0.0s\n",
            "[CV] END .............max_leaf_nodes=19, min_samples_split=6; total time=   0.0s\n",
            "[CV] END .............max_leaf_nodes=20, min_samples_split=1; total time=   0.0s\n",
            "[CV] END .............max_leaf_nodes=20, min_samples_split=1; total time=   0.0s\n",
            "[CV] END .............max_leaf_nodes=20, min_samples_split=2; total time=   0.0s\n",
            "[CV] END .............max_leaf_nodes=20, min_samples_split=2; total time=   0.0s\n",
            "[CV] END .............max_leaf_nodes=20, min_samples_split=3; total time=   0.0s\n",
            "[CV] END .............max_leaf_nodes=20, min_samples_split=3; total time=   0.0s\n",
            "[CV] END .............max_leaf_nodes=20, min_samples_split=4; total time=   0.0s\n",
            "[CV] END .............max_leaf_nodes=20, min_samples_split=4; total time=   0.0s\n",
            "[CV] END .............max_leaf_nodes=20, min_samples_split=5; total time=   0.0s\n",
            "[CV] END .............max_leaf_nodes=20, min_samples_split=5; total time=   0.0s\n",
            "[CV] END .............max_leaf_nodes=20, min_samples_split=6; total time=   0.0s\n",
            "[CV] END .............max_leaf_nodes=20, min_samples_split=6; total time=   0.0s\n",
            "[CV] END .............max_leaf_nodes=21, min_samples_split=1; total time=   0.0s\n",
            "[CV] END .............max_leaf_nodes=21, min_samples_split=1; total time=   0.0s\n",
            "[CV] END .............max_leaf_nodes=21, min_samples_split=2; total time=   0.0s\n",
            "[CV] END .............max_leaf_nodes=21, min_samples_split=2; total time=   0.0s\n",
            "[CV] END .............max_leaf_nodes=21, min_samples_split=3; total time=   0.0s\n",
            "[CV] END .............max_leaf_nodes=21, min_samples_split=3; total time=   0.0s\n",
            "[CV] END .............max_leaf_nodes=21, min_samples_split=4; total time=   0.0s\n",
            "[CV] END .............max_leaf_nodes=21, min_samples_split=4; total time=   0.0s\n",
            "[CV] END .............max_leaf_nodes=21, min_samples_split=5; total time=   0.0s\n",
            "[CV] END .............max_leaf_nodes=21, min_samples_split=5; total time=   0.0s\n",
            "[CV] END .............max_leaf_nodes=21, min_samples_split=6; total time=   0.0s\n",
            "[CV] END .............max_leaf_nodes=21, min_samples_split=6; total time=   0.0s\n",
            "[CV] END .............max_leaf_nodes=22, min_samples_split=1; total time=   0.0s\n",
            "[CV] END .............max_leaf_nodes=22, min_samples_split=1; total time=   0.0s\n",
            "[CV] END .............max_leaf_nodes=22, min_samples_split=2; total time=   0.0s\n",
            "[CV] END .............max_leaf_nodes=22, min_samples_split=2; total time=   0.0s\n",
            "[CV] END .............max_leaf_nodes=22, min_samples_split=3; total time=   0.0s\n",
            "[CV] END .............max_leaf_nodes=22, min_samples_split=3; total time=   0.0s\n",
            "[CV] END .............max_leaf_nodes=22, min_samples_split=4; total time=   0.0s\n",
            "[CV] END .............max_leaf_nodes=22, min_samples_split=4; total time=   0.0s\n",
            "[CV] END .............max_leaf_nodes=22, min_samples_split=5; total time=   0.0s\n",
            "[CV] END .............max_leaf_nodes=22, min_samples_split=5; total time=   0.0s\n",
            "[CV] END .............max_leaf_nodes=22, min_samples_split=6; total time=   0.0s\n",
            "[CV] END .............max_leaf_nodes=22, min_samples_split=6; total time=   0.0s\n",
            "[CV] END .............max_leaf_nodes=23, min_samples_split=1; total time=   0.0s\n",
            "[CV] END .............max_leaf_nodes=23, min_samples_split=1; total time=   0.0s\n",
            "[CV] END .............max_leaf_nodes=23, min_samples_split=2; total time=   0.0s\n",
            "[CV] END .............max_leaf_nodes=23, min_samples_split=2; total time=   0.0s\n",
            "[CV] END .............max_leaf_nodes=23, min_samples_split=3; total time=   0.0s\n",
            "[CV] END .............max_leaf_nodes=23, min_samples_split=3; total time=   0.0s\n",
            "[CV] END .............max_leaf_nodes=23, min_samples_split=4; total time=   0.0s\n",
            "[CV] END .............max_leaf_nodes=23, min_samples_split=4; total time=   0.0s\n",
            "[CV] END .............max_leaf_nodes=23, min_samples_split=5; total time=   0.0s\n",
            "[CV] END .............max_leaf_nodes=23, min_samples_split=5; total time=   0.0s\n",
            "[CV] END .............max_leaf_nodes=23, min_samples_split=6; total time=   0.0s\n",
            "[CV] END .............max_leaf_nodes=23, min_samples_split=6; total time=   0.0s\n",
            "[CV] END .............max_leaf_nodes=24, min_samples_split=1; total time=   0.0s\n",
            "[CV] END .............max_leaf_nodes=24, min_samples_split=1; total time=   0.0s\n",
            "[CV] END .............max_leaf_nodes=24, min_samples_split=2; total time=   0.0s\n",
            "[CV] END .............max_leaf_nodes=24, min_samples_split=2; total time=   0.0s\n",
            "[CV] END .............max_leaf_nodes=24, min_samples_split=3; total time=   0.0s\n",
            "[CV] END .............max_leaf_nodes=24, min_samples_split=3; total time=   0.0s\n",
            "[CV] END .............max_leaf_nodes=24, min_samples_split=4; total time=   0.0s\n",
            "[CV] END .............max_leaf_nodes=24, min_samples_split=4; total time=   0.0s\n",
            "[CV] END .............max_leaf_nodes=24, min_samples_split=5; total time=   0.0s\n",
            "[CV] END .............max_leaf_nodes=24, min_samples_split=5; total time=   0.0s\n",
            "[CV] END .............max_leaf_nodes=24, min_samples_split=6; total time=   0.0s\n",
            "[CV] END .............max_leaf_nodes=24, min_samples_split=6; total time=   0.0s\n",
            "[CV] END .............max_leaf_nodes=25, min_samples_split=1; total time=   0.0s\n",
            "[CV] END .............max_leaf_nodes=25, min_samples_split=1; total time=   0.0s\n",
            "[CV] END .............max_leaf_nodes=25, min_samples_split=2; total time=   0.0s\n",
            "[CV] END .............max_leaf_nodes=25, min_samples_split=2; total time=   0.0s\n",
            "[CV] END .............max_leaf_nodes=25, min_samples_split=3; total time=   0.0s\n",
            "[CV] END .............max_leaf_nodes=25, min_samples_split=3; total time=   0.0s\n",
            "[CV] END .............max_leaf_nodes=25, min_samples_split=4; total time=   0.0s\n",
            "[CV] END .............max_leaf_nodes=25, min_samples_split=4; total time=   0.0s\n",
            "[CV] END .............max_leaf_nodes=25, min_samples_split=5; total time=   0.0s\n",
            "[CV] END .............max_leaf_nodes=25, min_samples_split=5; total time=   0.0s\n",
            "[CV] END .............max_leaf_nodes=25, min_samples_split=6; total time=   0.0s\n",
            "[CV] END .............max_leaf_nodes=25, min_samples_split=6; total time=   0.0s\n",
            "[CV] END .............max_leaf_nodes=26, min_samples_split=1; total time=   0.0s\n",
            "[CV] END .............max_leaf_nodes=26, min_samples_split=1; total time=   0.0s\n",
            "[CV] END .............max_leaf_nodes=26, min_samples_split=2; total time=   0.0s\n",
            "[CV] END .............max_leaf_nodes=26, min_samples_split=2; total time=   0.0s\n",
            "[CV] END .............max_leaf_nodes=26, min_samples_split=3; total time=   0.0s\n",
            "[CV] END .............max_leaf_nodes=26, min_samples_split=3; total time=   0.0s\n",
            "[CV] END .............max_leaf_nodes=26, min_samples_split=4; total time=   0.0s\n",
            "[CV] END .............max_leaf_nodes=26, min_samples_split=4; total time=   0.0s\n",
            "[CV] END .............max_leaf_nodes=26, min_samples_split=5; total time=   0.0s\n",
            "[CV] END .............max_leaf_nodes=26, min_samples_split=5; total time=   0.0s\n",
            "[CV] END .............max_leaf_nodes=26, min_samples_split=6; total time=   0.0s\n",
            "[CV] END .............max_leaf_nodes=26, min_samples_split=6; total time=   0.0s\n",
            "[CV] END .............max_leaf_nodes=27, min_samples_split=1; total time=   0.0s\n",
            "[CV] END .............max_leaf_nodes=27, min_samples_split=1; total time=   0.0s\n",
            "[CV] END .............max_leaf_nodes=27, min_samples_split=2; total time=   0.0s\n",
            "[CV] END .............max_leaf_nodes=27, min_samples_split=2; total time=   0.0s\n",
            "[CV] END .............max_leaf_nodes=27, min_samples_split=3; total time=   0.0s\n",
            "[CV] END .............max_leaf_nodes=27, min_samples_split=3; total time=   0.0s\n",
            "[CV] END .............max_leaf_nodes=27, min_samples_split=4; total time=   0.0s\n",
            "[CV] END .............max_leaf_nodes=27, min_samples_split=4; total time=   0.0s\n",
            "[CV] END .............max_leaf_nodes=27, min_samples_split=5; total time=   0.0s\n",
            "[CV] END .............max_leaf_nodes=27, min_samples_split=5; total time=   0.0s\n",
            "[CV] END .............max_leaf_nodes=27, min_samples_split=6; total time=   0.0s\n",
            "[CV] END .............max_leaf_nodes=27, min_samples_split=6; total time=   0.0s\n",
            "[CV] END .............max_leaf_nodes=28, min_samples_split=1; total time=   0.0s\n",
            "[CV] END .............max_leaf_nodes=28, min_samples_split=1; total time=   0.0s\n",
            "[CV] END .............max_leaf_nodes=28, min_samples_split=2; total time=   0.0s\n",
            "[CV] END .............max_leaf_nodes=28, min_samples_split=2; total time=   0.0s\n",
            "[CV] END .............max_leaf_nodes=28, min_samples_split=3; total time=   0.0s\n",
            "[CV] END .............max_leaf_nodes=28, min_samples_split=3; total time=   0.0s\n",
            "[CV] END .............max_leaf_nodes=28, min_samples_split=4; total time=   0.0s\n",
            "[CV] END .............max_leaf_nodes=28, min_samples_split=4; total time=   0.0s\n",
            "[CV] END .............max_leaf_nodes=28, min_samples_split=5; total time=   0.0s\n",
            "[CV] END .............max_leaf_nodes=28, min_samples_split=5; total time=   0.0s\n",
            "[CV] END .............max_leaf_nodes=28, min_samples_split=6; total time=   0.0s\n",
            "[CV] END .............max_leaf_nodes=28, min_samples_split=6; total time=   0.0s\n",
            "[CV] END .............max_leaf_nodes=29, min_samples_split=1; total time=   0.0s\n",
            "[CV] END .............max_leaf_nodes=29, min_samples_split=1; total time=   0.0s\n",
            "[CV] END .............max_leaf_nodes=29, min_samples_split=2; total time=   0.0s\n",
            "[CV] END .............max_leaf_nodes=29, min_samples_split=2; total time=   0.0s\n",
            "[CV] END .............max_leaf_nodes=29, min_samples_split=3; total time=   0.0s\n",
            "[CV] END .............max_leaf_nodes=29, min_samples_split=3; total time=   0.0s\n",
            "[CV] END .............max_leaf_nodes=29, min_samples_split=4; total time=   0.0s\n",
            "[CV] END .............max_leaf_nodes=29, min_samples_split=4; total time=   0.0s\n",
            "[CV] END .............max_leaf_nodes=29, min_samples_split=5; total time=   0.0s\n",
            "[CV] END .............max_leaf_nodes=29, min_samples_split=5; total time=   0.0s\n",
            "[CV] END .............max_leaf_nodes=29, min_samples_split=6; total time=   0.0s\n",
            "[CV] END .............max_leaf_nodes=29, min_samples_split=6; total time=   0.0s\n",
            "[CV] END .............max_leaf_nodes=30, min_samples_split=1; total time=   0.0s\n",
            "[CV] END .............max_leaf_nodes=30, min_samples_split=1; total time=   0.0s\n",
            "[CV] END .............max_leaf_nodes=30, min_samples_split=2; total time=   0.0s\n",
            "[CV] END .............max_leaf_nodes=30, min_samples_split=2; total time=   0.0s\n",
            "[CV] END .............max_leaf_nodes=30, min_samples_split=3; total time=   0.0s\n",
            "[CV] END .............max_leaf_nodes=30, min_samples_split=3; total time=   0.0s\n",
            "[CV] END .............max_leaf_nodes=30, min_samples_split=4; total time=   0.0s\n",
            "[CV] END .............max_leaf_nodes=30, min_samples_split=4; total time=   0.0s\n",
            "[CV] END .............max_leaf_nodes=30, min_samples_split=5; total time=   0.0s\n",
            "[CV] END .............max_leaf_nodes=30, min_samples_split=5; total time=   0.0s\n",
            "[CV] END .............max_leaf_nodes=30, min_samples_split=6; total time=   0.0s\n",
            "[CV] END .............max_leaf_nodes=30, min_samples_split=6; total time=   0.0s\n",
            "[CV] END .............max_leaf_nodes=31, min_samples_split=1; total time=   0.0s\n",
            "[CV] END .............max_leaf_nodes=31, min_samples_split=1; total time=   0.0s\n",
            "[CV] END .............max_leaf_nodes=31, min_samples_split=2; total time=   0.0s\n",
            "[CV] END .............max_leaf_nodes=31, min_samples_split=2; total time=   0.0s\n",
            "[CV] END .............max_leaf_nodes=31, min_samples_split=3; total time=   0.0s\n",
            "[CV] END .............max_leaf_nodes=31, min_samples_split=3; total time=   0.0s\n",
            "[CV] END .............max_leaf_nodes=31, min_samples_split=4; total time=   0.0s\n",
            "[CV] END .............max_leaf_nodes=31, min_samples_split=4; total time=   0.0s\n",
            "[CV] END .............max_leaf_nodes=31, min_samples_split=5; total time=   0.0s\n",
            "[CV] END .............max_leaf_nodes=31, min_samples_split=5; total time=   0.0s\n",
            "[CV] END .............max_leaf_nodes=31, min_samples_split=6; total time=   0.0s\n",
            "[CV] END .............max_leaf_nodes=31, min_samples_split=6; total time=   0.0s\n",
            "[CV] END .............max_leaf_nodes=32, min_samples_split=1; total time=   0.0s\n",
            "[CV] END .............max_leaf_nodes=32, min_samples_split=1; total time=   0.0s\n",
            "[CV] END .............max_leaf_nodes=32, min_samples_split=2; total time=   0.0s\n",
            "[CV] END .............max_leaf_nodes=32, min_samples_split=2; total time=   0.0s\n",
            "[CV] END .............max_leaf_nodes=32, min_samples_split=3; total time=   0.0s\n",
            "[CV] END .............max_leaf_nodes=32, min_samples_split=3; total time=   0.0s\n",
            "[CV] END .............max_leaf_nodes=32, min_samples_split=4; total time=   0.0s\n",
            "[CV] END .............max_leaf_nodes=32, min_samples_split=4; total time=   0.0s\n",
            "[CV] END .............max_leaf_nodes=32, min_samples_split=5; total time=   0.0s\n",
            "[CV] END .............max_leaf_nodes=32, min_samples_split=5; total time=   0.0s\n",
            "[CV] END .............max_leaf_nodes=32, min_samples_split=6; total time=   0.0s\n",
            "[CV] END .............max_leaf_nodes=32, min_samples_split=6; total time=   0.0s\n",
            "[CV] END .............max_leaf_nodes=33, min_samples_split=1; total time=   0.0s\n",
            "[CV] END .............max_leaf_nodes=33, min_samples_split=1; total time=   0.0s\n",
            "[CV] END .............max_leaf_nodes=33, min_samples_split=2; total time=   0.0s\n",
            "[CV] END .............max_leaf_nodes=33, min_samples_split=2; total time=   0.0s\n",
            "[CV] END .............max_leaf_nodes=33, min_samples_split=3; total time=   0.0s\n",
            "[CV] END .............max_leaf_nodes=33, min_samples_split=3; total time=   0.0s\n",
            "[CV] END .............max_leaf_nodes=33, min_samples_split=4; total time=   0.0s\n",
            "[CV] END .............max_leaf_nodes=33, min_samples_split=4; total time=   0.0s\n",
            "[CV] END .............max_leaf_nodes=33, min_samples_split=5; total time=   0.0s\n",
            "[CV] END .............max_leaf_nodes=33, min_samples_split=5; total time=   0.0s\n",
            "[CV] END .............max_leaf_nodes=33, min_samples_split=6; total time=   0.0s\n",
            "[CV] END .............max_leaf_nodes=33, min_samples_split=6; total time=   0.0s\n",
            "[CV] END .............max_leaf_nodes=34, min_samples_split=1; total time=   0.0s\n",
            "[CV] END .............max_leaf_nodes=34, min_samples_split=1; total time=   0.0s\n",
            "[CV] END .............max_leaf_nodes=34, min_samples_split=2; total time=   0.0s\n",
            "[CV] END .............max_leaf_nodes=34, min_samples_split=2; total time=   0.0s\n",
            "[CV] END .............max_leaf_nodes=34, min_samples_split=3; total time=   0.0s\n",
            "[CV] END .............max_leaf_nodes=34, min_samples_split=3; total time=   0.0s\n",
            "[CV] END .............max_leaf_nodes=34, min_samples_split=4; total time=   0.0s\n",
            "[CV] END .............max_leaf_nodes=34, min_samples_split=4; total time=   0.0s\n",
            "[CV] END .............max_leaf_nodes=34, min_samples_split=5; total time=   0.0s\n",
            "[CV] END .............max_leaf_nodes=34, min_samples_split=5; total time=   0.0s\n",
            "[CV] END .............max_leaf_nodes=34, min_samples_split=6; total time=   0.0s\n",
            "[CV] END .............max_leaf_nodes=34, min_samples_split=6; total time=   0.0s\n",
            "[CV] END .............max_leaf_nodes=35, min_samples_split=1; total time=   0.0s\n",
            "[CV] END .............max_leaf_nodes=35, min_samples_split=1; total time=   0.0s\n",
            "[CV] END .............max_leaf_nodes=35, min_samples_split=2; total time=   0.0s\n",
            "[CV] END .............max_leaf_nodes=35, min_samples_split=2; total time=   0.0s\n",
            "[CV] END .............max_leaf_nodes=35, min_samples_split=3; total time=   0.0s\n",
            "[CV] END .............max_leaf_nodes=35, min_samples_split=3; total time=   0.0s\n",
            "[CV] END .............max_leaf_nodes=35, min_samples_split=4; total time=   0.0s\n",
            "[CV] END .............max_leaf_nodes=35, min_samples_split=4; total time=   0.0s\n",
            "[CV] END .............max_leaf_nodes=35, min_samples_split=5; total time=   0.0s\n",
            "[CV] END .............max_leaf_nodes=35, min_samples_split=5; total time=   0.0s\n",
            "[CV] END .............max_leaf_nodes=35, min_samples_split=6; total time=   0.0s\n",
            "[CV] END .............max_leaf_nodes=35, min_samples_split=6; total time=   0.0s\n",
            "[CV] END .............max_leaf_nodes=36, min_samples_split=1; total time=   0.0s\n",
            "[CV] END .............max_leaf_nodes=36, min_samples_split=1; total time=   0.0s\n",
            "[CV] END .............max_leaf_nodes=36, min_samples_split=2; total time=   0.0s\n",
            "[CV] END .............max_leaf_nodes=36, min_samples_split=2; total time=   0.0s\n",
            "[CV] END .............max_leaf_nodes=36, min_samples_split=3; total time=   0.0s\n",
            "[CV] END .............max_leaf_nodes=36, min_samples_split=3; total time=   0.0s\n",
            "[CV] END .............max_leaf_nodes=36, min_samples_split=4; total time=   0.0s\n",
            "[CV] END .............max_leaf_nodes=36, min_samples_split=4; total time=   0.0s\n",
            "[CV] END .............max_leaf_nodes=36, min_samples_split=5; total time=   0.0s\n",
            "[CV] END .............max_leaf_nodes=36, min_samples_split=5; total time=   0.0s\n",
            "[CV] END .............max_leaf_nodes=36, min_samples_split=6; total time=   0.0s\n",
            "[CV] END .............max_leaf_nodes=36, min_samples_split=6; total time=   0.0s\n",
            "[CV] END .............max_leaf_nodes=37, min_samples_split=1; total time=   0.0s\n",
            "[CV] END .............max_leaf_nodes=37, min_samples_split=1; total time=   0.0s\n",
            "[CV] END .............max_leaf_nodes=37, min_samples_split=2; total time=   0.0s\n",
            "[CV] END .............max_leaf_nodes=37, min_samples_split=2; total time=   0.0s\n",
            "[CV] END .............max_leaf_nodes=37, min_samples_split=3; total time=   0.0s\n",
            "[CV] END .............max_leaf_nodes=37, min_samples_split=3; total time=   0.0s\n",
            "[CV] END .............max_leaf_nodes=37, min_samples_split=4; total time=   0.0s\n",
            "[CV] END .............max_leaf_nodes=37, min_samples_split=4; total time=   0.0s\n",
            "[CV] END .............max_leaf_nodes=37, min_samples_split=5; total time=   0.0s\n",
            "[CV] END .............max_leaf_nodes=37, min_samples_split=5; total time=   0.0s\n",
            "[CV] END .............max_leaf_nodes=37, min_samples_split=6; total time=   0.0s\n",
            "[CV] END .............max_leaf_nodes=37, min_samples_split=6; total time=   0.0s\n",
            "[CV] END .............max_leaf_nodes=38, min_samples_split=1; total time=   0.0s\n",
            "[CV] END .............max_leaf_nodes=38, min_samples_split=1; total time=   0.0s\n",
            "[CV] END .............max_leaf_nodes=38, min_samples_split=2; total time=   0.0s\n",
            "[CV] END .............max_leaf_nodes=38, min_samples_split=2; total time=   0.0s\n",
            "[CV] END .............max_leaf_nodes=38, min_samples_split=3; total time=   0.0s\n",
            "[CV] END .............max_leaf_nodes=38, min_samples_split=3; total time=   0.0s\n",
            "[CV] END .............max_leaf_nodes=38, min_samples_split=4; total time=   0.0s\n",
            "[CV] END .............max_leaf_nodes=38, min_samples_split=4; total time=   0.0s\n",
            "[CV] END .............max_leaf_nodes=38, min_samples_split=5; total time=   0.0s\n",
            "[CV] END .............max_leaf_nodes=38, min_samples_split=5; total time=   0.0s\n",
            "[CV] END .............max_leaf_nodes=38, min_samples_split=6; total time=   0.0s\n",
            "[CV] END .............max_leaf_nodes=38, min_samples_split=6; total time=   0.0s\n",
            "[CV] END .............max_leaf_nodes=39, min_samples_split=1; total time=   0.0s\n",
            "[CV] END .............max_leaf_nodes=39, min_samples_split=1; total time=   0.0s\n",
            "[CV] END .............max_leaf_nodes=39, min_samples_split=2; total time=   0.0s\n",
            "[CV] END .............max_leaf_nodes=39, min_samples_split=2; total time=   0.0s\n",
            "[CV] END .............max_leaf_nodes=39, min_samples_split=3; total time=   0.0s\n",
            "[CV] END .............max_leaf_nodes=39, min_samples_split=3; total time=   0.0s\n",
            "[CV] END .............max_leaf_nodes=39, min_samples_split=4; total time=   0.0s\n",
            "[CV] END .............max_leaf_nodes=39, min_samples_split=4; total time=   0.0s\n",
            "[CV] END .............max_leaf_nodes=39, min_samples_split=5; total time=   0.0s\n",
            "[CV] END .............max_leaf_nodes=39, min_samples_split=5; total time=   0.0s\n",
            "[CV] END .............max_leaf_nodes=39, min_samples_split=6; total time=   0.0s\n",
            "[CV] END .............max_leaf_nodes=39, min_samples_split=6; total time=   0.0s\n",
            "[CV] END .............max_leaf_nodes=40, min_samples_split=1; total time=   0.0s\n",
            "[CV] END .............max_leaf_nodes=40, min_samples_split=1; total time=   0.0s\n",
            "[CV] END .............max_leaf_nodes=40, min_samples_split=2; total time=   0.0s\n",
            "[CV] END .............max_leaf_nodes=40, min_samples_split=2; total time=   0.0s\n",
            "[CV] END .............max_leaf_nodes=40, min_samples_split=3; total time=   0.0s\n",
            "[CV] END .............max_leaf_nodes=40, min_samples_split=3; total time=   0.0s\n",
            "[CV] END .............max_leaf_nodes=40, min_samples_split=4; total time=   0.0s\n",
            "[CV] END .............max_leaf_nodes=40, min_samples_split=4; total time=   0.0s\n",
            "[CV] END .............max_leaf_nodes=40, min_samples_split=5; total time=   0.0s\n",
            "[CV] END .............max_leaf_nodes=40, min_samples_split=5; total time=   0.0s\n",
            "[CV] END .............max_leaf_nodes=40, min_samples_split=6; total time=   0.0s\n",
            "[CV] END .............max_leaf_nodes=40, min_samples_split=6; total time=   0.0s\n",
            "[CV] END .............max_leaf_nodes=41, min_samples_split=1; total time=   0.0s\n",
            "[CV] END .............max_leaf_nodes=41, min_samples_split=1; total time=   0.0s\n",
            "[CV] END .............max_leaf_nodes=41, min_samples_split=2; total time=   0.0s\n",
            "[CV] END .............max_leaf_nodes=41, min_samples_split=2; total time=   0.0s\n",
            "[CV] END .............max_leaf_nodes=41, min_samples_split=3; total time=   0.0s\n",
            "[CV] END .............max_leaf_nodes=41, min_samples_split=3; total time=   0.0s\n",
            "[CV] END .............max_leaf_nodes=41, min_samples_split=4; total time=   0.0s\n",
            "[CV] END .............max_leaf_nodes=41, min_samples_split=4; total time=   0.0s\n",
            "[CV] END .............max_leaf_nodes=41, min_samples_split=5; total time=   0.0s\n",
            "[CV] END .............max_leaf_nodes=41, min_samples_split=5; total time=   0.0s\n",
            "[CV] END .............max_leaf_nodes=41, min_samples_split=6; total time=   0.0s\n",
            "[CV] END .............max_leaf_nodes=41, min_samples_split=6; total time=   0.0s\n",
            "[CV] END .............max_leaf_nodes=42, min_samples_split=1; total time=   0.0s\n",
            "[CV] END .............max_leaf_nodes=42, min_samples_split=1; total time=   0.0s\n",
            "[CV] END .............max_leaf_nodes=42, min_samples_split=2; total time=   0.0s\n",
            "[CV] END .............max_leaf_nodes=42, min_samples_split=2; total time=   0.0s\n",
            "[CV] END .............max_leaf_nodes=42, min_samples_split=3; total time=   0.0s\n",
            "[CV] END .............max_leaf_nodes=42, min_samples_split=3; total time=   0.0s\n",
            "[CV] END .............max_leaf_nodes=42, min_samples_split=4; total time=   0.0s\n",
            "[CV] END .............max_leaf_nodes=42, min_samples_split=4; total time=   0.0s\n",
            "[CV] END .............max_leaf_nodes=42, min_samples_split=5; total time=   0.0s\n",
            "[CV] END .............max_leaf_nodes=42, min_samples_split=5; total time=   0.0s\n",
            "[CV] END .............max_leaf_nodes=42, min_samples_split=6; total time=   0.0s\n",
            "[CV] END .............max_leaf_nodes=42, min_samples_split=6; total time=   0.0s\n",
            "[CV] END .............max_leaf_nodes=43, min_samples_split=1; total time=   0.0s\n",
            "[CV] END .............max_leaf_nodes=43, min_samples_split=1; total time=   0.0s\n",
            "[CV] END .............max_leaf_nodes=43, min_samples_split=2; total time=   0.0s\n",
            "[CV] END .............max_leaf_nodes=43, min_samples_split=2; total time=   0.0s\n",
            "[CV] END .............max_leaf_nodes=43, min_samples_split=3; total time=   0.0s\n",
            "[CV] END .............max_leaf_nodes=43, min_samples_split=3; total time=   0.0s\n",
            "[CV] END .............max_leaf_nodes=43, min_samples_split=4; total time=   0.0s\n",
            "[CV] END .............max_leaf_nodes=43, min_samples_split=4; total time=   0.0s\n",
            "[CV] END .............max_leaf_nodes=43, min_samples_split=5; total time=   0.0s\n",
            "[CV] END .............max_leaf_nodes=43, min_samples_split=5; total time=   0.0s\n",
            "[CV] END .............max_leaf_nodes=43, min_samples_split=6; total time=   0.0s\n",
            "[CV] END .............max_leaf_nodes=43, min_samples_split=6; total time=   0.0s\n",
            "[CV] END .............max_leaf_nodes=44, min_samples_split=1; total time=   0.0s\n",
            "[CV] END .............max_leaf_nodes=44, min_samples_split=1; total time=   0.0s\n",
            "[CV] END .............max_leaf_nodes=44, min_samples_split=2; total time=   0.0s\n",
            "[CV] END .............max_leaf_nodes=44, min_samples_split=2; total time=   0.0s\n",
            "[CV] END .............max_leaf_nodes=44, min_samples_split=3; total time=   0.0s\n",
            "[CV] END .............max_leaf_nodes=44, min_samples_split=3; total time=   0.0s\n",
            "[CV] END .............max_leaf_nodes=44, min_samples_split=4; total time=   0.0s\n",
            "[CV] END .............max_leaf_nodes=44, min_samples_split=4; total time=   0.0s\n",
            "[CV] END .............max_leaf_nodes=44, min_samples_split=5; total time=   0.0s\n",
            "[CV] END .............max_leaf_nodes=44, min_samples_split=5; total time=   0.0s\n",
            "[CV] END .............max_leaf_nodes=44, min_samples_split=6; total time=   0.0s\n",
            "[CV] END .............max_leaf_nodes=44, min_samples_split=6; total time=   0.0s\n",
            "[CV] END .............max_leaf_nodes=45, min_samples_split=1; total time=   0.0s\n",
            "[CV] END .............max_leaf_nodes=45, min_samples_split=1; total time=   0.0s\n",
            "[CV] END .............max_leaf_nodes=45, min_samples_split=2; total time=   0.0s\n",
            "[CV] END .............max_leaf_nodes=45, min_samples_split=2; total time=   0.0s\n",
            "[CV] END .............max_leaf_nodes=45, min_samples_split=3; total time=   0.0s\n",
            "[CV] END .............max_leaf_nodes=45, min_samples_split=3; total time=   0.0s\n",
            "[CV] END .............max_leaf_nodes=45, min_samples_split=4; total time=   0.0s\n",
            "[CV] END .............max_leaf_nodes=45, min_samples_split=4; total time=   0.0s\n",
            "[CV] END .............max_leaf_nodes=45, min_samples_split=5; total time=   0.0s\n",
            "[CV] END .............max_leaf_nodes=45, min_samples_split=5; total time=   0.0s\n",
            "[CV] END .............max_leaf_nodes=45, min_samples_split=6; total time=   0.0s\n",
            "[CV] END .............max_leaf_nodes=45, min_samples_split=6; total time=   0.0s\n",
            "[CV] END .............max_leaf_nodes=46, min_samples_split=1; total time=   0.0s\n",
            "[CV] END .............max_leaf_nodes=46, min_samples_split=1; total time=   0.0s\n",
            "[CV] END .............max_leaf_nodes=46, min_samples_split=2; total time=   0.0s\n",
            "[CV] END .............max_leaf_nodes=46, min_samples_split=2; total time=   0.0s\n",
            "[CV] END .............max_leaf_nodes=46, min_samples_split=3; total time=   0.0s\n",
            "[CV] END .............max_leaf_nodes=46, min_samples_split=3; total time=   0.0s\n",
            "[CV] END .............max_leaf_nodes=46, min_samples_split=4; total time=   0.0s\n",
            "[CV] END .............max_leaf_nodes=46, min_samples_split=4; total time=   0.0s\n",
            "[CV] END .............max_leaf_nodes=46, min_samples_split=5; total time=   0.0s\n",
            "[CV] END .............max_leaf_nodes=46, min_samples_split=5; total time=   0.0s\n",
            "[CV] END .............max_leaf_nodes=46, min_samples_split=6; total time=   0.0s\n",
            "[CV] END .............max_leaf_nodes=46, min_samples_split=6; total time=   0.0s\n",
            "[CV] END .............max_leaf_nodes=47, min_samples_split=1; total time=   0.0s\n",
            "[CV] END .............max_leaf_nodes=47, min_samples_split=1; total time=   0.0s\n",
            "[CV] END .............max_leaf_nodes=47, min_samples_split=2; total time=   0.0s\n",
            "[CV] END .............max_leaf_nodes=47, min_samples_split=2; total time=   0.0s\n",
            "[CV] END .............max_leaf_nodes=47, min_samples_split=3; total time=   0.0s\n",
            "[CV] END .............max_leaf_nodes=47, min_samples_split=3; total time=   0.0s\n",
            "[CV] END .............max_leaf_nodes=47, min_samples_split=4; total time=   0.0s\n",
            "[CV] END .............max_leaf_nodes=47, min_samples_split=4; total time=   0.0s\n",
            "[CV] END .............max_leaf_nodes=47, min_samples_split=5; total time=   0.0s\n",
            "[CV] END .............max_leaf_nodes=47, min_samples_split=5; total time=   0.0s\n",
            "[CV] END .............max_leaf_nodes=47, min_samples_split=6; total time=   0.0s\n",
            "[CV] END .............max_leaf_nodes=47, min_samples_split=6; total time=   0.0s\n",
            "[CV] END .............max_leaf_nodes=48, min_samples_split=1; total time=   0.0s\n",
            "[CV] END .............max_leaf_nodes=48, min_samples_split=1; total time=   0.0s\n",
            "[CV] END .............max_leaf_nodes=48, min_samples_split=2; total time=   0.0s\n",
            "[CV] END .............max_leaf_nodes=48, min_samples_split=2; total time=   0.0s\n",
            "[CV] END .............max_leaf_nodes=48, min_samples_split=3; total time=   0.0s\n",
            "[CV] END .............max_leaf_nodes=48, min_samples_split=3; total time=   0.0s\n",
            "[CV] END .............max_leaf_nodes=48, min_samples_split=4; total time=   0.0s\n",
            "[CV] END .............max_leaf_nodes=48, min_samples_split=4; total time=   0.0s\n",
            "[CV] END .............max_leaf_nodes=48, min_samples_split=5; total time=   0.0s\n",
            "[CV] END .............max_leaf_nodes=48, min_samples_split=5; total time=   0.0s\n",
            "[CV] END .............max_leaf_nodes=48, min_samples_split=6; total time=   0.0s\n",
            "[CV] END .............max_leaf_nodes=48, min_samples_split=6; total time=   0.0s\n",
            "[CV] END .............max_leaf_nodes=49, min_samples_split=1; total time=   0.0s\n",
            "[CV] END .............max_leaf_nodes=49, min_samples_split=1; total time=   0.0s\n",
            "[CV] END .............max_leaf_nodes=49, min_samples_split=2; total time=   0.0s\n",
            "[CV] END .............max_leaf_nodes=49, min_samples_split=2; total time=   0.0s\n",
            "[CV] END .............max_leaf_nodes=49, min_samples_split=3; total time=   0.0s\n",
            "[CV] END .............max_leaf_nodes=49, min_samples_split=3; total time=   0.0s\n",
            "[CV] END .............max_leaf_nodes=49, min_samples_split=4; total time=   0.0s\n",
            "[CV] END .............max_leaf_nodes=49, min_samples_split=4; total time=   0.0s\n",
            "[CV] END .............max_leaf_nodes=49, min_samples_split=5; total time=   0.0s\n",
            "[CV] END .............max_leaf_nodes=49, min_samples_split=5; total time=   0.0s\n",
            "[CV] END .............max_leaf_nodes=49, min_samples_split=6; total time=   0.0s\n",
            "[CV] END .............max_leaf_nodes=49, min_samples_split=6; total time=   0.0s\n",
            "[CV] END .............max_leaf_nodes=50, min_samples_split=1; total time=   0.0s\n",
            "[CV] END .............max_leaf_nodes=50, min_samples_split=1; total time=   0.0s\n",
            "[CV] END .............max_leaf_nodes=50, min_samples_split=2; total time=   0.0s\n",
            "[CV] END .............max_leaf_nodes=50, min_samples_split=2; total time=   0.0s\n",
            "[CV] END .............max_leaf_nodes=50, min_samples_split=3; total time=   0.0s\n",
            "[CV] END .............max_leaf_nodes=50, min_samples_split=3; total time=   0.0s\n",
            "[CV] END .............max_leaf_nodes=50, min_samples_split=4; total time=   0.0s\n",
            "[CV] END .............max_leaf_nodes=50, min_samples_split=4; total time=   0.0s\n",
            "[CV] END .............max_leaf_nodes=50, min_samples_split=5; total time=   0.0s\n",
            "[CV] END .............max_leaf_nodes=50, min_samples_split=5; total time=   0.0s\n",
            "[CV] END .............max_leaf_nodes=50, min_samples_split=6; total time=   0.0s\n",
            "[CV] END .............max_leaf_nodes=50, min_samples_split=6; total time=   0.0s\n",
            "[CV] END .............max_leaf_nodes=51, min_samples_split=1; total time=   0.0s\n",
            "[CV] END .............max_leaf_nodes=51, min_samples_split=1; total time=   0.0s\n",
            "[CV] END .............max_leaf_nodes=51, min_samples_split=2; total time=   0.0s\n",
            "[CV] END .............max_leaf_nodes=51, min_samples_split=2; total time=   0.0s\n",
            "[CV] END .............max_leaf_nodes=51, min_samples_split=3; total time=   0.0s\n",
            "[CV] END .............max_leaf_nodes=51, min_samples_split=3; total time=   0.0s\n",
            "[CV] END .............max_leaf_nodes=51, min_samples_split=4; total time=   0.0s\n",
            "[CV] END .............max_leaf_nodes=51, min_samples_split=4; total time=   0.0s\n",
            "[CV] END .............max_leaf_nodes=51, min_samples_split=5; total time=   0.0s\n",
            "[CV] END .............max_leaf_nodes=51, min_samples_split=5; total time=   0.0s\n",
            "[CV] END .............max_leaf_nodes=51, min_samples_split=6; total time=   0.0s\n",
            "[CV] END .............max_leaf_nodes=51, min_samples_split=6; total time=   0.0s\n",
            "[CV] END .............max_leaf_nodes=52, min_samples_split=1; total time=   0.0s\n",
            "[CV] END .............max_leaf_nodes=52, min_samples_split=1; total time=   0.0s\n",
            "[CV] END .............max_leaf_nodes=52, min_samples_split=2; total time=   0.0s\n",
            "[CV] END .............max_leaf_nodes=52, min_samples_split=2; total time=   0.0s\n",
            "[CV] END .............max_leaf_nodes=52, min_samples_split=3; total time=   0.0s\n",
            "[CV] END .............max_leaf_nodes=52, min_samples_split=3; total time=   0.0s\n",
            "[CV] END .............max_leaf_nodes=52, min_samples_split=4; total time=   0.0s\n",
            "[CV] END .............max_leaf_nodes=52, min_samples_split=4; total time=   0.0s\n",
            "[CV] END .............max_leaf_nodes=52, min_samples_split=5; total time=   0.0s\n",
            "[CV] END .............max_leaf_nodes=52, min_samples_split=5; total time=   0.0s\n",
            "[CV] END .............max_leaf_nodes=52, min_samples_split=6; total time=   0.0s\n",
            "[CV] END .............max_leaf_nodes=52, min_samples_split=6; total time=   0.0s\n",
            "[CV] END .............max_leaf_nodes=53, min_samples_split=1; total time=   0.0s\n",
            "[CV] END .............max_leaf_nodes=53, min_samples_split=1; total time=   0.0s\n",
            "[CV] END .............max_leaf_nodes=53, min_samples_split=2; total time=   0.0s\n",
            "[CV] END .............max_leaf_nodes=53, min_samples_split=2; total time=   0.0s\n",
            "[CV] END .............max_leaf_nodes=53, min_samples_split=3; total time=   0.0s\n",
            "[CV] END .............max_leaf_nodes=53, min_samples_split=3; total time=   0.0s\n",
            "[CV] END .............max_leaf_nodes=53, min_samples_split=4; total time=   0.0s\n",
            "[CV] END .............max_leaf_nodes=53, min_samples_split=4; total time=   0.0s\n",
            "[CV] END .............max_leaf_nodes=53, min_samples_split=5; total time=   0.0s\n",
            "[CV] END .............max_leaf_nodes=53, min_samples_split=5; total time=   0.0s\n",
            "[CV] END .............max_leaf_nodes=53, min_samples_split=6; total time=   0.0s\n",
            "[CV] END .............max_leaf_nodes=53, min_samples_split=6; total time=   0.0s\n",
            "[CV] END .............max_leaf_nodes=54, min_samples_split=1; total time=   0.0s\n",
            "[CV] END .............max_leaf_nodes=54, min_samples_split=1; total time=   0.0s\n",
            "[CV] END .............max_leaf_nodes=54, min_samples_split=2; total time=   0.0s\n",
            "[CV] END .............max_leaf_nodes=54, min_samples_split=2; total time=   0.0s\n",
            "[CV] END .............max_leaf_nodes=54, min_samples_split=3; total time=   0.0s\n",
            "[CV] END .............max_leaf_nodes=54, min_samples_split=3; total time=   0.0s\n",
            "[CV] END .............max_leaf_nodes=54, min_samples_split=4; total time=   0.0s\n",
            "[CV] END .............max_leaf_nodes=54, min_samples_split=4; total time=   0.0s\n",
            "[CV] END .............max_leaf_nodes=54, min_samples_split=5; total time=   0.0s\n",
            "[CV] END .............max_leaf_nodes=54, min_samples_split=5; total time=   0.0s\n",
            "[CV] END .............max_leaf_nodes=54, min_samples_split=6; total time=   0.0s\n",
            "[CV] END .............max_leaf_nodes=54, min_samples_split=6; total time=   0.0s\n",
            "[CV] END .............max_leaf_nodes=55, min_samples_split=1; total time=   0.0s\n",
            "[CV] END .............max_leaf_nodes=55, min_samples_split=1; total time=   0.0s\n",
            "[CV] END .............max_leaf_nodes=55, min_samples_split=2; total time=   0.0s\n",
            "[CV] END .............max_leaf_nodes=55, min_samples_split=2; total time=   0.0s\n",
            "[CV] END .............max_leaf_nodes=55, min_samples_split=3; total time=   0.0s\n",
            "[CV] END .............max_leaf_nodes=55, min_samples_split=3; total time=   0.0s\n",
            "[CV] END .............max_leaf_nodes=55, min_samples_split=4; total time=   0.0s\n",
            "[CV] END .............max_leaf_nodes=55, min_samples_split=4; total time=   0.0s\n",
            "[CV] END .............max_leaf_nodes=55, min_samples_split=5; total time=   0.0s\n",
            "[CV] END .............max_leaf_nodes=55, min_samples_split=5; total time=   0.0s\n",
            "[CV] END .............max_leaf_nodes=55, min_samples_split=6; total time=   0.0s\n",
            "[CV] END .............max_leaf_nodes=55, min_samples_split=6; total time=   0.0s\n",
            "[CV] END .............max_leaf_nodes=56, min_samples_split=1; total time=   0.0s\n",
            "[CV] END .............max_leaf_nodes=56, min_samples_split=1; total time=   0.0s\n",
            "[CV] END .............max_leaf_nodes=56, min_samples_split=2; total time=   0.0s\n",
            "[CV] END .............max_leaf_nodes=56, min_samples_split=2; total time=   0.0s\n",
            "[CV] END .............max_leaf_nodes=56, min_samples_split=3; total time=   0.0s\n",
            "[CV] END .............max_leaf_nodes=56, min_samples_split=3; total time=   0.0s\n",
            "[CV] END .............max_leaf_nodes=56, min_samples_split=4; total time=   0.0s\n",
            "[CV] END .............max_leaf_nodes=56, min_samples_split=4; total time=   0.0s\n",
            "[CV] END .............max_leaf_nodes=56, min_samples_split=5; total time=   0.0s\n",
            "[CV] END .............max_leaf_nodes=56, min_samples_split=5; total time=   0.0s\n",
            "[CV] END .............max_leaf_nodes=56, min_samples_split=6; total time=   0.0s\n",
            "[CV] END .............max_leaf_nodes=56, min_samples_split=6; total time=   0.0s\n",
            "[CV] END .............max_leaf_nodes=57, min_samples_split=1; total time=   0.0s\n",
            "[CV] END .............max_leaf_nodes=57, min_samples_split=1; total time=   0.0s\n",
            "[CV] END .............max_leaf_nodes=57, min_samples_split=2; total time=   0.0s\n",
            "[CV] END .............max_leaf_nodes=57, min_samples_split=2; total time=   0.0s\n",
            "[CV] END .............max_leaf_nodes=57, min_samples_split=3; total time=   0.0s\n",
            "[CV] END .............max_leaf_nodes=57, min_samples_split=3; total time=   0.0s\n",
            "[CV] END .............max_leaf_nodes=57, min_samples_split=4; total time=   0.0s\n",
            "[CV] END .............max_leaf_nodes=57, min_samples_split=4; total time=   0.0s\n",
            "[CV] END .............max_leaf_nodes=57, min_samples_split=5; total time=   0.0s\n",
            "[CV] END .............max_leaf_nodes=57, min_samples_split=5; total time=   0.0s\n",
            "[CV] END .............max_leaf_nodes=57, min_samples_split=6; total time=   0.0s\n",
            "[CV] END .............max_leaf_nodes=57, min_samples_split=6; total time=   0.0s\n",
            "[CV] END .............max_leaf_nodes=58, min_samples_split=1; total time=   0.0s\n",
            "[CV] END .............max_leaf_nodes=58, min_samples_split=1; total time=   0.0s\n",
            "[CV] END .............max_leaf_nodes=58, min_samples_split=2; total time=   0.0s\n",
            "[CV] END .............max_leaf_nodes=58, min_samples_split=2; total time=   0.0s\n",
            "[CV] END .............max_leaf_nodes=58, min_samples_split=3; total time=   0.0s\n",
            "[CV] END .............max_leaf_nodes=58, min_samples_split=3; total time=   0.0s\n",
            "[CV] END .............max_leaf_nodes=58, min_samples_split=4; total time=   0.0s\n",
            "[CV] END .............max_leaf_nodes=58, min_samples_split=4; total time=   0.0s\n",
            "[CV] END .............max_leaf_nodes=58, min_samples_split=5; total time=   0.0s\n",
            "[CV] END .............max_leaf_nodes=58, min_samples_split=5; total time=   0.0s\n",
            "[CV] END .............max_leaf_nodes=58, min_samples_split=6; total time=   0.0s\n",
            "[CV] END .............max_leaf_nodes=58, min_samples_split=6; total time=   0.0s\n",
            "[CV] END .............max_leaf_nodes=59, min_samples_split=1; total time=   0.0s\n",
            "[CV] END .............max_leaf_nodes=59, min_samples_split=1; total time=   0.0s\n",
            "[CV] END .............max_leaf_nodes=59, min_samples_split=2; total time=   0.0s\n",
            "[CV] END .............max_leaf_nodes=59, min_samples_split=2; total time=   0.0s\n",
            "[CV] END .............max_leaf_nodes=59, min_samples_split=3; total time=   0.0s\n",
            "[CV] END .............max_leaf_nodes=59, min_samples_split=3; total time=   0.0s\n",
            "[CV] END .............max_leaf_nodes=59, min_samples_split=4; total time=   0.0s\n",
            "[CV] END .............max_leaf_nodes=59, min_samples_split=4; total time=   0.0s\n",
            "[CV] END .............max_leaf_nodes=59, min_samples_split=5; total time=   0.0s\n",
            "[CV] END .............max_leaf_nodes=59, min_samples_split=5; total time=   0.0s\n",
            "[CV] END .............max_leaf_nodes=59, min_samples_split=6; total time=   0.0s\n",
            "[CV] END .............max_leaf_nodes=59, min_samples_split=6; total time=   0.0s\n",
            "[CV] END .............max_leaf_nodes=60, min_samples_split=1; total time=   0.0s\n",
            "[CV] END .............max_leaf_nodes=60, min_samples_split=1; total time=   0.0s\n",
            "[CV] END .............max_leaf_nodes=60, min_samples_split=2; total time=   0.0s\n",
            "[CV] END .............max_leaf_nodes=60, min_samples_split=2; total time=   0.0s\n",
            "[CV] END .............max_leaf_nodes=60, min_samples_split=3; total time=   0.0s\n",
            "[CV] END .............max_leaf_nodes=60, min_samples_split=3; total time=   0.0s\n",
            "[CV] END .............max_leaf_nodes=60, min_samples_split=4; total time=   0.0s\n",
            "[CV] END .............max_leaf_nodes=60, min_samples_split=4; total time=   0.0s\n",
            "[CV] END .............max_leaf_nodes=60, min_samples_split=5; total time=   0.0s\n",
            "[CV] END .............max_leaf_nodes=60, min_samples_split=5; total time=   0.0s\n",
            "[CV] END .............max_leaf_nodes=60, min_samples_split=6; total time=   0.0s\n",
            "[CV] END .............max_leaf_nodes=60, min_samples_split=6; total time=   0.0s\n",
            "[CV] END .............max_leaf_nodes=61, min_samples_split=1; total time=   0.0s\n",
            "[CV] END .............max_leaf_nodes=61, min_samples_split=1; total time=   0.0s\n",
            "[CV] END .............max_leaf_nodes=61, min_samples_split=2; total time=   0.0s\n",
            "[CV] END .............max_leaf_nodes=61, min_samples_split=2; total time=   0.0s\n",
            "[CV] END .............max_leaf_nodes=61, min_samples_split=3; total time=   0.0s\n",
            "[CV] END .............max_leaf_nodes=61, min_samples_split=3; total time=   0.0s\n",
            "[CV] END .............max_leaf_nodes=61, min_samples_split=4; total time=   0.0s\n",
            "[CV] END .............max_leaf_nodes=61, min_samples_split=4; total time=   0.0s\n",
            "[CV] END .............max_leaf_nodes=61, min_samples_split=5; total time=   0.0s\n",
            "[CV] END .............max_leaf_nodes=61, min_samples_split=5; total time=   0.0s\n",
            "[CV] END .............max_leaf_nodes=61, min_samples_split=6; total time=   0.0s\n",
            "[CV] END .............max_leaf_nodes=61, min_samples_split=6; total time=   0.0s\n",
            "[CV] END .............max_leaf_nodes=62, min_samples_split=1; total time=   0.0s\n",
            "[CV] END .............max_leaf_nodes=62, min_samples_split=1; total time=   0.0s\n",
            "[CV] END .............max_leaf_nodes=62, min_samples_split=2; total time=   0.0s\n",
            "[CV] END .............max_leaf_nodes=62, min_samples_split=2; total time=   0.0s\n",
            "[CV] END .............max_leaf_nodes=62, min_samples_split=3; total time=   0.0s\n",
            "[CV] END .............max_leaf_nodes=62, min_samples_split=3; total time=   0.0s\n",
            "[CV] END .............max_leaf_nodes=62, min_samples_split=4; total time=   0.0s\n",
            "[CV] END .............max_leaf_nodes=62, min_samples_split=4; total time=   0.0s\n",
            "[CV] END .............max_leaf_nodes=62, min_samples_split=5; total time=   0.0s\n",
            "[CV] END .............max_leaf_nodes=62, min_samples_split=5; total time=   0.0s\n",
            "[CV] END .............max_leaf_nodes=62, min_samples_split=6; total time=   0.0s\n",
            "[CV] END .............max_leaf_nodes=62, min_samples_split=6; total time=   0.0s\n",
            "[CV] END .............max_leaf_nodes=63, min_samples_split=1; total time=   0.0s\n",
            "[CV] END .............max_leaf_nodes=63, min_samples_split=1; total time=   0.0s\n",
            "[CV] END .............max_leaf_nodes=63, min_samples_split=2; total time=   0.0s\n",
            "[CV] END .............max_leaf_nodes=63, min_samples_split=2; total time=   0.0s\n",
            "[CV] END .............max_leaf_nodes=63, min_samples_split=3; total time=   0.0s\n",
            "[CV] END .............max_leaf_nodes=63, min_samples_split=3; total time=   0.0s\n",
            "[CV] END .............max_leaf_nodes=63, min_samples_split=4; total time=   0.0s\n",
            "[CV] END .............max_leaf_nodes=63, min_samples_split=4; total time=   0.0s\n",
            "[CV] END .............max_leaf_nodes=63, min_samples_split=5; total time=   0.0s\n",
            "[CV] END .............max_leaf_nodes=63, min_samples_split=5; total time=   0.0s\n",
            "[CV] END .............max_leaf_nodes=63, min_samples_split=6; total time=   0.0s\n",
            "[CV] END .............max_leaf_nodes=63, min_samples_split=6; total time=   0.0s\n",
            "[CV] END .............max_leaf_nodes=64, min_samples_split=1; total time=   0.0s\n",
            "[CV] END .............max_leaf_nodes=64, min_samples_split=1; total time=   0.0s\n",
            "[CV] END .............max_leaf_nodes=64, min_samples_split=2; total time=   0.0s\n",
            "[CV] END .............max_leaf_nodes=64, min_samples_split=2; total time=   0.0s\n",
            "[CV] END .............max_leaf_nodes=64, min_samples_split=3; total time=   0.0s\n",
            "[CV] END .............max_leaf_nodes=64, min_samples_split=3; total time=   0.0s\n",
            "[CV] END .............max_leaf_nodes=64, min_samples_split=4; total time=   0.0s\n",
            "[CV] END .............max_leaf_nodes=64, min_samples_split=4; total time=   0.0s\n",
            "[CV] END .............max_leaf_nodes=64, min_samples_split=5; total time=   0.0s\n",
            "[CV] END .............max_leaf_nodes=64, min_samples_split=5; total time=   0.0s\n",
            "[CV] END .............max_leaf_nodes=64, min_samples_split=6; total time=   0.0s\n",
            "[CV] END .............max_leaf_nodes=64, min_samples_split=6; total time=   0.0s\n",
            "[CV] END .............max_leaf_nodes=65, min_samples_split=1; total time=   0.0s\n",
            "[CV] END .............max_leaf_nodes=65, min_samples_split=1; total time=   0.0s\n",
            "[CV] END .............max_leaf_nodes=65, min_samples_split=2; total time=   0.0s\n",
            "[CV] END .............max_leaf_nodes=65, min_samples_split=2; total time=   0.0s\n",
            "[CV] END .............max_leaf_nodes=65, min_samples_split=3; total time=   0.0s\n",
            "[CV] END .............max_leaf_nodes=65, min_samples_split=3; total time=   0.0s\n",
            "[CV] END .............max_leaf_nodes=65, min_samples_split=4; total time=   0.0s\n",
            "[CV] END .............max_leaf_nodes=65, min_samples_split=4; total time=   0.0s\n",
            "[CV] END .............max_leaf_nodes=65, min_samples_split=5; total time=   0.0s\n",
            "[CV] END .............max_leaf_nodes=65, min_samples_split=5; total time=   0.0s\n",
            "[CV] END .............max_leaf_nodes=65, min_samples_split=6; total time=   0.0s\n",
            "[CV] END .............max_leaf_nodes=65, min_samples_split=6; total time=   0.0s\n",
            "[CV] END .............max_leaf_nodes=66, min_samples_split=1; total time=   0.0s\n",
            "[CV] END .............max_leaf_nodes=66, min_samples_split=1; total time=   0.0s\n",
            "[CV] END .............max_leaf_nodes=66, min_samples_split=2; total time=   0.0s\n",
            "[CV] END .............max_leaf_nodes=66, min_samples_split=2; total time=   0.0s\n",
            "[CV] END .............max_leaf_nodes=66, min_samples_split=3; total time=   0.0s\n",
            "[CV] END .............max_leaf_nodes=66, min_samples_split=3; total time=   0.0s\n",
            "[CV] END .............max_leaf_nodes=66, min_samples_split=4; total time=   0.0s\n",
            "[CV] END .............max_leaf_nodes=66, min_samples_split=4; total time=   0.0s\n",
            "[CV] END .............max_leaf_nodes=66, min_samples_split=5; total time=   0.0s\n",
            "[CV] END .............max_leaf_nodes=66, min_samples_split=5; total time=   0.0s\n",
            "[CV] END .............max_leaf_nodes=66, min_samples_split=6; total time=   0.0s\n",
            "[CV] END .............max_leaf_nodes=66, min_samples_split=6; total time=   0.0s\n",
            "[CV] END .............max_leaf_nodes=67, min_samples_split=1; total time=   0.0s\n",
            "[CV] END .............max_leaf_nodes=67, min_samples_split=1; total time=   0.0s\n",
            "[CV] END .............max_leaf_nodes=67, min_samples_split=2; total time=   0.0s\n",
            "[CV] END .............max_leaf_nodes=67, min_samples_split=2; total time=   0.0s\n",
            "[CV] END .............max_leaf_nodes=67, min_samples_split=3; total time=   0.0s\n",
            "[CV] END .............max_leaf_nodes=67, min_samples_split=3; total time=   0.0s\n",
            "[CV] END .............max_leaf_nodes=67, min_samples_split=4; total time=   0.0s\n",
            "[CV] END .............max_leaf_nodes=67, min_samples_split=4; total time=   0.0s\n",
            "[CV] END .............max_leaf_nodes=67, min_samples_split=5; total time=   0.0s\n",
            "[CV] END .............max_leaf_nodes=67, min_samples_split=5; total time=   0.0s\n",
            "[CV] END .............max_leaf_nodes=67, min_samples_split=6; total time=   0.0s\n",
            "[CV] END .............max_leaf_nodes=67, min_samples_split=6; total time=   0.0s\n",
            "[CV] END .............max_leaf_nodes=68, min_samples_split=1; total time=   0.0s\n",
            "[CV] END .............max_leaf_nodes=68, min_samples_split=1; total time=   0.0s\n",
            "[CV] END .............max_leaf_nodes=68, min_samples_split=2; total time=   0.0s\n",
            "[CV] END .............max_leaf_nodes=68, min_samples_split=2; total time=   0.0s\n",
            "[CV] END .............max_leaf_nodes=68, min_samples_split=3; total time=   0.0s\n",
            "[CV] END .............max_leaf_nodes=68, min_samples_split=3; total time=   0.0s\n",
            "[CV] END .............max_leaf_nodes=68, min_samples_split=4; total time=   0.0s\n",
            "[CV] END .............max_leaf_nodes=68, min_samples_split=4; total time=   0.0s\n",
            "[CV] END .............max_leaf_nodes=68, min_samples_split=5; total time=   0.0s\n",
            "[CV] END .............max_leaf_nodes=68, min_samples_split=5; total time=   0.0s\n",
            "[CV] END .............max_leaf_nodes=68, min_samples_split=6; total time=   0.0s\n",
            "[CV] END .............max_leaf_nodes=68, min_samples_split=6; total time=   0.0s\n",
            "[CV] END .............max_leaf_nodes=69, min_samples_split=1; total time=   0.0s\n",
            "[CV] END .............max_leaf_nodes=69, min_samples_split=1; total time=   0.0s\n",
            "[CV] END .............max_leaf_nodes=69, min_samples_split=2; total time=   0.0s\n",
            "[CV] END .............max_leaf_nodes=69, min_samples_split=2; total time=   0.0s\n",
            "[CV] END .............max_leaf_nodes=69, min_samples_split=3; total time=   0.0s\n",
            "[CV] END .............max_leaf_nodes=69, min_samples_split=3; total time=   0.0s\n",
            "[CV] END .............max_leaf_nodes=69, min_samples_split=4; total time=   0.0s\n",
            "[CV] END .............max_leaf_nodes=69, min_samples_split=4; total time=   0.0s\n",
            "[CV] END .............max_leaf_nodes=69, min_samples_split=5; total time=   0.0s\n",
            "[CV] END .............max_leaf_nodes=69, min_samples_split=5; total time=   0.0s\n",
            "[CV] END .............max_leaf_nodes=69, min_samples_split=6; total time=   0.0s\n",
            "[CV] END .............max_leaf_nodes=69, min_samples_split=6; total time=   0.0s\n",
            "[CV] END .............max_leaf_nodes=70, min_samples_split=1; total time=   0.0s\n",
            "[CV] END .............max_leaf_nodes=70, min_samples_split=1; total time=   0.0s\n",
            "[CV] END .............max_leaf_nodes=70, min_samples_split=2; total time=   0.0s\n",
            "[CV] END .............max_leaf_nodes=70, min_samples_split=2; total time=   0.0s\n",
            "[CV] END .............max_leaf_nodes=70, min_samples_split=3; total time=   0.0s\n",
            "[CV] END .............max_leaf_nodes=70, min_samples_split=3; total time=   0.0s\n",
            "[CV] END .............max_leaf_nodes=70, min_samples_split=4; total time=   0.0s\n",
            "[CV] END .............max_leaf_nodes=70, min_samples_split=4; total time=   0.0s\n",
            "[CV] END .............max_leaf_nodes=70, min_samples_split=5; total time=   0.0s\n",
            "[CV] END .............max_leaf_nodes=70, min_samples_split=5; total time=   0.0s\n",
            "[CV] END .............max_leaf_nodes=70, min_samples_split=6; total time=   0.0s\n",
            "[CV] END .............max_leaf_nodes=70, min_samples_split=6; total time=   0.0s\n",
            "[CV] END .............max_leaf_nodes=71, min_samples_split=1; total time=   0.0s\n",
            "[CV] END .............max_leaf_nodes=71, min_samples_split=1; total time=   0.0s\n",
            "[CV] END .............max_leaf_nodes=71, min_samples_split=2; total time=   0.0s\n",
            "[CV] END .............max_leaf_nodes=71, min_samples_split=2; total time=   0.0s\n",
            "[CV] END .............max_leaf_nodes=71, min_samples_split=3; total time=   0.0s\n",
            "[CV] END .............max_leaf_nodes=71, min_samples_split=3; total time=   0.0s\n",
            "[CV] END .............max_leaf_nodes=71, min_samples_split=4; total time=   0.0s\n",
            "[CV] END .............max_leaf_nodes=71, min_samples_split=4; total time=   0.0s\n",
            "[CV] END .............max_leaf_nodes=71, min_samples_split=5; total time=   0.0s\n",
            "[CV] END .............max_leaf_nodes=71, min_samples_split=5; total time=   0.0s\n",
            "[CV] END .............max_leaf_nodes=71, min_samples_split=6; total time=   0.0s\n",
            "[CV] END .............max_leaf_nodes=71, min_samples_split=6; total time=   0.0s\n",
            "[CV] END .............max_leaf_nodes=72, min_samples_split=1; total time=   0.0s\n",
            "[CV] END .............max_leaf_nodes=72, min_samples_split=1; total time=   0.0s\n",
            "[CV] END .............max_leaf_nodes=72, min_samples_split=2; total time=   0.0s\n",
            "[CV] END .............max_leaf_nodes=72, min_samples_split=2; total time=   0.0s\n",
            "[CV] END .............max_leaf_nodes=72, min_samples_split=3; total time=   0.0s\n",
            "[CV] END .............max_leaf_nodes=72, min_samples_split=3; total time=   0.0s\n",
            "[CV] END .............max_leaf_nodes=72, min_samples_split=4; total time=   0.0s\n",
            "[CV] END .............max_leaf_nodes=72, min_samples_split=4; total time=   0.0s\n",
            "[CV] END .............max_leaf_nodes=72, min_samples_split=5; total time=   0.0s\n",
            "[CV] END .............max_leaf_nodes=72, min_samples_split=5; total time=   0.0s\n",
            "[CV] END .............max_leaf_nodes=72, min_samples_split=6; total time=   0.0s\n",
            "[CV] END .............max_leaf_nodes=72, min_samples_split=6; total time=   0.0s\n",
            "[CV] END .............max_leaf_nodes=73, min_samples_split=1; total time=   0.0s\n",
            "[CV] END .............max_leaf_nodes=73, min_samples_split=1; total time=   0.0s\n",
            "[CV] END .............max_leaf_nodes=73, min_samples_split=2; total time=   0.0s\n",
            "[CV] END .............max_leaf_nodes=73, min_samples_split=2; total time=   0.0s\n",
            "[CV] END .............max_leaf_nodes=73, min_samples_split=3; total time=   0.0s\n",
            "[CV] END .............max_leaf_nodes=73, min_samples_split=3; total time=   0.0s\n",
            "[CV] END .............max_leaf_nodes=73, min_samples_split=4; total time=   0.0s\n",
            "[CV] END .............max_leaf_nodes=73, min_samples_split=4; total time=   0.0s\n",
            "[CV] END .............max_leaf_nodes=73, min_samples_split=5; total time=   0.0s\n",
            "[CV] END .............max_leaf_nodes=73, min_samples_split=5; total time=   0.0s\n",
            "[CV] END .............max_leaf_nodes=73, min_samples_split=6; total time=   0.0s\n",
            "[CV] END .............max_leaf_nodes=73, min_samples_split=6; total time=   0.0s\n",
            "[CV] END .............max_leaf_nodes=74, min_samples_split=1; total time=   0.0s\n",
            "[CV] END .............max_leaf_nodes=74, min_samples_split=1; total time=   0.0s\n",
            "[CV] END .............max_leaf_nodes=74, min_samples_split=2; total time=   0.0s\n",
            "[CV] END .............max_leaf_nodes=74, min_samples_split=2; total time=   0.0s\n",
            "[CV] END .............max_leaf_nodes=74, min_samples_split=3; total time=   0.0s\n",
            "[CV] END .............max_leaf_nodes=74, min_samples_split=3; total time=   0.0s\n",
            "[CV] END .............max_leaf_nodes=74, min_samples_split=4; total time=   0.0s\n",
            "[CV] END .............max_leaf_nodes=74, min_samples_split=4; total time=   0.0s\n",
            "[CV] END .............max_leaf_nodes=74, min_samples_split=5; total time=   0.0s\n",
            "[CV] END .............max_leaf_nodes=74, min_samples_split=5; total time=   0.0s\n",
            "[CV] END .............max_leaf_nodes=74, min_samples_split=6; total time=   0.0s\n",
            "[CV] END .............max_leaf_nodes=74, min_samples_split=6; total time=   0.0s\n",
            "[CV] END .............max_leaf_nodes=75, min_samples_split=1; total time=   0.0s\n",
            "[CV] END .............max_leaf_nodes=75, min_samples_split=1; total time=   0.0s\n",
            "[CV] END .............max_leaf_nodes=75, min_samples_split=2; total time=   0.0s\n",
            "[CV] END .............max_leaf_nodes=75, min_samples_split=2; total time=   0.0s\n",
            "[CV] END .............max_leaf_nodes=75, min_samples_split=3; total time=   0.0s\n",
            "[CV] END .............max_leaf_nodes=75, min_samples_split=3; total time=   0.0s\n",
            "[CV] END .............max_leaf_nodes=75, min_samples_split=4; total time=   0.0s\n",
            "[CV] END .............max_leaf_nodes=75, min_samples_split=4; total time=   0.0s\n",
            "[CV] END .............max_leaf_nodes=75, min_samples_split=5; total time=   0.0s\n",
            "[CV] END .............max_leaf_nodes=75, min_samples_split=5; total time=   0.0s\n",
            "[CV] END .............max_leaf_nodes=75, min_samples_split=6; total time=   0.0s\n",
            "[CV] END .............max_leaf_nodes=75, min_samples_split=6; total time=   0.0s\n",
            "[CV] END .............max_leaf_nodes=76, min_samples_split=1; total time=   0.0s\n",
            "[CV] END .............max_leaf_nodes=76, min_samples_split=1; total time=   0.0s\n",
            "[CV] END .............max_leaf_nodes=76, min_samples_split=2; total time=   0.0s\n",
            "[CV] END .............max_leaf_nodes=76, min_samples_split=2; total time=   0.0s\n",
            "[CV] END .............max_leaf_nodes=76, min_samples_split=3; total time=   0.0s\n",
            "[CV] END .............max_leaf_nodes=76, min_samples_split=3; total time=   0.0s\n",
            "[CV] END .............max_leaf_nodes=76, min_samples_split=4; total time=   0.0s\n",
            "[CV] END .............max_leaf_nodes=76, min_samples_split=4; total time=   0.0s\n",
            "[CV] END .............max_leaf_nodes=76, min_samples_split=5; total time=   0.0s\n",
            "[CV] END .............max_leaf_nodes=76, min_samples_split=5; total time=   0.0s\n",
            "[CV] END .............max_leaf_nodes=76, min_samples_split=6; total time=   0.0s\n",
            "[CV] END .............max_leaf_nodes=76, min_samples_split=6; total time=   0.0s\n",
            "[CV] END .............max_leaf_nodes=77, min_samples_split=1; total time=   0.0s\n",
            "[CV] END .............max_leaf_nodes=77, min_samples_split=1; total time=   0.0s\n",
            "[CV] END .............max_leaf_nodes=77, min_samples_split=2; total time=   0.0s\n",
            "[CV] END .............max_leaf_nodes=77, min_samples_split=2; total time=   0.0s\n",
            "[CV] END .............max_leaf_nodes=77, min_samples_split=3; total time=   0.0s\n",
            "[CV] END .............max_leaf_nodes=77, min_samples_split=3; total time=   0.0s\n",
            "[CV] END .............max_leaf_nodes=77, min_samples_split=4; total time=   0.0s\n",
            "[CV] END .............max_leaf_nodes=77, min_samples_split=4; total time=   0.0s\n",
            "[CV] END .............max_leaf_nodes=77, min_samples_split=5; total time=   0.0s\n",
            "[CV] END .............max_leaf_nodes=77, min_samples_split=5; total time=   0.0s\n",
            "[CV] END .............max_leaf_nodes=77, min_samples_split=6; total time=   0.0s\n",
            "[CV] END .............max_leaf_nodes=77, min_samples_split=6; total time=   0.0s\n",
            "[CV] END .............max_leaf_nodes=78, min_samples_split=1; total time=   0.0s\n",
            "[CV] END .............max_leaf_nodes=78, min_samples_split=1; total time=   0.0s\n",
            "[CV] END .............max_leaf_nodes=78, min_samples_split=2; total time=   0.0s\n",
            "[CV] END .............max_leaf_nodes=78, min_samples_split=2; total time=   0.0s\n",
            "[CV] END .............max_leaf_nodes=78, min_samples_split=3; total time=   0.0s\n",
            "[CV] END .............max_leaf_nodes=78, min_samples_split=3; total time=   0.0s\n",
            "[CV] END .............max_leaf_nodes=78, min_samples_split=4; total time=   0.0s\n",
            "[CV] END .............max_leaf_nodes=78, min_samples_split=4; total time=   0.0s\n",
            "[CV] END .............max_leaf_nodes=78, min_samples_split=5; total time=   0.0s\n",
            "[CV] END .............max_leaf_nodes=78, min_samples_split=5; total time=   0.0s\n",
            "[CV] END .............max_leaf_nodes=78, min_samples_split=6; total time=   0.0s\n",
            "[CV] END .............max_leaf_nodes=78, min_samples_split=6; total time=   0.0s\n",
            "[CV] END .............max_leaf_nodes=79, min_samples_split=1; total time=   0.0s\n",
            "[CV] END .............max_leaf_nodes=79, min_samples_split=1; total time=   0.0s\n",
            "[CV] END .............max_leaf_nodes=79, min_samples_split=2; total time=   0.0s\n",
            "[CV] END .............max_leaf_nodes=79, min_samples_split=2; total time=   0.0s\n",
            "[CV] END .............max_leaf_nodes=79, min_samples_split=3; total time=   0.0s\n",
            "[CV] END .............max_leaf_nodes=79, min_samples_split=3; total time=   0.0s\n",
            "[CV] END .............max_leaf_nodes=79, min_samples_split=4; total time=   0.0s\n",
            "[CV] END .............max_leaf_nodes=79, min_samples_split=4; total time=   0.0s\n",
            "[CV] END .............max_leaf_nodes=79, min_samples_split=5; total time=   0.0s\n",
            "[CV] END .............max_leaf_nodes=79, min_samples_split=5; total time=   0.0s\n",
            "[CV] END .............max_leaf_nodes=79, min_samples_split=6; total time=   0.0s\n",
            "[CV] END .............max_leaf_nodes=79, min_samples_split=6; total time=   0.0s\n",
            "[CV] END .............max_leaf_nodes=80, min_samples_split=1; total time=   0.0s\n",
            "[CV] END .............max_leaf_nodes=80, min_samples_split=1; total time=   0.0s\n",
            "[CV] END .............max_leaf_nodes=80, min_samples_split=2; total time=   0.0s\n",
            "[CV] END .............max_leaf_nodes=80, min_samples_split=2; total time=   0.0s\n",
            "[CV] END .............max_leaf_nodes=80, min_samples_split=3; total time=   0.0s\n",
            "[CV] END .............max_leaf_nodes=80, min_samples_split=3; total time=   0.0s\n",
            "[CV] END .............max_leaf_nodes=80, min_samples_split=4; total time=   0.0s\n",
            "[CV] END .............max_leaf_nodes=80, min_samples_split=4; total time=   0.0s\n",
            "[CV] END .............max_leaf_nodes=80, min_samples_split=5; total time=   0.0s\n",
            "[CV] END .............max_leaf_nodes=80, min_samples_split=5; total time=   0.0s\n",
            "[CV] END .............max_leaf_nodes=80, min_samples_split=6; total time=   0.0s\n",
            "[CV] END .............max_leaf_nodes=80, min_samples_split=6; total time=   0.0s\n",
            "[CV] END .............max_leaf_nodes=81, min_samples_split=1; total time=   0.0s\n",
            "[CV] END .............max_leaf_nodes=81, min_samples_split=1; total time=   0.0s\n",
            "[CV] END .............max_leaf_nodes=81, min_samples_split=2; total time=   0.0s\n",
            "[CV] END .............max_leaf_nodes=81, min_samples_split=2; total time=   0.0s\n",
            "[CV] END .............max_leaf_nodes=81, min_samples_split=3; total time=   0.0s\n",
            "[CV] END .............max_leaf_nodes=81, min_samples_split=3; total time=   0.0s\n",
            "[CV] END .............max_leaf_nodes=81, min_samples_split=4; total time=   0.0s\n",
            "[CV] END .............max_leaf_nodes=81, min_samples_split=4; total time=   0.0s\n",
            "[CV] END .............max_leaf_nodes=81, min_samples_split=5; total time=   0.0s\n",
            "[CV] END .............max_leaf_nodes=81, min_samples_split=5; total time=   0.0s\n",
            "[CV] END .............max_leaf_nodes=81, min_samples_split=6; total time=   0.0s\n",
            "[CV] END .............max_leaf_nodes=81, min_samples_split=6; total time=   0.0s\n",
            "[CV] END .............max_leaf_nodes=82, min_samples_split=1; total time=   0.0s\n",
            "[CV] END .............max_leaf_nodes=82, min_samples_split=1; total time=   0.0s\n",
            "[CV] END .............max_leaf_nodes=82, min_samples_split=2; total time=   0.0s\n",
            "[CV] END .............max_leaf_nodes=82, min_samples_split=2; total time=   0.0s\n",
            "[CV] END .............max_leaf_nodes=82, min_samples_split=3; total time=   0.0s\n",
            "[CV] END .............max_leaf_nodes=82, min_samples_split=3; total time=   0.0s\n",
            "[CV] END .............max_leaf_nodes=82, min_samples_split=4; total time=   0.0s\n",
            "[CV] END .............max_leaf_nodes=82, min_samples_split=4; total time=   0.0s\n",
            "[CV] END .............max_leaf_nodes=82, min_samples_split=5; total time=   0.0s\n",
            "[CV] END .............max_leaf_nodes=82, min_samples_split=5; total time=   0.0s\n",
            "[CV] END .............max_leaf_nodes=82, min_samples_split=6; total time=   0.0s\n",
            "[CV] END .............max_leaf_nodes=82, min_samples_split=6; total time=   0.0s\n",
            "[CV] END .............max_leaf_nodes=83, min_samples_split=1; total time=   0.0s\n",
            "[CV] END .............max_leaf_nodes=83, min_samples_split=1; total time=   0.0s\n",
            "[CV] END .............max_leaf_nodes=83, min_samples_split=2; total time=   0.0s\n",
            "[CV] END .............max_leaf_nodes=83, min_samples_split=2; total time=   0.0s\n",
            "[CV] END .............max_leaf_nodes=83, min_samples_split=3; total time=   0.0s\n",
            "[CV] END .............max_leaf_nodes=83, min_samples_split=3; total time=   0.0s\n",
            "[CV] END .............max_leaf_nodes=83, min_samples_split=4; total time=   0.0s\n",
            "[CV] END .............max_leaf_nodes=83, min_samples_split=4; total time=   0.0s\n",
            "[CV] END .............max_leaf_nodes=83, min_samples_split=5; total time=   0.0s\n",
            "[CV] END .............max_leaf_nodes=83, min_samples_split=5; total time=   0.0s\n",
            "[CV] END .............max_leaf_nodes=83, min_samples_split=6; total time=   0.0s\n",
            "[CV] END .............max_leaf_nodes=83, min_samples_split=6; total time=   0.0s\n",
            "[CV] END .............max_leaf_nodes=84, min_samples_split=1; total time=   0.0s\n",
            "[CV] END .............max_leaf_nodes=84, min_samples_split=1; total time=   0.0s\n",
            "[CV] END .............max_leaf_nodes=84, min_samples_split=2; total time=   0.0s\n",
            "[CV] END .............max_leaf_nodes=84, min_samples_split=2; total time=   0.0s\n",
            "[CV] END .............max_leaf_nodes=84, min_samples_split=3; total time=   0.0s\n",
            "[CV] END .............max_leaf_nodes=84, min_samples_split=3; total time=   0.0s\n",
            "[CV] END .............max_leaf_nodes=84, min_samples_split=4; total time=   0.0s\n",
            "[CV] END .............max_leaf_nodes=84, min_samples_split=4; total time=   0.0s\n",
            "[CV] END .............max_leaf_nodes=84, min_samples_split=5; total time=   0.0s\n",
            "[CV] END .............max_leaf_nodes=84, min_samples_split=5; total time=   0.0s\n",
            "[CV] END .............max_leaf_nodes=84, min_samples_split=6; total time=   0.0s\n",
            "[CV] END .............max_leaf_nodes=84, min_samples_split=6; total time=   0.0s\n",
            "[CV] END .............max_leaf_nodes=85, min_samples_split=1; total time=   0.0s\n",
            "[CV] END .............max_leaf_nodes=85, min_samples_split=1; total time=   0.0s\n",
            "[CV] END .............max_leaf_nodes=85, min_samples_split=2; total time=   0.0s\n",
            "[CV] END .............max_leaf_nodes=85, min_samples_split=2; total time=   0.0s\n",
            "[CV] END .............max_leaf_nodes=85, min_samples_split=3; total time=   0.0s\n",
            "[CV] END .............max_leaf_nodes=85, min_samples_split=3; total time=   0.0s\n",
            "[CV] END .............max_leaf_nodes=85, min_samples_split=4; total time=   0.0s\n",
            "[CV] END .............max_leaf_nodes=85, min_samples_split=4; total time=   0.0s\n",
            "[CV] END .............max_leaf_nodes=85, min_samples_split=5; total time=   0.0s\n",
            "[CV] END .............max_leaf_nodes=85, min_samples_split=5; total time=   0.0s\n",
            "[CV] END .............max_leaf_nodes=85, min_samples_split=6; total time=   0.0s\n",
            "[CV] END .............max_leaf_nodes=85, min_samples_split=6; total time=   0.0s\n",
            "[CV] END .............max_leaf_nodes=86, min_samples_split=1; total time=   0.0s\n",
            "[CV] END .............max_leaf_nodes=86, min_samples_split=1; total time=   0.0s\n",
            "[CV] END .............max_leaf_nodes=86, min_samples_split=2; total time=   0.0s\n",
            "[CV] END .............max_leaf_nodes=86, min_samples_split=2; total time=   0.0s\n",
            "[CV] END .............max_leaf_nodes=86, min_samples_split=3; total time=   0.0s\n",
            "[CV] END .............max_leaf_nodes=86, min_samples_split=3; total time=   0.0s\n",
            "[CV] END .............max_leaf_nodes=86, min_samples_split=4; total time=   0.0s\n",
            "[CV] END .............max_leaf_nodes=86, min_samples_split=4; total time=   0.0s\n",
            "[CV] END .............max_leaf_nodes=86, min_samples_split=5; total time=   0.0s\n",
            "[CV] END .............max_leaf_nodes=86, min_samples_split=5; total time=   0.0s\n",
            "[CV] END .............max_leaf_nodes=86, min_samples_split=6; total time=   0.0s\n",
            "[CV] END .............max_leaf_nodes=86, min_samples_split=6; total time=   0.0s\n",
            "[CV] END .............max_leaf_nodes=87, min_samples_split=1; total time=   0.0s\n",
            "[CV] END .............max_leaf_nodes=87, min_samples_split=1; total time=   0.0s\n",
            "[CV] END .............max_leaf_nodes=87, min_samples_split=2; total time=   0.0s\n",
            "[CV] END .............max_leaf_nodes=87, min_samples_split=2; total time=   0.0s\n",
            "[CV] END .............max_leaf_nodes=87, min_samples_split=3; total time=   0.0s\n",
            "[CV] END .............max_leaf_nodes=87, min_samples_split=3; total time=   0.0s\n",
            "[CV] END .............max_leaf_nodes=87, min_samples_split=4; total time=   0.0s\n",
            "[CV] END .............max_leaf_nodes=87, min_samples_split=4; total time=   0.0s\n",
            "[CV] END .............max_leaf_nodes=87, min_samples_split=5; total time=   0.0s\n",
            "[CV] END .............max_leaf_nodes=87, min_samples_split=5; total time=   0.0s\n",
            "[CV] END .............max_leaf_nodes=87, min_samples_split=6; total time=   0.0s\n",
            "[CV] END .............max_leaf_nodes=87, min_samples_split=6; total time=   0.0s\n",
            "[CV] END .............max_leaf_nodes=88, min_samples_split=1; total time=   0.0s\n",
            "[CV] END .............max_leaf_nodes=88, min_samples_split=1; total time=   0.0s\n",
            "[CV] END .............max_leaf_nodes=88, min_samples_split=2; total time=   0.0s\n",
            "[CV] END .............max_leaf_nodes=88, min_samples_split=2; total time=   0.0s\n",
            "[CV] END .............max_leaf_nodes=88, min_samples_split=3; total time=   0.0s\n",
            "[CV] END .............max_leaf_nodes=88, min_samples_split=3; total time=   0.0s\n",
            "[CV] END .............max_leaf_nodes=88, min_samples_split=4; total time=   0.0s\n",
            "[CV] END .............max_leaf_nodes=88, min_samples_split=4; total time=   0.0s\n",
            "[CV] END .............max_leaf_nodes=88, min_samples_split=5; total time=   0.0s\n",
            "[CV] END .............max_leaf_nodes=88, min_samples_split=5; total time=   0.0s\n",
            "[CV] END .............max_leaf_nodes=88, min_samples_split=6; total time=   0.0s\n",
            "[CV] END .............max_leaf_nodes=88, min_samples_split=6; total time=   0.0s\n",
            "[CV] END .............max_leaf_nodes=89, min_samples_split=1; total time=   0.0s\n",
            "[CV] END .............max_leaf_nodes=89, min_samples_split=1; total time=   0.0s\n",
            "[CV] END .............max_leaf_nodes=89, min_samples_split=2; total time=   0.0s\n",
            "[CV] END .............max_leaf_nodes=89, min_samples_split=2; total time=   0.0s\n",
            "[CV] END .............max_leaf_nodes=89, min_samples_split=3; total time=   0.0s\n",
            "[CV] END .............max_leaf_nodes=89, min_samples_split=3; total time=   0.0s\n",
            "[CV] END .............max_leaf_nodes=89, min_samples_split=4; total time=   0.0s\n",
            "[CV] END .............max_leaf_nodes=89, min_samples_split=4; total time=   0.0s\n",
            "[CV] END .............max_leaf_nodes=89, min_samples_split=5; total time=   0.0s\n",
            "[CV] END .............max_leaf_nodes=89, min_samples_split=5; total time=   0.0s\n",
            "[CV] END .............max_leaf_nodes=89, min_samples_split=6; total time=   0.0s\n",
            "[CV] END .............max_leaf_nodes=89, min_samples_split=6; total time=   0.0s\n",
            "[CV] END .............max_leaf_nodes=90, min_samples_split=1; total time=   0.0s\n",
            "[CV] END .............max_leaf_nodes=90, min_samples_split=1; total time=   0.0s\n",
            "[CV] END .............max_leaf_nodes=90, min_samples_split=2; total time=   0.0s\n",
            "[CV] END .............max_leaf_nodes=90, min_samples_split=2; total time=   0.0s\n",
            "[CV] END .............max_leaf_nodes=90, min_samples_split=3; total time=   0.0s\n",
            "[CV] END .............max_leaf_nodes=90, min_samples_split=3; total time=   0.0s\n",
            "[CV] END .............max_leaf_nodes=90, min_samples_split=4; total time=   0.0s\n",
            "[CV] END .............max_leaf_nodes=90, min_samples_split=4; total time=   0.0s\n",
            "[CV] END .............max_leaf_nodes=90, min_samples_split=5; total time=   0.0s\n",
            "[CV] END .............max_leaf_nodes=90, min_samples_split=5; total time=   0.0s\n",
            "[CV] END .............max_leaf_nodes=90, min_samples_split=6; total time=   0.0s\n",
            "[CV] END .............max_leaf_nodes=90, min_samples_split=6; total time=   0.0s\n",
            "[CV] END .............max_leaf_nodes=91, min_samples_split=1; total time=   0.0s\n",
            "[CV] END .............max_leaf_nodes=91, min_samples_split=1; total time=   0.0s\n",
            "[CV] END .............max_leaf_nodes=91, min_samples_split=2; total time=   0.0s\n",
            "[CV] END .............max_leaf_nodes=91, min_samples_split=2; total time=   0.0s\n",
            "[CV] END .............max_leaf_nodes=91, min_samples_split=3; total time=   0.0s\n",
            "[CV] END .............max_leaf_nodes=91, min_samples_split=3; total time=   0.0s\n",
            "[CV] END .............max_leaf_nodes=91, min_samples_split=4; total time=   0.0s\n",
            "[CV] END .............max_leaf_nodes=91, min_samples_split=4; total time=   0.0s\n",
            "[CV] END .............max_leaf_nodes=91, min_samples_split=5; total time=   0.0s\n",
            "[CV] END .............max_leaf_nodes=91, min_samples_split=5; total time=   0.0s\n",
            "[CV] END .............max_leaf_nodes=91, min_samples_split=6; total time=   0.0s\n",
            "[CV] END .............max_leaf_nodes=91, min_samples_split=6; total time=   0.0s\n",
            "[CV] END .............max_leaf_nodes=92, min_samples_split=1; total time=   0.0s\n",
            "[CV] END .............max_leaf_nodes=92, min_samples_split=1; total time=   0.0s\n",
            "[CV] END .............max_leaf_nodes=92, min_samples_split=2; total time=   0.0s\n",
            "[CV] END .............max_leaf_nodes=92, min_samples_split=2; total time=   0.0s\n",
            "[CV] END .............max_leaf_nodes=92, min_samples_split=3; total time=   0.0s\n",
            "[CV] END .............max_leaf_nodes=92, min_samples_split=3; total time=   0.0s\n",
            "[CV] END .............max_leaf_nodes=92, min_samples_split=4; total time=   0.0s\n",
            "[CV] END .............max_leaf_nodes=92, min_samples_split=4; total time=   0.0s\n",
            "[CV] END .............max_leaf_nodes=92, min_samples_split=5; total time=   0.0s\n",
            "[CV] END .............max_leaf_nodes=92, min_samples_split=5; total time=   0.0s\n",
            "[CV] END .............max_leaf_nodes=92, min_samples_split=6; total time=   0.0s\n",
            "[CV] END .............max_leaf_nodes=92, min_samples_split=6; total time=   0.0s\n",
            "[CV] END .............max_leaf_nodes=93, min_samples_split=1; total time=   0.0s\n",
            "[CV] END .............max_leaf_nodes=93, min_samples_split=1; total time=   0.0s\n",
            "[CV] END .............max_leaf_nodes=93, min_samples_split=2; total time=   0.0s\n",
            "[CV] END .............max_leaf_nodes=93, min_samples_split=2; total time=   0.0s\n",
            "[CV] END .............max_leaf_nodes=93, min_samples_split=3; total time=   0.0s\n",
            "[CV] END .............max_leaf_nodes=93, min_samples_split=3; total time=   0.0s\n",
            "[CV] END .............max_leaf_nodes=93, min_samples_split=4; total time=   0.0s\n",
            "[CV] END .............max_leaf_nodes=93, min_samples_split=4; total time=   0.0s\n",
            "[CV] END .............max_leaf_nodes=93, min_samples_split=5; total time=   0.0s\n",
            "[CV] END .............max_leaf_nodes=93, min_samples_split=5; total time=   0.0s\n",
            "[CV] END .............max_leaf_nodes=93, min_samples_split=6; total time=   0.0s\n",
            "[CV] END .............max_leaf_nodes=93, min_samples_split=6; total time=   0.0s\n",
            "[CV] END .............max_leaf_nodes=94, min_samples_split=1; total time=   0.0s\n",
            "[CV] END .............max_leaf_nodes=94, min_samples_split=1; total time=   0.0s\n",
            "[CV] END .............max_leaf_nodes=94, min_samples_split=2; total time=   0.0s\n",
            "[CV] END .............max_leaf_nodes=94, min_samples_split=2; total time=   0.0s\n",
            "[CV] END .............max_leaf_nodes=94, min_samples_split=3; total time=   0.0s\n",
            "[CV] END .............max_leaf_nodes=94, min_samples_split=3; total time=   0.0s\n",
            "[CV] END .............max_leaf_nodes=94, min_samples_split=4; total time=   0.0s\n",
            "[CV] END .............max_leaf_nodes=94, min_samples_split=4; total time=   0.0s\n",
            "[CV] END .............max_leaf_nodes=94, min_samples_split=5; total time=   0.0s\n",
            "[CV] END .............max_leaf_nodes=94, min_samples_split=5; total time=   0.0s\n",
            "[CV] END .............max_leaf_nodes=94, min_samples_split=6; total time=   0.0s\n",
            "[CV] END .............max_leaf_nodes=94, min_samples_split=6; total time=   0.0s\n",
            "[CV] END .............max_leaf_nodes=95, min_samples_split=1; total time=   0.0s\n",
            "[CV] END .............max_leaf_nodes=95, min_samples_split=1; total time=   0.0s\n",
            "[CV] END .............max_leaf_nodes=95, min_samples_split=2; total time=   0.0s\n",
            "[CV] END .............max_leaf_nodes=95, min_samples_split=2; total time=   0.0s\n",
            "[CV] END .............max_leaf_nodes=95, min_samples_split=3; total time=   0.0s\n",
            "[CV] END .............max_leaf_nodes=95, min_samples_split=3; total time=   0.0s\n",
            "[CV] END .............max_leaf_nodes=95, min_samples_split=4; total time=   0.0s\n",
            "[CV] END .............max_leaf_nodes=95, min_samples_split=4; total time=   0.0s\n",
            "[CV] END .............max_leaf_nodes=95, min_samples_split=5; total time=   0.0s\n",
            "[CV] END .............max_leaf_nodes=95, min_samples_split=5; total time=   0.0s\n",
            "[CV] END .............max_leaf_nodes=95, min_samples_split=6; total time=   0.0s\n",
            "[CV] END .............max_leaf_nodes=95, min_samples_split=6; total time=   0.0s\n",
            "[CV] END .............max_leaf_nodes=96, min_samples_split=1; total time=   0.0s\n",
            "[CV] END .............max_leaf_nodes=96, min_samples_split=1; total time=   0.0s\n",
            "[CV] END .............max_leaf_nodes=96, min_samples_split=2; total time=   0.0s\n",
            "[CV] END .............max_leaf_nodes=96, min_samples_split=2; total time=   0.0s\n",
            "[CV] END .............max_leaf_nodes=96, min_samples_split=3; total time=   0.0s\n",
            "[CV] END .............max_leaf_nodes=96, min_samples_split=3; total time=   0.0s\n",
            "[CV] END .............max_leaf_nodes=96, min_samples_split=4; total time=   0.0s\n",
            "[CV] END .............max_leaf_nodes=96, min_samples_split=4; total time=   0.0s\n",
            "[CV] END .............max_leaf_nodes=96, min_samples_split=5; total time=   0.0s\n",
            "[CV] END .............max_leaf_nodes=96, min_samples_split=5; total time=   0.0s\n",
            "[CV] END .............max_leaf_nodes=96, min_samples_split=6; total time=   0.0s\n",
            "[CV] END .............max_leaf_nodes=96, min_samples_split=6; total time=   0.0s\n",
            "[CV] END .............max_leaf_nodes=97, min_samples_split=1; total time=   0.0s\n",
            "[CV] END .............max_leaf_nodes=97, min_samples_split=1; total time=   0.0s\n",
            "[CV] END .............max_leaf_nodes=97, min_samples_split=2; total time=   0.0s\n",
            "[CV] END .............max_leaf_nodes=97, min_samples_split=2; total time=   0.0s\n",
            "[CV] END .............max_leaf_nodes=97, min_samples_split=3; total time=   0.0s\n",
            "[CV] END .............max_leaf_nodes=97, min_samples_split=3; total time=   0.0s\n",
            "[CV] END .............max_leaf_nodes=97, min_samples_split=4; total time=   0.0s\n",
            "[CV] END .............max_leaf_nodes=97, min_samples_split=4; total time=   0.0s\n",
            "[CV] END .............max_leaf_nodes=97, min_samples_split=5; total time=   0.0s\n",
            "[CV] END .............max_leaf_nodes=97, min_samples_split=5; total time=   0.0s\n",
            "[CV] END .............max_leaf_nodes=97, min_samples_split=6; total time=   0.0s\n",
            "[CV] END .............max_leaf_nodes=97, min_samples_split=6; total time=   0.0s\n",
            "[CV] END .............max_leaf_nodes=98, min_samples_split=1; total time=   0.0s\n",
            "[CV] END .............max_leaf_nodes=98, min_samples_split=1; total time=   0.0s\n",
            "[CV] END .............max_leaf_nodes=98, min_samples_split=2; total time=   0.0s\n",
            "[CV] END .............max_leaf_nodes=98, min_samples_split=2; total time=   0.0s\n",
            "[CV] END .............max_leaf_nodes=98, min_samples_split=3; total time=   0.0s\n",
            "[CV] END .............max_leaf_nodes=98, min_samples_split=3; total time=   0.0s\n",
            "[CV] END .............max_leaf_nodes=98, min_samples_split=4; total time=   0.0s\n",
            "[CV] END .............max_leaf_nodes=98, min_samples_split=4; total time=   0.0s\n",
            "[CV] END .............max_leaf_nodes=98, min_samples_split=5; total time=   0.0s\n",
            "[CV] END .............max_leaf_nodes=98, min_samples_split=5; total time=   0.0s\n",
            "[CV] END .............max_leaf_nodes=98, min_samples_split=6; total time=   0.0s\n",
            "[CV] END .............max_leaf_nodes=98, min_samples_split=6; total time=   0.0s\n",
            "[CV] END .............max_leaf_nodes=99, min_samples_split=1; total time=   0.0s\n",
            "[CV] END .............max_leaf_nodes=99, min_samples_split=1; total time=   0.0s\n",
            "[CV] END .............max_leaf_nodes=99, min_samples_split=2; total time=   0.0s\n",
            "[CV] END .............max_leaf_nodes=99, min_samples_split=2; total time=   0.0s\n",
            "[CV] END .............max_leaf_nodes=99, min_samples_split=3; total time=   0.0s\n",
            "[CV] END .............max_leaf_nodes=99, min_samples_split=3; total time=   0.0s\n",
            "[CV] END .............max_leaf_nodes=99, min_samples_split=4; total time=   0.0s\n",
            "[CV] END .............max_leaf_nodes=99, min_samples_split=4; total time=   0.0s\n",
            "[CV] END .............max_leaf_nodes=99, min_samples_split=5; total time=   0.0s\n",
            "[CV] END .............max_leaf_nodes=99, min_samples_split=5; total time=   0.0s\n",
            "[CV] END .............max_leaf_nodes=99, min_samples_split=6; total time=   0.0s\n",
            "[CV] END .............max_leaf_nodes=99, min_samples_split=6; total time=   0.0s\n"
          ]
        },
        {
          "output_type": "stream",
          "name": "stderr",
          "text": [
            "/usr/local/lib/python3.7/dist-packages/sklearn/model_selection/_validation.py:372: FitFailedWarning: \n",
            "196 fits failed out of a total of 1176.\n",
            "The score on these train-test partitions for these parameters will be set to nan.\n",
            "If these failures are not expected, you can try to debug them by setting error_score='raise'.\n",
            "\n",
            "Below are more details about the failures:\n",
            "--------------------------------------------------------------------------------\n",
            "196 fits failed with the following error:\n",
            "Traceback (most recent call last):\n",
            "  File \"/usr/local/lib/python3.7/dist-packages/sklearn/model_selection/_validation.py\", line 680, in _fit_and_score\n",
            "    estimator.fit(X_train, y_train, **fit_params)\n",
            "  File \"/usr/local/lib/python3.7/dist-packages/sklearn/tree/_classes.py\", line 942, in fit\n",
            "    X_idx_sorted=X_idx_sorted,\n",
            "  File \"/usr/local/lib/python3.7/dist-packages/sklearn/tree/_classes.py\", line 254, in fit\n",
            "    % self.min_samples_split\n",
            "ValueError: min_samples_split must be an integer greater than 1 or a float in (0.0, 1.0]; got the integer 1\n",
            "\n",
            "  warnings.warn(some_fits_failed_message, FitFailedWarning)\n",
            "/usr/local/lib/python3.7/dist-packages/sklearn/model_selection/_search.py:972: UserWarning: One or more of the test scores are non-finite: [ nan 0.76 0.76 0.76 0.76 0.76  nan 0.76 0.76 0.76 0.76 0.76  nan 0.78\n",
            " 0.78 0.78 0.78 0.78  nan 0.77 0.77 0.77 0.77 0.77  nan 0.77 0.77 0.77\n",
            " 0.77 0.77  nan 0.78 0.78 0.78 0.78 0.78  nan 0.79 0.79 0.79 0.78 0.78\n",
            "  nan 0.79 0.79 0.79 0.78 0.78  nan 0.79 0.79 0.79 0.78 0.78  nan 0.79\n",
            " 0.79 0.79 0.78 0.78  nan 0.79 0.79 0.79 0.78 0.78  nan 0.79 0.79 0.79\n",
            " 0.78 0.78  nan 0.79 0.79 0.79 0.78 0.78  nan 0.79 0.79 0.79 0.78 0.78\n",
            "  nan 0.79 0.79 0.79 0.78 0.78  nan 0.79 0.79 0.79 0.78 0.78  nan 0.79\n",
            " 0.79 0.79 0.78 0.78  nan 0.79 0.79 0.79 0.78 0.78  nan 0.79 0.79 0.79\n",
            " 0.78 0.78  nan 0.79 0.79 0.79 0.78 0.78  nan 0.79 0.79 0.79 0.78 0.78\n",
            "  nan 0.79 0.79 0.79 0.78 0.78  nan 0.79 0.79 0.79 0.78 0.78  nan 0.79\n",
            " 0.79 0.79 0.78 0.78  nan 0.79 0.79 0.79 0.78 0.78  nan 0.79 0.79 0.79\n",
            " 0.78 0.78  nan 0.79 0.79 0.79 0.78 0.78  nan 0.79 0.79 0.79 0.78 0.78\n",
            "  nan 0.79 0.79 0.79 0.78 0.78  nan 0.79 0.79 0.79 0.78 0.78  nan 0.79\n",
            " 0.79 0.79 0.78 0.78  nan 0.79 0.79 0.79 0.78 0.78  nan 0.79 0.79 0.79\n",
            " 0.78 0.78  nan 0.79 0.79 0.79 0.78 0.78  nan 0.79 0.79 0.79 0.78 0.78\n",
            "  nan 0.79 0.79 0.79 0.78 0.78  nan 0.79 0.79 0.79 0.78 0.78  nan 0.79\n",
            " 0.79 0.79 0.78 0.78  nan 0.79 0.79 0.79 0.78 0.78  nan 0.79 0.79 0.79\n",
            " 0.78 0.78  nan 0.79 0.79 0.79 0.78 0.78  nan 0.79 0.79 0.79 0.78 0.78\n",
            "  nan 0.79 0.79 0.79 0.78 0.78  nan 0.79 0.79 0.79 0.78 0.78  nan 0.79\n",
            " 0.79 0.79 0.78 0.78  nan 0.79 0.79 0.79 0.78 0.78  nan 0.79 0.79 0.79\n",
            " 0.78 0.78  nan 0.79 0.79 0.79 0.78 0.78  nan 0.79 0.79 0.79 0.78 0.78\n",
            "  nan 0.79 0.79 0.79 0.78 0.78  nan 0.79 0.79 0.79 0.78 0.78  nan 0.79\n",
            " 0.79 0.79 0.78 0.78  nan 0.79 0.79 0.79 0.78 0.78  nan 0.79 0.79 0.79\n",
            " 0.78 0.78  nan 0.79 0.79 0.79 0.78 0.78  nan 0.79 0.79 0.79 0.78 0.78\n",
            "  nan 0.79 0.79 0.79 0.78 0.78  nan 0.79 0.79 0.79 0.78 0.78  nan 0.79\n",
            " 0.79 0.79 0.78 0.78  nan 0.79 0.79 0.79 0.78 0.78  nan 0.79 0.79 0.79\n",
            " 0.78 0.78  nan 0.79 0.79 0.79 0.78 0.78  nan 0.79 0.79 0.79 0.78 0.78\n",
            "  nan 0.79 0.79 0.79 0.78 0.78  nan 0.79 0.79 0.79 0.78 0.78  nan 0.79\n",
            " 0.79 0.79 0.78 0.78  nan 0.79 0.79 0.79 0.78 0.78  nan 0.79 0.79 0.79\n",
            " 0.78 0.78  nan 0.79 0.79 0.79 0.78 0.78  nan 0.79 0.79 0.79 0.78 0.78\n",
            "  nan 0.79 0.79 0.79 0.78 0.78  nan 0.79 0.79 0.79 0.78 0.78  nan 0.79\n",
            " 0.79 0.79 0.78 0.78  nan 0.79 0.79 0.79 0.78 0.78  nan 0.79 0.79 0.79\n",
            " 0.78 0.78  nan 0.79 0.79 0.79 0.78 0.78  nan 0.79 0.79 0.79 0.78 0.78\n",
            "  nan 0.79 0.79 0.79 0.78 0.78  nan 0.79 0.79 0.79 0.78 0.78  nan 0.79\n",
            " 0.79 0.79 0.78 0.78  nan 0.79 0.79 0.79 0.78 0.78  nan 0.79 0.79 0.79\n",
            " 0.78 0.78  nan 0.79 0.79 0.79 0.78 0.78  nan 0.79 0.79 0.79 0.78 0.78\n",
            "  nan 0.79 0.79 0.79 0.78 0.78  nan 0.79 0.79 0.79 0.78 0.78  nan 0.79\n",
            " 0.79 0.79 0.78 0.78  nan 0.79 0.79 0.79 0.78 0.78  nan 0.79 0.79 0.79\n",
            " 0.78 0.78  nan 0.79 0.79 0.79 0.78 0.78  nan 0.79 0.79 0.79 0.78 0.78\n",
            "  nan 0.79 0.79 0.79 0.78 0.78  nan 0.79 0.79 0.79 0.78 0.78  nan 0.79\n",
            " 0.79 0.79 0.78 0.78  nan 0.79 0.79 0.79 0.78 0.78  nan 0.79 0.79 0.79\n",
            " 0.78 0.78  nan 0.79 0.79 0.79 0.78 0.78  nan 0.79 0.79 0.79 0.78 0.78]\n",
            "  category=UserWarning,\n"
          ]
        },
        {
          "output_type": "execute_result",
          "data": {
            "text/plain": [
              "GridSearchCV(cv=2, estimator=DecisionTreeClassifier(random_state=42),\n",
              "             param_grid={'max_leaf_nodes': [2, 3, 4, 5, 6, 7, 8, 9, 10, 11, 12,\n",
              "                                            13, 14, 15, 16, 17, 18, 19, 20, 21,\n",
              "                                            22, 23, 24, 25, 26, 27, 28, 29, 30,\n",
              "                                            31, ...],\n",
              "                         'min_samples_split': [1, 2, 3, 4, 5, 6]},\n",
              "             verbose=2)"
            ]
          },
          "metadata": {},
          "execution_count": 58
        }
      ]
    },
    {
      "cell_type": "code",
      "source": [
        "print('')"
      ],
      "metadata": {
        "id": "jGUdUAFiDAKF"
      },
      "execution_count": null,
      "outputs": []
    },
    {
      "cell_type": "code",
      "source": [
        "from sklearn.base import clone\n",
        "\n",
        "random_forest = [clone(grid_search_.best_estimator_) for _ in range(n_trees)]\n",
        "\n",
        "accuracy_scores = []\n",
        "\n",
        "for tree, (X_mini_train, y_mini_train) in zip(forest, mini_sets):\n",
        "    tree.fit(X_mini_train, y_mini_train)\n",
        "    \n",
        "    y_pred = tree.predict(X_test)\n",
        "    accuracy_scores.append(accuracy_score(y_test, y_pred))\n",
        "\n",
        "np.mean(accuracy_scores)"
      ],
      "metadata": {
        "id": "LOyGhHFyC6uO"
      },
      "execution_count": null,
      "outputs": []
    },
    {
      "cell_type": "markdown",
      "metadata": {
        "id": "L33GBuxILvm4"
      },
      "source": [
        "↑↑↑↑↑↑↑↑↑↑↑↑↑↑↑↑↑↑↑↑↑↑↑↑↑↑↑↑↑↑↑ your code goes above this "
      ]
    },
    {
      "cell_type": "code",
      "source": [
        ""
      ],
      "metadata": {
        "id": "Nj73NXon9TDk"
      },
      "execution_count": null,
      "outputs": []
    }
  ],
  "metadata": {
    "colab": {
      "name": "Cópia de 03_Decision_Trees_Solution.ipynb",
      "provenance": [],
      "collapsed_sections": [
        "LoFdkAfPLvmu"
      ],
      "include_colab_link": true
    },
    "kernelspec": {
      "display_name": "Python 3",
      "language": "python",
      "name": "python3"
    },
    "language_info": {
      "codemirror_mode": {
        "name": "ipython",
        "version": 3
      },
      "file_extension": ".py",
      "mimetype": "text/x-python",
      "name": "python",
      "nbconvert_exporter": "python",
      "pygments_lexer": "ipython3",
      "version": "3.8.8"
    },
    "nav_menu": {
      "height": "309px",
      "width": "468px"
    },
    "toc": {
      "navigate_menu": true,
      "number_sections": true,
      "sideBar": true,
      "threshold": 6,
      "toc_cell": false,
      "toc_section_display": "block",
      "toc_window_display": false
    }
  },
  "nbformat": 4,
  "nbformat_minor": 0
}
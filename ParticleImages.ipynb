{
  "cells": [
    {
      "cell_type": "markdown",
      "metadata": {
        "id": "view-in-github",
        "colab_type": "text"
      },
      "source": [
        "<a href=\"https://colab.research.google.com/github/teteumac/ML_Alabama/blob/main/ParticleImages.ipynb\" target=\"_parent\"><img src=\"https://colab.research.google.com/assets/colab-badge.svg\" alt=\"Open In Colab\"/></a>"
      ]
    },
    {
      "cell_type": "markdown",
      "metadata": {
        "id": "P3DtjEbf8M4I"
      },
      "source": [
        "**Introduction**\n",
        "\n",
        "Machine Learning algorithms have become an increasingly important tool for analyzing the data from the Large Hadron Collider (LHC). Identification of particles in LHC collisions is an important task of LHC detector reconstruction algorithms.\n",
        "\n",
        "Here we present a challenge where one of the detectors (the Electromagnetic Calorimeter or ECAL) is used as a camera to analyze detector images from two types of particles: electrons and photons that deposit their energy in this detector.\n",
        "\n",
        "**Dataset**\n",
        "\n",
        "Each pixel in the image corresponds to a detector cell, while the intensity of the pixel corresponds to how much energy is measured in that cell. Timing of the energy deposits are also available, though this may or may not be relevant. The dataset contains 32x32 Images of the energy hits and their timing (channel 1: hit energy and channel 2: its timing) in each calorimeter cell (one cell = one pixel) for the two classes of particles: Electrons and Photons. The dataset contains around four hundred thousand images for electrons and photons. Please note that your final model will be evaluated on an unseen test dataset.\n",
        "\n",
        "**Algorithm**\n",
        "\n",
        "Please use a Machine Learning model of your choice to achieve the highest possible classification performance on the provided dataset. Please provide a Jupyter Notebook that shows your solution.\n",
        "\n",
        "Evaluation Metrics\n",
        "ROC curve (Receiver Operating Characteristic curve) and AUC score (Area Under the ROC Curve)\n",
        "Training and Validation Accuracy\n",
        "The model performance will be tested on a hidden test dataset based on the above metrics.\n",
        "\n",
        "**Deliverables**\n",
        "\n",
        "Google Colab Jupyter Notebook showing your solution along with the final model accuracy (Training and Validation), ROC curve and AUC score. More details regarding the format of the notebook can be found in the sample Google Colab notebook provided for this challenge.\n",
        "The final trained model including the model architecture and the trained weights ( For example: HDF5 file, .pb file, .pt file, etc. ). You are free to choose Machine Learning Framework of your choice.\n"
      ]
    },
    {
      "cell_type": "markdown",
      "metadata": {
        "id": "TJ-SHHfw73NF"
      },
      "source": [
        "<table align=\"left\">\n",
        "  <td>\n",
        "    <a target=\"_blank\" href=\"https://colab.research.google.com/github/UAPH4582/PH482_582_Sp22/blob/main/Hackathons/Hackathon-02/Hackathon-02.ipynb\"><img src=\"https://www.tensorflow.org/images/colab_logo_32px.png\" />Run in Google Colab</a>\n",
        "  </td>\n",
        "</table>"
      ]
    },
    {
      "cell_type": "markdown",
      "metadata": {
        "id": "g0b6SRpWl2Xh"
      },
      "source": [
        "## Create the appropriate project folder "
      ]
    },
    {
      "cell_type": "code",
      "execution_count": 1,
      "metadata": {
        "id": "OYRULwKaw_A6"
      },
      "outputs": [],
      "source": [
        "mkdir Particle_Images"
      ]
    },
    {
      "cell_type": "code",
      "execution_count": 2,
      "metadata": {
        "id": "at-4-Xub8DYW",
        "colab": {
          "base_uri": "https://localhost:8080/"
        },
        "outputId": "211c5248-a1ee-490f-d97f-046ed7323571"
      },
      "outputs": [
        {
          "output_type": "stream",
          "name": "stdout",
          "text": [
            "/content/Particle_Images\n"
          ]
        }
      ],
      "source": [
        "cd Particle_Images"
      ]
    },
    {
      "cell_type": "code",
      "execution_count": 3,
      "metadata": {
        "id": "BQGKM10j2CiQ"
      },
      "outputs": [],
      "source": [
        "mkdir data/"
      ]
    },
    {
      "cell_type": "markdown",
      "metadata": {
        "id": "PEtRyfNv9XVn"
      },
      "source": [
        "# Download the Dataset\n",
        "This will download 83MB for SingleElectron and 76MB for SinglePhoton."
      ]
    },
    {
      "cell_type": "code",
      "execution_count": 4,
      "metadata": {
        "id": "rcK1wY4Qt_7Y",
        "colab": {
          "base_uri": "https://localhost:8080/"
        },
        "outputId": "50281b71-d0b2-4822-c40f-2a5f05fa75b0"
      },
      "outputs": [
        {
          "output_type": "stream",
          "name": "stdout",
          "text": [
            "--2022-04-05 17:56:26--  https://cernbox.cern.ch/index.php/s/sHjzCNFTFxutYCj/download\n",
            "Resolving cernbox.cern.ch (cernbox.cern.ch)... 128.142.170.17, 188.184.97.72, 137.138.120.151, ...\n",
            "Connecting to cernbox.cern.ch (cernbox.cern.ch)|128.142.170.17|:443... connected.\n",
            "HTTP request sent, awaiting response... 200 OK\n",
            "Length: 87010508 (83M) [application/octet-stream]\n",
            "Saving to: ‘data/SingleElectronPt50_IMGCROPS_n249k_RHv1.hdf5’\n",
            "\n",
            "data/SingleElectron 100%[===================>]  82.98M  20.6MB/s    in 4.7s    \n",
            "\n",
            "Last-modified header invalid -- time-stamp ignored.\n",
            "2022-04-05 17:56:33 (17.6 MB/s) - ‘data/SingleElectronPt50_IMGCROPS_n249k_RHv1.hdf5’ saved [87010508/87010508]\n",
            "\n",
            "--2022-04-05 17:56:33--  https://cernbox.cern.ch/index.php/s/69nGEZjOy3xGxBq/download\n",
            "Resolving cernbox.cern.ch (cernbox.cern.ch)... 128.142.170.17, 128.142.53.28, 128.142.53.35, ...\n",
            "Connecting to cernbox.cern.ch (cernbox.cern.ch)|128.142.170.17|:443... connected.\n",
            "HTTP request sent, awaiting response... 200 OK\n",
            "Length: 79876391 (76M) [application/octet-stream]\n",
            "Saving to: ‘data/SinglePhotonPt50_IMGCROPS_n249k_RHv1.hdf5’\n",
            "\n",
            "data/SinglePhotonPt 100%[===================>]  76.18M  20.2MB/s    in 4.0s    \n",
            "\n",
            "Last-modified header invalid -- time-stamp ignored.\n",
            "2022-04-05 17:56:39 (19.1 MB/s) - ‘data/SinglePhotonPt50_IMGCROPS_n249k_RHv1.hdf5’ saved [79876391/79876391]\n",
            "\n"
          ]
        }
      ],
      "source": [
        "#!/bin/bash\n",
        "!wget https://cernbox.cern.ch/index.php/s/sHjzCNFTFxutYCj/download -O data/SingleElectronPt50_IMGCROPS_n249k_RHv1.hdf5\n",
        "!wget https://cernbox.cern.ch/index.php/s/69nGEZjOy3xGxBq/download -O data/SinglePhotonPt50_IMGCROPS_n249k_RHv1.hdf5"
      ]
    },
    {
      "cell_type": "markdown",
      "metadata": {
        "id": "BepRE7pn8Du7"
      },
      "source": [
        "# Import modules"
      ]
    },
    {
      "cell_type": "code",
      "execution_count": 5,
      "metadata": {
        "id": "ZnLzC5paz0hb"
      },
      "outputs": [],
      "source": [
        "import numpy as np\n",
        "np.random.seed(1337)  # for reproducibility\n",
        "import h5py\n",
        "from keras.models import Sequential\n",
        "from keras.initializers import TruncatedNormal\n",
        "from keras.layers import Input, Dense, Dropout, Flatten, Conv2D, MaxPooling2D\n",
        "from keras.callbacks import ReduceLROnPlateau\n",
        "\n",
        "from sklearn.metrics import roc_curve, auc\n",
        "\n",
        "import matplotlib.pyplot as plt"
      ]
    },
    {
      "cell_type": "code",
      "execution_count": 6,
      "metadata": {
        "id": "sBTYu-vj5mfa",
        "colab": {
          "base_uri": "https://localhost:8080/"
        },
        "outputId": "947f2366-ac9d-4296-e0ab-fcac5e51711a"
      },
      "outputs": [
        {
          "output_type": "execute_result",
          "data": {
            "text/plain": [
              "[PhysicalDevice(name='/physical_device:GPU:0', device_type='GPU')]"
            ]
          },
          "metadata": {},
          "execution_count": 6
        }
      ],
      "source": [
        "import tensorflow as tf\n",
        "tf.config.list_physical_devices('GPU')"
      ]
    },
    {
      "cell_type": "markdown",
      "metadata": {
        "id": "Az_MoJwZ8K6l"
      },
      "source": [
        "# Keras Model Parameters"
      ]
    },
    {
      "cell_type": "code",
      "execution_count": 7,
      "metadata": {
        "id": "ZzF8AHl_4yUA"
      },
      "outputs": [],
      "source": [
        "rate_data   = .5\n",
        "lr_init     = 1.e-3    # Initial learning rate  \n",
        "batch_size  = 64       # Training batch size\n",
        "train_size  = int(160000*rate_data)   # Training size, max is 160000\n",
        "valid_size  = int(44800*rate_data)    # Validation size, max is 44800\n",
        "test_size   = 1024     # Test size\n",
        "epochs      = 25       # Number of epochs"
      ]
    },
    {
      "cell_type": "markdown",
      "metadata": {
        "id": "_jX_l-WmplJx"
      },
      "source": [
        "It is recommended to use GPU for training and inference if possible."
      ]
    },
    {
      "cell_type": "markdown",
      "metadata": {
        "id": "xwc56kXJ8TLo"
      },
      "source": [
        "# Load Image Data\n",
        "- Two classes of particles: electrons and photons\n",
        "- 32x32 matrices (two channels - hit energy and time) for the two classes of particles electrons and photons impinging on a calorimeter (one calorimetric cell = one pixel).\n",
        "- Note that although timing channel is provided, it may not necessarily help the performance of the model."
      ]
    },
    {
      "cell_type": "code",
      "execution_count": 8,
      "metadata": {
        "id": "kr4QIMlt424u"
      },
      "outputs": [],
      "source": [
        "img_rows, img_cols, nb_channels = 32, 32, 2        \n",
        "input_dir = 'data'\n",
        "decays = ['SinglePhotonPt50_IMGCROPS_n249k_RHv1', 'SingleElectronPt50_IMGCROPS_n249k_RHv1']\n",
        "\n",
        "def load_data(decays, start, stop):\n",
        "    global input_dir\n",
        "    dsets = [h5py.File('%s/%s.hdf5'%(input_dir,decay)) for decay in decays]\n",
        "    X = np.concatenate([dset['/X'][start:stop] for dset in dsets])\n",
        "    y = np.concatenate([dset['/y'][start:stop] for dset in dsets])\n",
        "    assert len(X) == len(y)\n",
        "    return X, y"
      ]
    },
    {
      "cell_type": "markdown",
      "metadata": {
        "id": "-JpHCOf38fDL"
      },
      "source": [
        "# Configure Training / Validation / Test Sets"
      ]
    },
    {
      "cell_type": "code",
      "execution_count": 9,
      "metadata": {
        "id": "-RTXS58x46Fq"
      },
      "outputs": [],
      "source": [
        "# Set range of training set\n",
        "train_start, train_stop = 0, train_size\n",
        "assert train_stop > train_start\n",
        "assert (len(decays)*train_size) % batch_size == 0\n",
        "X_train, y_train = load_data(decays,train_start,train_stop)\n",
        "\n",
        "# Set range of validation set\n",
        "valid_start, valid_stop = 160000, 160000+valid_size\n",
        "assert valid_stop  >  valid_start\n",
        "assert valid_start >= train_stop\n",
        "X_valid, y_valid = load_data(decays,valid_start,valid_stop)\n",
        "\n",
        "# Set range of test set\n",
        "test_start, test_stop = 204800, 204800+test_size\n",
        "assert test_stop  >  test_start\n",
        "assert test_start >= valid_stop\n",
        "X_test, y_test = load_data(decays,test_start,test_stop)\n",
        "\n",
        "samples_requested = len(decays) * (train_size + valid_size + test_size)\n",
        "samples_available = len(y_train) + len(y_valid) + len(y_test)\n",
        "assert samples_requested == samples_available\n"
      ]
    },
    {
      "cell_type": "markdown",
      "metadata": {
        "id": "UTFIMRnL8w41"
      },
      "source": [
        "# Plot sample of training images\n",
        "Note that although the timing channel is provided, it may not necessarily help the performance of the model."
      ]
    },
    {
      "cell_type": "code",
      "execution_count": 10,
      "metadata": {
        "id": "e_IDs16U52-C",
        "colab": {
          "base_uri": "https://localhost:8080/",
          "height": 163
        },
        "outputId": "2d2f3468-2df3-4baa-f9e0-f62a57ab3a28"
      },
      "outputs": [
        {
          "output_type": "display_data",
          "data": {
            "text/plain": [
              "<Figure size 432x288 with 2 Axes>"
            ],
            "image/png": "[encoded data removed]"
          },
          "metadata": {
            "needs_background": "light"
          }
        }
      ],
      "source": [
        "plt.figure(1)\n",
        "\n",
        "plt.subplot(221)\n",
        "plt.imshow(X_train[1,:,:,0])\n",
        "plt.title(\"Channel 0: Energy\")  # Energy\n",
        "plt.grid(True)\n",
        "\n",
        "plt.subplot(222)\n",
        "plt.imshow(X_train[1,:,:,1])\n",
        "plt.title(\"Channel 1: Time\")  # Time\n",
        "plt.grid(True)\n",
        "\n",
        "\n",
        "plt.show()"
      ]
    },
    {
      "cell_type": "markdown",
      "metadata": {
        "id": "ke_NQLiz83jZ"
      },
      "source": [
        "# Define CNN Model\n",
        "This is a sample model. You can experiment with the model and try various architectures and other models to achieve the highest possible performance.  "
      ]
    },
    {
      "cell_type": "code",
      "execution_count": 11,
      "metadata": {
        "id": "OlIJuxXG7KDk"
      },
      "outputs": [],
      "source": [
        "### Define Convolutional Neural Network (CNN) Model ###\n",
        "def build_model(hp):\n",
        "  model = Sequential()\n",
        "  model.add(Conv2D(hp.Int(\"filters\", 16, 256, step=16), activation='relu', kernel_size=3, padding='same', kernel_initializer='TruncatedNormal', input_shape=(img_rows, img_cols, nb_channels)))\n",
        "  model.add(Conv2D(hp.Int(\"filters\", 16, 256, step=16), activation='relu', kernel_size=3, padding='same', kernel_initializer='TruncatedNormal'))\n",
        "  model.add(MaxPooling2D(pool_size=(2, 2)))\n",
        "  model.add(Conv2D(2*hp.Int(\"filters\", 16, 256, step=16), activation='relu', kernel_size=3, padding='same', kernel_initializer='TruncatedNormal'))\n",
        "  model.add(Conv2D(2*hp.Int(\"filters\", 16, 256, step=16), activation='relu', kernel_size=3, padding='same', kernel_initializer='TruncatedNormal'))\n",
        "  model.add(MaxPooling2D(pool_size=(2, 2)))\n",
        "  model.add(Flatten())\n",
        "  model.add(keras.layers.BatchNormalization())\n",
        "  model.add(Dense(units=3*hp.Int(\"units\", 128, 512, step=32), activation='elu', kernel_initializer='TruncatedNormal'))\n",
        "  model.add(Dropout(0.5))\n",
        "  model.add(keras.layers.BatchNormalization())\n",
        "  model.add(Dense(units=2*hp.Int(\"units\", 128, 512, step=32), activation='elu', kernel_initializer='TruncatedNormal'))\n",
        "  model.add(Dropout(0.25))\n",
        "  model.add(keras.layers.BatchNormalization())\n",
        "  model.add(Dense(units=hp.Int(\"units\", 128, 512, step=32), activation='elu', kernel_initializer='TruncatedNormal'))\n",
        "  model.add(Dropout(0.2))\n",
        "  model.add(Dense(1, activation='sigmoid', kernel_initializer='TruncatedNormal'))\n",
        "  model.compile(loss='binary_crossentropy', optimizer=\"adam\", metrics=['accuracy'])\n",
        "\n",
        "  return model\n"
      ]
    },
    {
      "cell_type": "code",
      "source": [
        "# Initialize the `HyperParameters` and set the values.\n",
        "!pip install -q -U keras-tuner\n",
        "import keras_tuner as kt\n",
        "from tensorflow import keras\n",
        "from tensorflow.keras import layers\n",
        "\n",
        "hp = kt.HyperParameters()\n",
        "model = build_model(hp)\n",
        "model.summary()"
      ],
      "metadata": {
        "id": "l-1vmaS8BugZ",
        "colab": {
          "base_uri": "https://localhost:8080/"
        },
        "outputId": "df7ddc38-9d53-4193-f262-bb4473aa3297"
      },
      "execution_count": 12,
      "outputs": [
        {
          "output_type": "stream",
          "name": "stdout",
          "text": [
            "\u001b[?25l\r\u001b[K     |██▌                             | 10 kB 25.5 MB/s eta 0:00:01\r\u001b[K     |█████                           | 20 kB 29.4 MB/s eta 0:00:01\r\u001b[K     |███████▍                        | 30 kB 11.9 MB/s eta 0:00:01\r\u001b[K     |█████████▉                      | 40 kB 4.6 MB/s eta 0:00:01\r\u001b[K     |████████████▎                   | 51 kB 4.4 MB/s eta 0:00:01\r\u001b[K     |██████████████▊                 | 61 kB 5.2 MB/s eta 0:00:01\r\u001b[K     |█████████████████▏              | 71 kB 5.8 MB/s eta 0:00:01\r\u001b[K     |███████████████████▋            | 81 kB 4.3 MB/s eta 0:00:01\r\u001b[K     |██████████████████████          | 92 kB 4.8 MB/s eta 0:00:01\r\u001b[K     |████████████████████████▌       | 102 kB 5.3 MB/s eta 0:00:01\r\u001b[K     |███████████████████████████     | 112 kB 5.3 MB/s eta 0:00:01\r\u001b[K     |█████████████████████████████▍  | 122 kB 5.3 MB/s eta 0:00:01\r\u001b[K     |███████████████████████████████▉| 133 kB 5.3 MB/s eta 0:00:01\r\u001b[K     |████████████████████████████████| 133 kB 5.3 MB/s \n",
            "\u001b[?25hModel: \"sequential\"\n",
            "_________________________________________________________________\n",
            " Layer (type)                Output Shape              Param #   \n",
            "=================================================================\n",
            " conv2d (Conv2D)             (None, 32, 32, 16)        304       \n",
            "                                                                 \n",
            " conv2d_1 (Conv2D)           (None, 32, 32, 16)        2320      \n",
            "                                                                 \n",
            " max_pooling2d (MaxPooling2D  (None, 16, 16, 16)       0         \n",
            " )                                                               \n",
            "                                                                 \n",
            " conv2d_2 (Conv2D)           (None, 16, 16, 32)        4640      \n",
            "                                                                 \n",
            " conv2d_3 (Conv2D)           (None, 16, 16, 32)        9248      \n",
            "                                                                 \n",
            " max_pooling2d_1 (MaxPooling  (None, 8, 8, 32)         0         \n",
            " 2D)                                                             \n",
            "                                                                 \n",
            " flatten (Flatten)           (None, 2048)              0         \n",
            "                                                                 \n",
            " batch_normalization (BatchN  (None, 2048)             8192      \n",
            " ormalization)                                                   \n",
            "                                                                 \n",
            " dense (Dense)               (None, 384)               786816    \n",
            "                                                                 \n",
            " dropout (Dropout)           (None, 384)               0         \n",
            "                                                                 \n",
            " batch_normalization_1 (Batc  (None, 384)              1536      \n",
            " hNormalization)                                                 \n",
            "                                                                 \n",
            " dense_1 (Dense)             (None, 256)               98560     \n",
            "                                                                 \n",
            " dropout_1 (Dropout)         (None, 256)               0         \n",
            "                                                                 \n",
            " batch_normalization_2 (Batc  (None, 256)              1024      \n",
            " hNormalization)                                                 \n",
            "                                                                 \n",
            " dense_2 (Dense)             (None, 128)               32896     \n",
            "                                                                 \n",
            " dropout_2 (Dropout)         (None, 128)               0         \n",
            "                                                                 \n",
            " dense_3 (Dense)             (None, 1)                 129       \n",
            "                                                                 \n",
            "=================================================================\n",
            "Total params: 945,665\n",
            "Trainable params: 940,289\n",
            "Non-trainable params: 5,376\n",
            "_________________________________________________________________\n"
          ]
        }
      ]
    },
    {
      "cell_type": "code",
      "source": [
        "tuner = kt.RandomSearch(\n",
        "    build_model,\n",
        "    max_trials=10,\n",
        "    # Do not resume the previous search in the same directory.\n",
        "    overwrite=True,\n",
        "    objective=\"val_accuracy\",\n",
        "    # Set a directory to store the intermediate results.\n",
        "    directory=\"/tmp/tb\",\n",
        ")\n"
      ],
      "metadata": {
        "id": "MlONP9cZB2XW"
      },
      "execution_count": 13,
      "outputs": []
    },
    {
      "cell_type": "code",
      "source": [
        "tuner.search(\n",
        "    X_train,\n",
        "    y_train,shuffle=True,\n",
        "    validation_data=(X_valid, y_valid),\n",
        "    epochs=2,\n",
        "    # Use the TensorBoard callback.\n",
        "    # The logs will be write to \"/tmp/tb_logs\".\n",
        "    callbacks=[keras.callbacks.TensorBoard(\"/tmp/tb_logs\")],\n",
        ")"
      ],
      "metadata": {
        "id": "440hKlTZB6EW",
        "colab": {
          "base_uri": "https://localhost:8080/"
        },
        "outputId": "88420de6-cae1-4935-a46b-3bb57a086969"
      },
      "execution_count": 14,
      "outputs": [
        {
          "output_type": "stream",
          "name": "stdout",
          "text": [
            "Trial 10 Complete [00h 09m 03s]\n",
            "val_accuracy: 0.5\n",
            "\n",
            "Best val_accuracy So Far: 0.5107142925262451\n",
            "Total elapsed time: 01h 44m 17s\n",
            "INFO:tensorflow:Oracle triggered exit\n"
          ]
        }
      ]
    },
    {
      "cell_type": "code",
      "source": [
        "best_hps=tuner.get_best_hyperparameters(num_trials=1)[0]"
      ],
      "metadata": {
        "id": "S9pKdR4cCTIE"
      },
      "execution_count": 15,
      "outputs": []
    },
    {
      "cell_type": "markdown",
      "metadata": {
        "id": "bsQWFD0M86pA"
      },
      "source": [
        "## Train the Model\n",
        "You may further optimize the model, tune hyper-parameters, etc. accordingly to achieve the best performance possible."
      ]
    },
    {
      "cell_type": "code",
      "execution_count": 16,
      "metadata": {
        "id": "ZGuyM25L7uc0",
        "colab": {
          "base_uri": "https://localhost:8080/"
        },
        "outputId": "0a02c92f-cad7-4036-ea0d-15f6d6a0dfdf"
      },
      "outputs": [
        {
          "output_type": "stream",
          "name": "stdout",
          "text": [
            "Epoch 1/25\n",
            "2500/2500 [==============================] - 96s 38ms/step - loss: 0.6329 - accuracy: 0.6485 - val_loss: 3.2502 - val_accuracy: 0.5000 - lr: 0.0010\n",
            "Epoch 2/25\n",
            "2500/2500 [==============================] - 95s 38ms/step - loss: 0.5804 - accuracy: 0.7047 - val_loss: 1.3512 - val_accuracy: 0.5000 - lr: 0.0010\n",
            "Epoch 3/25\n",
            "2500/2500 [==============================] - 94s 38ms/step - loss: 0.5729 - accuracy: 0.7107 - val_loss: 1.5258 - val_accuracy: 0.5000 - lr: 0.0010\n",
            "Epoch 4/25\n",
            "2500/2500 [==============================] - 94s 38ms/step - loss: 0.5675 - accuracy: 0.7158 - val_loss: 3.9129 - val_accuracy: 0.5000 - lr: 0.0010\n",
            "Epoch 5/25\n",
            "2500/2500 [==============================] - 94s 38ms/step - loss: 0.5504 - accuracy: 0.7272 - val_loss: 2.7630 - val_accuracy: 0.5000 - lr: 2.0000e-04\n",
            "Epoch 6/25\n",
            "2500/2500 [==============================] - 94s 38ms/step - loss: 0.5462 - accuracy: 0.7290 - val_loss: 2.5784 - val_accuracy: 0.5000 - lr: 2.0000e-04\n",
            "Epoch 7/25\n",
            "2500/2500 [==============================] - 91s 36ms/step - loss: 0.5408 - accuracy: 0.7342 - val_loss: 0.5977 - val_accuracy: 0.6772 - lr: 4.0000e-05\n",
            "Epoch 8/25\n",
            "2500/2500 [==============================] - 94s 38ms/step - loss: 0.5391 - accuracy: 0.7346 - val_loss: 0.5429 - val_accuracy: 0.7322 - lr: 4.0000e-05\n",
            "Epoch 9/25\n",
            "2500/2500 [==============================] - 94s 38ms/step - loss: 0.5378 - accuracy: 0.7348 - val_loss: 0.5708 - val_accuracy: 0.7101 - lr: 4.0000e-05\n",
            "Epoch 10/25\n",
            "2500/2500 [==============================] - 94s 38ms/step - loss: 0.5375 - accuracy: 0.7362 - val_loss: 0.5498 - val_accuracy: 0.7279 - lr: 4.0000e-05\n",
            "Epoch 11/25\n",
            "2500/2500 [==============================] - 91s 36ms/step - loss: 0.5361 - accuracy: 0.7368 - val_loss: 0.5420 - val_accuracy: 0.7328 - lr: 8.0000e-06\n",
            "Epoch 12/25\n",
            "2500/2500 [==============================] - 91s 36ms/step - loss: 0.5358 - accuracy: 0.7369 - val_loss: 0.5599 - val_accuracy: 0.7163 - lr: 8.0000e-06\n",
            "Epoch 13/25\n",
            "2500/2500 [==============================] - 94s 38ms/step - loss: 0.5356 - accuracy: 0.7371 - val_loss: 0.5547 - val_accuracy: 0.7207 - lr: 8.0000e-06\n",
            "Epoch 14/25\n",
            "2500/2500 [==============================] - 91s 36ms/step - loss: 0.5356 - accuracy: 0.7371 - val_loss: 0.5410 - val_accuracy: 0.7328 - lr: 1.6000e-06\n",
            "Epoch 15/25\n",
            "2500/2500 [==============================] - 91s 36ms/step - loss: 0.5351 - accuracy: 0.7374 - val_loss: 0.5409 - val_accuracy: 0.7334 - lr: 1.6000e-06\n",
            "Epoch 16/25\n",
            "2500/2500 [==============================] - 94s 38ms/step - loss: 0.5350 - accuracy: 0.7374 - val_loss: 0.5421 - val_accuracy: 0.7315 - lr: 1.6000e-06\n",
            "Epoch 17/25\n",
            "2500/2500 [==============================] - 91s 36ms/step - loss: 0.5345 - accuracy: 0.7375 - val_loss: 0.5410 - val_accuracy: 0.7331 - lr: 1.0000e-06\n",
            "Epoch 18/25\n",
            "2500/2500 [==============================] - 91s 36ms/step - loss: 0.5350 - accuracy: 0.7377 - val_loss: 0.5407 - val_accuracy: 0.7333 - lr: 1.0000e-06\n",
            "Epoch 19/25\n",
            "2500/2500 [==============================] - 94s 38ms/step - loss: 0.5355 - accuracy: 0.7370 - val_loss: 0.5406 - val_accuracy: 0.7337 - lr: 1.0000e-06\n",
            "Epoch 20/25\n",
            "2500/2500 [==============================] - 91s 36ms/step - loss: 0.5348 - accuracy: 0.7379 - val_loss: 0.5415 - val_accuracy: 0.7328 - lr: 1.0000e-06\n",
            "Epoch 21/25\n",
            "2500/2500 [==============================] - 91s 36ms/step - loss: 0.5351 - accuracy: 0.7372 - val_loss: 0.5406 - val_accuracy: 0.7336 - lr: 1.0000e-06\n",
            "Epoch 22/25\n",
            "2500/2500 [==============================] - 94s 38ms/step - loss: 0.5354 - accuracy: 0.7369 - val_loss: 0.5408 - val_accuracy: 0.7332 - lr: 1.0000e-06\n",
            "Epoch 23/25\n",
            "2500/2500 [==============================] - 91s 36ms/step - loss: 0.5348 - accuracy: 0.7366 - val_loss: 0.5406 - val_accuracy: 0.7331 - lr: 1.0000e-06\n",
            "Epoch 24/25\n",
            "2500/2500 [==============================] - 95s 38ms/step - loss: 0.5347 - accuracy: 0.7370 - val_loss: 0.5408 - val_accuracy: 0.7332 - lr: 1.0000e-06\n",
            "Epoch 25/25\n",
            "2500/2500 [==============================] - 91s 36ms/step - loss: 0.5346 - accuracy: 0.7371 - val_loss: 0.5407 - val_accuracy: 0.7333 - lr: 1.0000e-06\n",
            "Best epoch: 19\n"
          ]
        }
      ],
      "source": [
        "reduce_lr = ReduceLROnPlateau(monitor='val_loss', factor=0.2, patience=2, min_lr=1.e-6)\n",
        "\n",
        "model = tuner.hypermodel.build(best_hps)\n",
        "history=model.fit(X_train, y_train,\\\n",
        "        batch_size=batch_size,\\\n",
        "        epochs=epochs,\\\n",
        "        callbacks=[reduce_lr],\\\n",
        "        validation_data=(X_valid, y_valid),\\\n",
        "        verbose=1, shuffle=True)\n",
        "\n",
        "val_acc_per_epoch = history.history['val_accuracy']\n",
        "best_epoch = val_acc_per_epoch.index(max(val_acc_per_epoch)) + 1\n",
        "print('Best epoch: %d' % (best_epoch,))"
      ]
    },
    {
      "cell_type": "code",
      "source": [
        "hypermodel = tuner.hypermodel.build(best_hps)\n",
        "\n",
        "# Retrain the model\n",
        "hypermodel.fit(X_train, y_train, epochs=best_epoch, batch_size=batch_size, validation_data=(X_valid, y_valid),callbacks=[reduce_lr])\n"
      ],
      "metadata": {
        "id": "Yn4D3xVFCsfK",
        "colab": {
          "base_uri": "https://localhost:8080/"
        },
        "outputId": "52b01414-f4a1-4738-e22c-1f3143c0957b"
      },
      "execution_count": 17,
      "outputs": [
        {
          "output_type": "stream",
          "name": "stdout",
          "text": [
            "Epoch 1/19\n",
            "2500/2500 [==============================] - 92s 36ms/step - loss: 0.6314 - accuracy: 0.6491 - val_loss: 2.3181 - val_accuracy: 0.5000 - lr: 0.0010\n",
            "Epoch 2/19\n",
            "2500/2500 [==============================] - 91s 36ms/step - loss: 0.5802 - accuracy: 0.7045 - val_loss: 0.9551 - val_accuracy: 0.5000 - lr: 0.0010\n",
            "Epoch 3/19\n",
            "2500/2500 [==============================] - 91s 36ms/step - loss: 0.5725 - accuracy: 0.7111 - val_loss: 2.6601 - val_accuracy: 0.5000 - lr: 0.0010\n",
            "Epoch 4/19\n",
            "2500/2500 [==============================] - 91s 36ms/step - loss: 0.5672 - accuracy: 0.7147 - val_loss: 3.8017 - val_accuracy: 0.5000 - lr: 0.0010\n",
            "Epoch 5/19\n",
            "2500/2500 [==============================] - 94s 38ms/step - loss: 0.5498 - accuracy: 0.7259 - val_loss: 0.7911 - val_accuracy: 0.5269 - lr: 2.0000e-04\n",
            "Epoch 6/19\n",
            "2500/2500 [==============================] - 91s 36ms/step - loss: 0.5465 - accuracy: 0.7291 - val_loss: 0.8616 - val_accuracy: 0.5010 - lr: 2.0000e-04\n",
            "Epoch 7/19\n",
            "2500/2500 [==============================] - 94s 38ms/step - loss: 0.5429 - accuracy: 0.7319 - val_loss: 0.7045 - val_accuracy: 0.5027 - lr: 2.0000e-04\n",
            "Epoch 8/19\n",
            "2500/2500 [==============================] - 91s 36ms/step - loss: 0.5404 - accuracy: 0.7329 - val_loss: 0.6991 - val_accuracy: 0.5099 - lr: 2.0000e-04\n",
            "Epoch 9/19\n",
            "2500/2500 [==============================] - 91s 36ms/step - loss: 0.5385 - accuracy: 0.7344 - val_loss: 0.6701 - val_accuracy: 0.6456 - lr: 2.0000e-04\n",
            "Epoch 10/19\n",
            "2500/2500 [==============================] - 91s 36ms/step - loss: 0.5353 - accuracy: 0.7370 - val_loss: 0.6154 - val_accuracy: 0.6559 - lr: 2.0000e-04\n",
            "Epoch 11/19\n",
            "2500/2500 [==============================] - 91s 36ms/step - loss: 0.5338 - accuracy: 0.7380 - val_loss: 0.5901 - val_accuracy: 0.6942 - lr: 2.0000e-04\n",
            "Epoch 12/19\n",
            "2500/2500 [==============================] - 91s 36ms/step - loss: 0.5308 - accuracy: 0.7398 - val_loss: 0.7206 - val_accuracy: 0.5250 - lr: 2.0000e-04\n",
            "Epoch 13/19\n",
            "2500/2500 [==============================] - 94s 38ms/step - loss: 0.5292 - accuracy: 0.7412 - val_loss: 0.6381 - val_accuracy: 0.6743 - lr: 2.0000e-04\n",
            "Epoch 14/19\n",
            "2500/2500 [==============================] - 97s 39ms/step - loss: 0.5207 - accuracy: 0.7456 - val_loss: 0.5550 - val_accuracy: 0.7258 - lr: 4.0000e-05\n",
            "Epoch 15/19\n",
            "2500/2500 [==============================] - 96s 39ms/step - loss: 0.5185 - accuracy: 0.7478 - val_loss: 0.6329 - val_accuracy: 0.6817 - lr: 4.0000e-05\n",
            "Epoch 16/19\n",
            "2500/2500 [==============================] - 92s 37ms/step - loss: 0.5173 - accuracy: 0.7471 - val_loss: 0.5826 - val_accuracy: 0.7113 - lr: 4.0000e-05\n",
            "Epoch 17/19\n",
            "2500/2500 [==============================] - 92s 37ms/step - loss: 0.5152 - accuracy: 0.7502 - val_loss: 0.5465 - val_accuracy: 0.7290 - lr: 8.0000e-06\n",
            "Epoch 18/19\n",
            "2500/2500 [==============================] - 91s 36ms/step - loss: 0.5148 - accuracy: 0.7493 - val_loss: 0.5494 - val_accuracy: 0.7271 - lr: 8.0000e-06\n",
            "Epoch 19/19\n",
            "2500/2500 [==============================] - 94s 38ms/step - loss: 0.5144 - accuracy: 0.7505 - val_loss: 0.5492 - val_accuracy: 0.7278 - lr: 8.0000e-06\n"
          ]
        },
        {
          "output_type": "execute_result",
          "data": {
            "text/plain": [
              "<keras.callbacks.History at 0x7efc26342290>"
            ]
          },
          "metadata": {},
          "execution_count": 17
        }
      ]
    },
    {
      "cell_type": "code",
      "source": [
        "hypermodel.summary()"
      ],
      "metadata": {
        "id": "PBaigO1CnPTK",
        "colab": {
          "base_uri": "https://localhost:8080/"
        },
        "outputId": "0ab81436-0be0-4a94-aae5-fcefc059e2ba"
      },
      "execution_count": 18,
      "outputs": [
        {
          "output_type": "stream",
          "name": "stdout",
          "text": [
            "Model: \"sequential_2\"\n",
            "_________________________________________________________________\n",
            " Layer (type)                Output Shape              Param #   \n",
            "=================================================================\n",
            " conv2d_8 (Conv2D)           (None, 32, 32, 64)        1216      \n",
            "                                                                 \n",
            " conv2d_9 (Conv2D)           (None, 32, 32, 64)        36928     \n",
            "                                                                 \n",
            " max_pooling2d_4 (MaxPooling  (None, 16, 16, 64)       0         \n",
            " 2D)                                                             \n",
            "                                                                 \n",
            " conv2d_10 (Conv2D)          (None, 16, 16, 128)       73856     \n",
            "                                                                 \n",
            " conv2d_11 (Conv2D)          (None, 16, 16, 128)       147584    \n",
            "                                                                 \n",
            " max_pooling2d_5 (MaxPooling  (None, 8, 8, 128)        0         \n",
            " 2D)                                                             \n",
            "                                                                 \n",
            " flatten_2 (Flatten)         (None, 8192)              0         \n",
            "                                                                 \n",
            " batch_normalization_6 (Batc  (None, 8192)             32768     \n",
            " hNormalization)                                                 \n",
            "                                                                 \n",
            " dense_8 (Dense)             (None, 960)               7865280   \n",
            "                                                                 \n",
            " dropout_6 (Dropout)         (None, 960)               0         \n",
            "                                                                 \n",
            " batch_normalization_7 (Batc  (None, 960)              3840      \n",
            " hNormalization)                                                 \n",
            "                                                                 \n",
            " dense_9 (Dense)             (None, 640)               615040    \n",
            "                                                                 \n",
            " dropout_7 (Dropout)         (None, 640)               0         \n",
            "                                                                 \n",
            " batch_normalization_8 (Batc  (None, 640)              2560      \n",
            " hNormalization)                                                 \n",
            "                                                                 \n",
            " dense_10 (Dense)            (None, 320)               205120    \n",
            "                                                                 \n",
            " dropout_8 (Dropout)         (None, 320)               0         \n",
            "                                                                 \n",
            " dense_11 (Dense)            (None, 1)                 321       \n",
            "                                                                 \n",
            "=================================================================\n",
            "Total params: 8,984,513\n",
            "Trainable params: 8,964,929\n",
            "Non-trainable params: 19,584\n",
            "_________________________________________________________________\n"
          ]
        }
      ]
    },
    {
      "cell_type": "markdown",
      "metadata": {
        "id": "oLoN43278_-j"
      },
      "source": [
        "## Evaluate the Model  \n",
        "Along with the model accuracy, the prefered metric for evaluation is ROC (Receiver Operating Characteristic) curve and the AUC score (Area under the ROC Curve)."
      ]
    },
    {
      "cell_type": "code",
      "execution_count": 19,
      "metadata": {
        "id": "ekuQLYas7xh5",
        "colab": {
          "base_uri": "https://localhost:8080/"
        },
        "outputId": "a716084b-2a7b-446a-e4bf-3421cb5938a4"
      },
      "outputs": [
        {
          "output_type": "stream",
          "name": "stdout",
          "text": [
            "1400/1400 [==============================] - 13s 9ms/step - loss: 0.5492 - accuracy: 0.7278\n",
            "\n",
            "Validation loss / accuracy: 0.5492 / 0.7278\n",
            "Validation ROC AUC: 0.7970362922512756\n",
            "64/64 [==============================] - 1s 8ms/step - loss: 0.5526 - accuracy: 0.7227\n",
            "\n",
            "Test loss / accuracy: 0.5526 / 0.7227\n",
            "Test ROC AUC: 0.7929801940917969\n"
          ]
        }
      ],
      "source": [
        "# Evaluate on validation set\n",
        "score = hypermodel.evaluate(X_valid, y_valid, verbose=1)\n",
        "print('\\nValidation loss / accuracy: %0.4f / %0.4f'%(score[0], score[1]))\n",
        "y_pred = hypermodel.predict(X_valid)\n",
        "fpr, tpr, _ = roc_curve(y_valid, y_pred)\n",
        "roc_auc = auc(fpr, tpr)\n",
        "print('Validation ROC AUC:', roc_auc)\n",
        "\n",
        "# Evaluate on test set\n",
        "score = hypermodel.evaluate(X_test, y_test, verbose=1)\n",
        "print('\\nTest loss / accuracy: %0.4f / %0.4f'%(score[0], score[1]))\n",
        "y_pred = hypermodel.predict(X_test)\n",
        "fpr, tpr, _ = roc_curve(y_test, y_pred)\n",
        "roc_auc = auc(fpr, tpr)\n",
        "print('Test ROC AUC:', roc_auc)"
      ]
    },
    {
      "cell_type": "code",
      "execution_count": 20,
      "metadata": {
        "id": "kmSRYI0R72Wn",
        "colab": {
          "base_uri": "https://localhost:8080/",
          "height": 295
        },
        "outputId": "520bb773-0c4a-4dc7-a7b1-72f98192ac3b"
      },
      "outputs": [
        {
          "output_type": "display_data",
          "data": {
            "text/plain": [
              "<Figure size 432x288 with 1 Axes>"
            ],
            "image/png": "[encoded data removed]"
          },
          "metadata": {
            "needs_background": "light"
          }
        }
      ],
      "source": [
        "plt.plot([0, 1], [0, 1], 'k--')\n",
        "#plt.legend(loc=2, prop={'size': 15})\n",
        "plt.plot(fpr, tpr, label='Model 1 (ROC-AUC = {:.3f})'.format(roc_auc))\n",
        "plt.xlabel('False positive rate')\n",
        "plt.ylabel('True positive rate')\n",
        "plt.title('ROC curve')\n",
        "plt.legend(loc='best')\n",
        "plt.show()"
      ]
    },
    {
      "cell_type": "markdown",
      "metadata": {
        "id": "Nna7GkM45Y5w"
      },
      "source": [
        "# Submission format: \n",
        "Submit the Google Colab Jupyter Notebook demonstrating your solution in the similar format as illustrated in this notebook. It should contain:\n",
        "*   The final model architecture, parameters and hyper-parameters yielding the best possible performance,\n",
        "*   Its Training and Validation accuracy, \n",
        "*   ROC curve and the AUC score as shown above.\n",
        "*   Also, please submit the final trained model containing the model architecture and its trained weights along with this notebook (For example: HDF5 file, .pb file, .pt file, etc.). Either in this notebook or in a separate notebook show how to load and use your model."
      ]
    },
    {
      "cell_type": "markdown",
      "metadata": {
        "id": "tph19i6Z5mfk"
      },
      "source": [
        ""
      ]
    },
    {
      "cell_type": "markdown",
      "source": [
        "Save the training model Neural Network in .h5 file "
      ],
      "metadata": {
        "id": "7DRnOuMk78oo"
      }
    },
    {
      "cell_type": "code",
      "source": [
        "from keras.models import load_model,save\n",
        "# save the model\n",
        "hypermodel.save(\"hypermodel.h5\")\n",
        "# load the model\n",
        "reconstructed_model = tf.keras.models.load_model(\"hypermodel.h5\")"
      ],
      "metadata": {
        "id": "B_HsrgBQJ-eL"
      },
      "execution_count": 21,
      "outputs": []
    },
    {
      "cell_type": "markdown",
      "source": [
        "Open .h5 file"
      ],
      "metadata": {
        "id": "O_FpMg4J8FdV"
      }
    },
    {
      "cell_type": "code",
      "source": [
        "reconstructed_model.evaluate(X_test,y_test)"
      ],
      "metadata": {
        "id": "5dhFebuf8IOz",
        "colab": {
          "base_uri": "https://localhost:8080/"
        },
        "outputId": "fff31a1e-2ed9-46fb-f5aa-d197f563e824"
      },
      "execution_count": 22,
      "outputs": [
        {
          "output_type": "stream",
          "name": "stdout",
          "text": [
            "64/64 [==============================] - 1s 8ms/step - loss: 0.5526 - accuracy: 0.7227\n"
          ]
        },
        {
          "output_type": "execute_result",
          "data": {
            "text/plain": [
              "[0.5525511503219604, 0.72265625]"
            ]
          },
          "metadata": {},
          "execution_count": 22
        }
      ]
    }
  ],
  "metadata": {
    "accelerator": "GPU",
    "colab": {
      "collapsed_sections": [],
      "name": "ParticleImages.ipynb",
      "provenance": [],
      "include_colab_link": true
    },
    "kernelspec": {
      "display_name": "Python 3",
      "name": "python3"
    },
    "language_info": {
      "codemirror_mode": {
        "name": "ipython",
        "version": 3
      },
      "file_extension": ".py",
      "mimetype": "text/x-python",
      "name": "python",
      "nbconvert_exporter": "python",
      "pygments_lexer": "ipython3",
      "version": "3.10.0"
    }
  },
  "nbformat": 4,
  "nbformat_minor": 0
}